{
  "nbformat": 4,
  "nbformat_minor": 0,
  "metadata": {
    "colab": {
      "provenance": [],
      "collapsed_sections": [
        "Sr2he3BokXPN",
        "G7UzICr5Tu5e",
        "x5mdtiUteZAA"
      ],
      "include_colab_link": true
    },
    "kernelspec": {
      "name": "python3",
      "display_name": "Python 3"
    },
    "language_info": {
      "name": "python"
    }
  },
  "cells": [
    {
      "cell_type": "markdown",
      "metadata": {
        "id": "view-in-github",
        "colab_type": "text"
      },
      "source": [
        "<a href=\"https://colab.research.google.com/github/lalithakre/Python-/blob/main/PythonLabPrograms.ipynb\" target=\"_parent\"><img src=\"https://colab.research.google.com/assets/colab-badge.svg\" alt=\"Open In Colab\"/></a>"
      ]
    },
    {
      "cell_type": "markdown",
      "source": [
        "#List of Experiments"
      ],
      "metadata": {
        "id": "-CDZaAPsrUcx"
      }
    },
    {
      "cell_type": "markdown",
      "source": [
        "Q. 1). Write a program to create, concatenate and print a string and accessing substring from a given string."
      ],
      "metadata": {
        "id": "BeqvQZNNrhkh"
      }
    },
    {
      "cell_type": "code",
      "source": [
        "print('**ARPIT PATEL**\\t\\t**0537CS201029**\\n')\n",
        "\n",
        "print('Enter the strings :- ')\n",
        "s1=input('String 1: ')\n",
        "s2=input('String 2: ')\n",
        "\n",
        "print('\\nConcatenating the strings: ',s1+s2)\n",
        "print('\\nAccesing the substring of string 1: ',s1[1:3])\n",
        "print('\\nAccesing the substring of string 2: ',s2[1:2])"
      ],
      "metadata": {
        "colab": {
          "base_uri": "https://localhost:8080/"
        },
        "id": "YZVH7ZTlrgn3",
        "outputId": "ab0a3541-ed27-47e9-fe34-ba99b02c29a0"
      },
      "execution_count": null,
      "outputs": [
        {
          "output_type": "stream",
          "name": "stdout",
          "text": [
            "**ARPIT PATEL**\t\t**0537CS201029**\n",
            "\n",
            "Enter the strings :- \n",
            "String 1: Arpit\n",
            "String 2: Patel\n",
            "\n",
            "Concatenating the strings:  ArpitPatel\n",
            "\n",
            "Accesing the substring of string 1:  rp\n",
            "\n",
            "Accesing the substring of string 2:  a\n"
          ]
        }
      ]
    },
    {
      "cell_type": "markdown",
      "source": [
        "Q. 2). Write a python script to print the current date in following format “Sun May 29 02:26:23 IST 2017”"
      ],
      "metadata": {
        "id": "2u_FnJS1r7Kj"
      }
    },
    {
      "cell_type": "code",
      "source": [
        "print('**ARPIT PATEL**\\t\\t**0537CS201029**\\n')\n",
        "\n",
        "import time; \n",
        "ltime=time.localtime();\n",
        "print(time.strftime(\"%a %b %d %H:%M:%S %Z %Y\",ltime)); "
      ],
      "metadata": {
        "colab": {
          "base_uri": "https://localhost:8080/"
        },
        "id": "xHiLzYMxsA3x",
        "outputId": "0893c103-f03b-467f-a2e1-b812ee34a10b"
      },
      "execution_count": null,
      "outputs": [
        {
          "output_type": "stream",
          "name": "stdout",
          "text": [
            "**ARPIT PATEL**\t\t**0537CS201029**\n",
            "\n",
            "Thu Nov 24 13:11:16 UTC 2022\n"
          ]
        }
      ]
    },
    {
      "cell_type": "markdown",
      "source": [
        "Q. 3). Write a python program to create a list, append an element in a list and remove a element from a lists "
      ],
      "metadata": {
        "id": "CePmfdG1sBXX"
      }
    },
    {
      "cell_type": "code",
      "source": [
        "print('**ARPIT PATEL**\\t\\t**0537CS201029**\\n')\n",
        "\n",
        "li=[]\n",
        "\n",
        "n1=int(input('Enter how many elements you want to add(append) : '))\n",
        "\n",
        "for i in range(n1):\n",
        "  ele=int(input())\n",
        "  li.append(ele)\n",
        "print(li)\n",
        "\n",
        "n2=int(input('\\nEnter how many elements you want to remove from the list : '))\n",
        "\n",
        "for i in range(n2):\n",
        "  ele=int(input())\n",
        "  li.remove(ele)\n",
        "print(li)"
      ],
      "metadata": {
        "colab": {
          "base_uri": "https://localhost:8080/"
        },
        "id": "Hs_VtwRAsG8J",
        "outputId": "dd5a5ff2-ab26-40a6-cc10-0a5eaccddcf0"
      },
      "execution_count": null,
      "outputs": [
        {
          "output_type": "stream",
          "name": "stdout",
          "text": [
            "**ARPIT PATEL**\t\t**0537CS201029**\n",
            "\n",
            "Enter how many elements you want to add(append) : 3\n",
            "1\n",
            "2\n",
            "3\n",
            "[1, 2, 3]\n",
            "\n",
            "Enter how many elements you want to remove from the list : 1\n",
            "2\n",
            "[1, 3]\n"
          ]
        }
      ]
    },
    {
      "cell_type": "markdown",
      "source": [
        "Q. 4). Write a program to create a dictionary in python, and then access elements of the dictionary using its key."
      ],
      "metadata": {
        "id": "S1ZwWPTSsHfz"
      }
    },
    {
      "cell_type": "code",
      "source": [
        "print('**ARPIT PATEL**\\t\\t**0537CS201029**\\n')\n",
        "\n",
        "data={'Arpit':8839361702,\n",
        "      'Arun':758184038,\n",
        "      'bharat':8839978338}\n",
        "\n",
        "data['Arpit']"
      ],
      "metadata": {
        "id": "DXL0Kb6IsN9z",
        "colab": {
          "base_uri": "https://localhost:8080/"
        },
        "outputId": "d4d96705-b640-401b-974f-6474a48df009"
      },
      "execution_count": null,
      "outputs": [
        {
          "output_type": "stream",
          "name": "stdout",
          "text": [
            "**ARPIT PATEL**\t\t**0537CS201029**\n",
            "\n"
          ]
        },
        {
          "output_type": "execute_result",
          "data": {
            "text/plain": [
              "8839361702"
            ]
          },
          "metadata": {},
          "execution_count": 8
        }
      ]
    },
    {
      "cell_type": "markdown",
      "source": [
        "Q. 5). Write a python program to find largest of three numbers"
      ],
      "metadata": {
        "id": "kXyo_c2isOWA"
      }
    },
    {
      "cell_type": "code",
      "source": [
        "print('**ARPIT PATEL**\\t\\t**0537CS201029**\\n')\n",
        "\n",
        "print('Enter the numbers :- ')\n",
        "num1=int(input('Number 1 : '))\n",
        "num2=int(input('Number 2 : '))\n",
        "num3=int(input('Number 3 : '))\n",
        "\n",
        "print('\\nOutput: ',end='')\n",
        "\n",
        "if num1==num2 and num2==num3:\n",
        "  print('All are equal')\n",
        "elif num1==num2:\n",
        "  if num1>num3:\n",
        "    print('Number 1 and Number 2 are greater')\n",
        "  else:\n",
        "    print('Number 3 is largest')\n",
        "elif num2==num3:\n",
        "  if num2>num1:\n",
        "    print('Number 2 and Number 3 are greater')\n",
        "  else:\n",
        "    print('Number 1 is largest')\n",
        "elif num1==num3:\n",
        "  if num1>num2:\n",
        "    print('Number 1 and Number 3 are greater')\n",
        "  else:\n",
        "    print('Number 2 is largest')\n",
        "else:\n",
        "  if num1>num2:\n",
        "    if num1>num3:\n",
        "      print('Number 1 is largest')\n",
        "    else:\n",
        "      print('Number 3 is largest')\n",
        "  else:\n",
        "    if num2>num3:\n",
        "      print('Number 2 is largest')\n",
        "    else:\n",
        "      print('Number 3 is largest')"
      ],
      "metadata": {
        "colab": {
          "base_uri": "https://localhost:8080/"
        },
        "id": "aqmQr1LFsSqt",
        "outputId": "9fdd115a-467d-4ac9-979f-442f0ce6963f"
      },
      "execution_count": null,
      "outputs": [
        {
          "output_type": "stream",
          "name": "stdout",
          "text": [
            "**ARPIT PATEL**\t\t**0537CS201029**\n",
            "\n",
            "Enter the numbers :- \n",
            "Number 1 : 2\n",
            "Number 2 : 9\n",
            "Number 3 : 6\n",
            "\n",
            "Output: Number 2 is largest\n"
          ]
        }
      ]
    },
    {
      "cell_type": "markdown",
      "source": [
        "Q. 6). Write a python program to print prime numbers less than 20"
      ],
      "metadata": {
        "id": "Id8i_QiPsTKd"
      }
    },
    {
      "cell_type": "code",
      "source": [
        "print('**ARPIT PATEL**\\t\\t**0537CS201029**\\n')\n",
        "\n",
        "flag=0\n",
        "\n",
        "print('Prime numbers are : ',end='')\n",
        "for i in range(2,20):\n",
        "  flag=0\n",
        "  for j in range(2,i):\n",
        "    if i%j==0:\n",
        "      flag=1\n",
        "      break;\n",
        "  if flag==0:\n",
        "    print(i,end=' ')"
      ],
      "metadata": {
        "colab": {
          "base_uri": "https://localhost:8080/"
        },
        "id": "uEgctV6isYca",
        "outputId": "23c36d4d-b294-49ac-f497-b5e4a9f8799d"
      },
      "execution_count": null,
      "outputs": [
        {
          "output_type": "stream",
          "name": "stdout",
          "text": [
            "**ARPIT PATEL**\t\t**0537CS201029**\n",
            "\n",
            "Prime numbers are : 2 3 5 7 11 13 17 19 "
          ]
        }
      ]
    },
    {
      "cell_type": "markdown",
      "source": [
        "Q. 7). Write a python program to find factorial of a number using recursion"
      ],
      "metadata": {
        "id": "Da-y2-o5sY03"
      }
    },
    {
      "cell_type": "code",
      "source": [
        "print('**ARPIT PATEL**\\t\\t**0537CS201029**\\n')\n",
        "\n",
        "def factorial(n):\n",
        "  if n==0 or n==1:\n",
        "    return 1\n",
        "  else:\n",
        "    return(n*factorial(n-1))\n",
        "\n",
        "n=int(input('Enter the number: '))\n",
        "print('\\nFactorial of {} is {}'.format(n,factorial(n)))"
      ],
      "metadata": {
        "id": "woadjE99sdG3",
        "colab": {
          "base_uri": "https://localhost:8080/"
        },
        "outputId": "21da2a76-0625-4f58-9605-0e665598349c"
      },
      "execution_count": null,
      "outputs": [
        {
          "output_type": "stream",
          "name": "stdout",
          "text": [
            "**ARPIT PATEL**\t\t**0537CS201029**\n",
            "\n",
            "Enter the number: 5\n",
            "\n",
            "Factorial of 5 is 120\n"
          ]
        }
      ]
    },
    {
      "cell_type": "markdown",
      "source": [
        "Q. 8). Write a function in python to reverse a string word by word."
      ],
      "metadata": {
        "id": "5xAvxUiesdks"
      }
    },
    {
      "cell_type": "code",
      "source": [
        "print('**ARPIT PATEL**\\t\\t**0537CS201029**\\n')\n",
        "\n",
        "def reverse(string):\n",
        "  li=[]\n",
        "  for i in reversed(range(len(string))):\n",
        "    li.append(string[i])\n",
        "  li=''.join(map(str,li))\n",
        "  return li\n",
        "\n",
        "string=input('Enter the string: ')\n",
        "print('\\nThe reversed string is \"{}\"'.format(reverse(string)))"
      ],
      "metadata": {
        "id": "K_OjAJUosiQx",
        "colab": {
          "base_uri": "https://localhost:8080/"
        },
        "outputId": "963fee6f-5025-407e-f27d-9bab62b5103a"
      },
      "execution_count": null,
      "outputs": [
        {
          "output_type": "stream",
          "name": "stdout",
          "text": [
            "**ARPIT PATEL**\t\t**0537CS201029**\n",
            "\n",
            "Enter the string: arpit\n",
            "\n",
            "The reversed string is \"tipra\"\n"
          ]
        }
      ]
    },
    {
      "cell_type": "markdown",
      "source": [
        "Q. 9). Write a python script to implement lambda expression "
      ],
      "metadata": {
        "id": "-LxEL-MIsiv4"
      }
    },
    {
      "cell_type": "code",
      "source": [
        "print('**ARPIT PATEL**\\t\\t**0537CS201029**\\n')\n",
        "\n",
        "string=input('Enter the string: ')\n",
        "\n",
        "reverse= lambda replace: replace[::-1]\n",
        "print('\\nThe reversed string is \"{}\"'.format(reverse(string)))"
      ],
      "metadata": {
        "id": "mhh7-L5SsmKv",
        "colab": {
          "base_uri": "https://localhost:8080/"
        },
        "outputId": "859212a8-a20a-4c59-ac00-0aaacdd6d81b"
      },
      "execution_count": null,
      "outputs": [
        {
          "output_type": "stream",
          "name": "stdout",
          "text": [
            "**ARPIT PATEL**\t\t**0537CS201029**\n",
            "\n",
            "Enter the string: patel\n",
            "\n",
            "The reversed string is \"letap\"\n"
          ]
        }
      ]
    },
    {
      "cell_type": "markdown",
      "source": [
        "Q. 10). Write a python program to define a module to find Fibonacci Numbers and import the module to another program."
      ],
      "metadata": {
        "id": "nH3qu-3Jsokv"
      }
    },
    {
      "cell_type": "code",
      "source": [
        "print('**ARPIT PATEL**\\t\\t**0537CS201029**\\n')\n",
        "\n",
        "def fib(n):\n",
        "  a=0\n",
        "  b=1\n",
        "  print(a,end=' ')\n",
        "  while b < n:\n",
        "    print(b, end =' ')\n",
        "    a, b = b, a+b\n",
        "\n",
        "num=int(input(\"Enter any number to print Fibonacci series till : \"))\n",
        "fib(num)"
      ],
      "metadata": {
        "id": "-5xIev7C5WWA",
        "colab": {
          "base_uri": "https://localhost:8080/"
        },
        "outputId": "173bf8e4-4b98-4316-d9a8-3cdcecb97b07"
      },
      "execution_count": null,
      "outputs": [
        {
          "output_type": "stream",
          "name": "stdout",
          "text": [
            "**ARPIT PATEL**\t\t**0537CS201029**\n",
            "\n",
            "Enter any number to print Fibonacci series till : 5\n",
            "0 1 1 2 3 "
          ]
        }
      ]
    },
    {
      "cell_type": "markdown",
      "source": [
        "###Method 1"
      ],
      "metadata": {
        "id": "-vN_iDOt5KA_"
      }
    },
    {
      "cell_type": "code",
      "source": [
        "!cp /content/drive/MyDrive/Colab\\ Notebooks/fibonaucci.py /content"
      ],
      "metadata": {
        "id": "-lAhotjp4DJ4"
      },
      "execution_count": null,
      "outputs": []
    },
    {
      "cell_type": "code",
      "source": [
        "import fibonaucci"
      ],
      "metadata": {
        "id": "PVePVH6l4ugq"
      },
      "execution_count": null,
      "outputs": []
    },
    {
      "cell_type": "code",
      "source": [
        "print('**ARPIT PATEL**\\t\\t**0537CS201029**\\n')\n",
        "\n",
        "num=int(input(\"Enter any number to print Fibonacci series \"))\n",
        "fibonaucci.fib(num)"
      ],
      "metadata": {
        "colab": {
          "base_uri": "https://localhost:8080/"
        },
        "id": "ef-w38Rx5ATQ",
        "outputId": "233f0714-a1bc-4c5c-8a5e-719b42d404de"
      },
      "execution_count": null,
      "outputs": [
        {
          "output_type": "stream",
          "name": "stdout",
          "text": [
            "**ARPIT PATEL**\t\t**0537CS201029**\n",
            "\n",
            "Enter any number to print Fibonacci series 5\n",
            "0 1 1 2 3 "
          ]
        }
      ]
    },
    {
      "cell_type": "markdown",
      "source": [
        "###Method 2"
      ],
      "metadata": {
        "id": "l_0L4UHH5R9G"
      }
    },
    {
      "cell_type": "code",
      "source": [
        "from google.colab import files\n",
        "files.upload()"
      ],
      "metadata": {
        "colab": {
          "base_uri": "https://localhost:8080/",
          "height": 90
        },
        "id": "dP8jotkq5UN1",
        "outputId": "873c2a6e-f277-4aec-a824-c4f8c86d0e85"
      },
      "execution_count": null,
      "outputs": [
        {
          "output_type": "display_data",
          "data": {
            "text/plain": [
              "<IPython.core.display.HTML object>"
            ],
            "text/html": [
              "\n",
              "     <input type=\"file\" id=\"files-8d8721ba-0118-4c80-9477-922c1ba9fa76\" name=\"files[]\" multiple disabled\n",
              "        style=\"border:none\" />\n",
              "     <output id=\"result-8d8721ba-0118-4c80-9477-922c1ba9fa76\">\n",
              "      Upload widget is only available when the cell has been executed in the\n",
              "      current browser session. Please rerun this cell to enable.\n",
              "      </output>\n",
              "      <script>// Copyright 2017 Google LLC\n",
              "//\n",
              "// Licensed under the Apache License, Version 2.0 (the \"License\");\n",
              "// you may not use this file except in compliance with the License.\n",
              "// You may obtain a copy of the License at\n",
              "//\n",
              "//      http://www.apache.org/licenses/LICENSE-2.0\n",
              "//\n",
              "// Unless required by applicable law or agreed to in writing, software\n",
              "// distributed under the License is distributed on an \"AS IS\" BASIS,\n",
              "// WITHOUT WARRANTIES OR CONDITIONS OF ANY KIND, either express or implied.\n",
              "// See the License for the specific language governing permissions and\n",
              "// limitations under the License.\n",
              "\n",
              "/**\n",
              " * @fileoverview Helpers for google.colab Python module.\n",
              " */\n",
              "(function(scope) {\n",
              "function span(text, styleAttributes = {}) {\n",
              "  const element = document.createElement('span');\n",
              "  element.textContent = text;\n",
              "  for (const key of Object.keys(styleAttributes)) {\n",
              "    element.style[key] = styleAttributes[key];\n",
              "  }\n",
              "  return element;\n",
              "}\n",
              "\n",
              "// Max number of bytes which will be uploaded at a time.\n",
              "const MAX_PAYLOAD_SIZE = 100 * 1024;\n",
              "\n",
              "function _uploadFiles(inputId, outputId) {\n",
              "  const steps = uploadFilesStep(inputId, outputId);\n",
              "  const outputElement = document.getElementById(outputId);\n",
              "  // Cache steps on the outputElement to make it available for the next call\n",
              "  // to uploadFilesContinue from Python.\n",
              "  outputElement.steps = steps;\n",
              "\n",
              "  return _uploadFilesContinue(outputId);\n",
              "}\n",
              "\n",
              "// This is roughly an async generator (not supported in the browser yet),\n",
              "// where there are multiple asynchronous steps and the Python side is going\n",
              "// to poll for completion of each step.\n",
              "// This uses a Promise to block the python side on completion of each step,\n",
              "// then passes the result of the previous step as the input to the next step.\n",
              "function _uploadFilesContinue(outputId) {\n",
              "  const outputElement = document.getElementById(outputId);\n",
              "  const steps = outputElement.steps;\n",
              "\n",
              "  const next = steps.next(outputElement.lastPromiseValue);\n",
              "  return Promise.resolve(next.value.promise).then((value) => {\n",
              "    // Cache the last promise value to make it available to the next\n",
              "    // step of the generator.\n",
              "    outputElement.lastPromiseValue = value;\n",
              "    return next.value.response;\n",
              "  });\n",
              "}\n",
              "\n",
              "/**\n",
              " * Generator function which is called between each async step of the upload\n",
              " * process.\n",
              " * @param {string} inputId Element ID of the input file picker element.\n",
              " * @param {string} outputId Element ID of the output display.\n",
              " * @return {!Iterable<!Object>} Iterable of next steps.\n",
              " */\n",
              "function* uploadFilesStep(inputId, outputId) {\n",
              "  const inputElement = document.getElementById(inputId);\n",
              "  inputElement.disabled = false;\n",
              "\n",
              "  const outputElement = document.getElementById(outputId);\n",
              "  outputElement.innerHTML = '';\n",
              "\n",
              "  const pickedPromise = new Promise((resolve) => {\n",
              "    inputElement.addEventListener('change', (e) => {\n",
              "      resolve(e.target.files);\n",
              "    });\n",
              "  });\n",
              "\n",
              "  const cancel = document.createElement('button');\n",
              "  inputElement.parentElement.appendChild(cancel);\n",
              "  cancel.textContent = 'Cancel upload';\n",
              "  const cancelPromise = new Promise((resolve) => {\n",
              "    cancel.onclick = () => {\n",
              "      resolve(null);\n",
              "    };\n",
              "  });\n",
              "\n",
              "  // Wait for the user to pick the files.\n",
              "  const files = yield {\n",
              "    promise: Promise.race([pickedPromise, cancelPromise]),\n",
              "    response: {\n",
              "      action: 'starting',\n",
              "    }\n",
              "  };\n",
              "\n",
              "  cancel.remove();\n",
              "\n",
              "  // Disable the input element since further picks are not allowed.\n",
              "  inputElement.disabled = true;\n",
              "\n",
              "  if (!files) {\n",
              "    return {\n",
              "      response: {\n",
              "        action: 'complete',\n",
              "      }\n",
              "    };\n",
              "  }\n",
              "\n",
              "  for (const file of files) {\n",
              "    const li = document.createElement('li');\n",
              "    li.append(span(file.name, {fontWeight: 'bold'}));\n",
              "    li.append(span(\n",
              "        `(${file.type || 'n/a'}) - ${file.size} bytes, ` +\n",
              "        `last modified: ${\n",
              "            file.lastModifiedDate ? file.lastModifiedDate.toLocaleDateString() :\n",
              "                                    'n/a'} - `));\n",
              "    const percent = span('0% done');\n",
              "    li.appendChild(percent);\n",
              "\n",
              "    outputElement.appendChild(li);\n",
              "\n",
              "    const fileDataPromise = new Promise((resolve) => {\n",
              "      const reader = new FileReader();\n",
              "      reader.onload = (e) => {\n",
              "        resolve(e.target.result);\n",
              "      };\n",
              "      reader.readAsArrayBuffer(file);\n",
              "    });\n",
              "    // Wait for the data to be ready.\n",
              "    let fileData = yield {\n",
              "      promise: fileDataPromise,\n",
              "      response: {\n",
              "        action: 'continue',\n",
              "      }\n",
              "    };\n",
              "\n",
              "    // Use a chunked sending to avoid message size limits. See b/62115660.\n",
              "    let position = 0;\n",
              "    do {\n",
              "      const length = Math.min(fileData.byteLength - position, MAX_PAYLOAD_SIZE);\n",
              "      const chunk = new Uint8Array(fileData, position, length);\n",
              "      position += length;\n",
              "\n",
              "      const base64 = btoa(String.fromCharCode.apply(null, chunk));\n",
              "      yield {\n",
              "        response: {\n",
              "          action: 'append',\n",
              "          file: file.name,\n",
              "          data: base64,\n",
              "        },\n",
              "      };\n",
              "\n",
              "      let percentDone = fileData.byteLength === 0 ?\n",
              "          100 :\n",
              "          Math.round((position / fileData.byteLength) * 100);\n",
              "      percent.textContent = `${percentDone}% done`;\n",
              "\n",
              "    } while (position < fileData.byteLength);\n",
              "  }\n",
              "\n",
              "  // All done.\n",
              "  yield {\n",
              "    response: {\n",
              "      action: 'complete',\n",
              "    }\n",
              "  };\n",
              "}\n",
              "\n",
              "scope.google = scope.google || {};\n",
              "scope.google.colab = scope.google.colab || {};\n",
              "scope.google.colab._files = {\n",
              "  _uploadFiles,\n",
              "  _uploadFilesContinue,\n",
              "};\n",
              "})(self);\n",
              "</script> "
            ]
          },
          "metadata": {}
        },
        {
          "output_type": "stream",
          "name": "stdout",
          "text": [
            "Saving fibonaucci.py to fibonaucci (1).py\n"
          ]
        },
        {
          "output_type": "execute_result",
          "data": {
            "text/plain": [
              "{'fibonaucci.py': b\"def fib(n):\\r\\n  a=0\\r\\n  b=1\\r\\n  print(a,end=' ')\\r\\n  while b < n:\\r\\n    print(b, end =' ')\\r\\n    a, b = b, a+b\"}"
            ]
          },
          "metadata": {},
          "execution_count": 32
        }
      ]
    },
    {
      "cell_type": "code",
      "source": [
        "import fibonaucci"
      ],
      "metadata": {
        "id": "sIbXogPg6SrP"
      },
      "execution_count": null,
      "outputs": []
    },
    {
      "cell_type": "code",
      "source": [
        "print('**ARPIT PATEL**\\t\\t**0537CS201029**\\n')\n",
        "\n",
        "num=int(input(\"Enter any number to print Fibonacci series \"))\n",
        "fibonaucci.fib(num)"
      ],
      "metadata": {
        "colab": {
          "base_uri": "https://localhost:8080/"
        },
        "id": "wQwBmTAm6Vx2",
        "outputId": "76aa2e8c-cb63-4d38-8705-8618c8156d7e"
      },
      "execution_count": null,
      "outputs": [
        {
          "output_type": "stream",
          "name": "stdout",
          "text": [
            "**ARPIT PATEL**\t\t**0537CS201029**\n",
            "\n",
            "Enter any number to print Fibonacci series 6\n",
            "0 1 1 2 3 5 "
          ]
        }
      ]
    },
    {
      "cell_type": "markdown",
      "source": [
        "Q. 11). Write a python program to define a module and import a specific function in that module to another program."
      ],
      "metadata": {
        "id": "7AoHHPIostr3"
      }
    },
    {
      "cell_type": "code",
      "source": [
        "def addition(a,b):\n",
        "  return(a+b)\n",
        "\n",
        "def substraction(a,b):\n",
        "  return(a-b)\n",
        "\n",
        "def multiplication(a,b):\n",
        "  return(a*b)\n",
        "\n",
        "def division(a,b):\n",
        "  return(a/b)"
      ],
      "metadata": {
        "id": "jJ88Yj0XsyAK"
      },
      "execution_count": null,
      "outputs": []
    },
    {
      "cell_type": "markdown",
      "source": [
        "###Method 1"
      ],
      "metadata": {
        "id": "4oI7avv5dYlT"
      }
    },
    {
      "cell_type": "code",
      "source": [
        "!cp /content/drive/MyDrive/Colab\\ Notebooks/operations.py /content"
      ],
      "metadata": {
        "id": "HvE-bZD6daVX"
      },
      "execution_count": null,
      "outputs": []
    },
    {
      "cell_type": "code",
      "source": [
        "from operations import multiplication"
      ],
      "metadata": {
        "id": "sXc93MVfdl02"
      },
      "execution_count": null,
      "outputs": []
    },
    {
      "cell_type": "code",
      "source": [
        "print('**ARPIT PATEL**\\t\\t**0537CS201029**\\n')\n",
        "\n",
        "a=int(input('Enter the value of a: '))\n",
        "b=int(input('Enter the value of b: '))\n",
        "\n",
        "print('\\nThe output is',multiplication(a,b))"
      ],
      "metadata": {
        "colab": {
          "base_uri": "https://localhost:8080/"
        },
        "id": "CTS8rECadqwo",
        "outputId": "a140438c-92a0-4a00-b433-bb6a60492eca"
      },
      "execution_count": null,
      "outputs": [
        {
          "output_type": "stream",
          "name": "stdout",
          "text": [
            "**ARPIT PATEL**\t\t**0537CS201029**\n",
            "\n",
            "Enter the value of a: 5\n",
            "Enter the value of b: 4\n",
            "\n",
            "The output is 20\n"
          ]
        }
      ]
    },
    {
      "cell_type": "markdown",
      "source": [
        "###Method 2"
      ],
      "metadata": {
        "id": "IBA2Cy-ReIJX"
      }
    },
    {
      "cell_type": "code",
      "source": [
        "from google.colab import files\n",
        "files.upload()"
      ],
      "metadata": {
        "colab": {
          "base_uri": "https://localhost:8080/",
          "height": 110
        },
        "id": "1-y4n_sFeKRB",
        "outputId": "cabe7e96-9365-446f-9283-8652cfbfee52"
      },
      "execution_count": null,
      "outputs": [
        {
          "output_type": "display_data",
          "data": {
            "text/plain": [
              "<IPython.core.display.HTML object>"
            ],
            "text/html": [
              "\n",
              "     <input type=\"file\" id=\"files-e650df15-f505-402f-881b-512fa6df23c7\" name=\"files[]\" multiple disabled\n",
              "        style=\"border:none\" />\n",
              "     <output id=\"result-e650df15-f505-402f-881b-512fa6df23c7\">\n",
              "      Upload widget is only available when the cell has been executed in the\n",
              "      current browser session. Please rerun this cell to enable.\n",
              "      </output>\n",
              "      <script>// Copyright 2017 Google LLC\n",
              "//\n",
              "// Licensed under the Apache License, Version 2.0 (the \"License\");\n",
              "// you may not use this file except in compliance with the License.\n",
              "// You may obtain a copy of the License at\n",
              "//\n",
              "//      http://www.apache.org/licenses/LICENSE-2.0\n",
              "//\n",
              "// Unless required by applicable law or agreed to in writing, software\n",
              "// distributed under the License is distributed on an \"AS IS\" BASIS,\n",
              "// WITHOUT WARRANTIES OR CONDITIONS OF ANY KIND, either express or implied.\n",
              "// See the License for the specific language governing permissions and\n",
              "// limitations under the License.\n",
              "\n",
              "/**\n",
              " * @fileoverview Helpers for google.colab Python module.\n",
              " */\n",
              "(function(scope) {\n",
              "function span(text, styleAttributes = {}) {\n",
              "  const element = document.createElement('span');\n",
              "  element.textContent = text;\n",
              "  for (const key of Object.keys(styleAttributes)) {\n",
              "    element.style[key] = styleAttributes[key];\n",
              "  }\n",
              "  return element;\n",
              "}\n",
              "\n",
              "// Max number of bytes which will be uploaded at a time.\n",
              "const MAX_PAYLOAD_SIZE = 100 * 1024;\n",
              "\n",
              "function _uploadFiles(inputId, outputId) {\n",
              "  const steps = uploadFilesStep(inputId, outputId);\n",
              "  const outputElement = document.getElementById(outputId);\n",
              "  // Cache steps on the outputElement to make it available for the next call\n",
              "  // to uploadFilesContinue from Python.\n",
              "  outputElement.steps = steps;\n",
              "\n",
              "  return _uploadFilesContinue(outputId);\n",
              "}\n",
              "\n",
              "// This is roughly an async generator (not supported in the browser yet),\n",
              "// where there are multiple asynchronous steps and the Python side is going\n",
              "// to poll for completion of each step.\n",
              "// This uses a Promise to block the python side on completion of each step,\n",
              "// then passes the result of the previous step as the input to the next step.\n",
              "function _uploadFilesContinue(outputId) {\n",
              "  const outputElement = document.getElementById(outputId);\n",
              "  const steps = outputElement.steps;\n",
              "\n",
              "  const next = steps.next(outputElement.lastPromiseValue);\n",
              "  return Promise.resolve(next.value.promise).then((value) => {\n",
              "    // Cache the last promise value to make it available to the next\n",
              "    // step of the generator.\n",
              "    outputElement.lastPromiseValue = value;\n",
              "    return next.value.response;\n",
              "  });\n",
              "}\n",
              "\n",
              "/**\n",
              " * Generator function which is called between each async step of the upload\n",
              " * process.\n",
              " * @param {string} inputId Element ID of the input file picker element.\n",
              " * @param {string} outputId Element ID of the output display.\n",
              " * @return {!Iterable<!Object>} Iterable of next steps.\n",
              " */\n",
              "function* uploadFilesStep(inputId, outputId) {\n",
              "  const inputElement = document.getElementById(inputId);\n",
              "  inputElement.disabled = false;\n",
              "\n",
              "  const outputElement = document.getElementById(outputId);\n",
              "  outputElement.innerHTML = '';\n",
              "\n",
              "  const pickedPromise = new Promise((resolve) => {\n",
              "    inputElement.addEventListener('change', (e) => {\n",
              "      resolve(e.target.files);\n",
              "    });\n",
              "  });\n",
              "\n",
              "  const cancel = document.createElement('button');\n",
              "  inputElement.parentElement.appendChild(cancel);\n",
              "  cancel.textContent = 'Cancel upload';\n",
              "  const cancelPromise = new Promise((resolve) => {\n",
              "    cancel.onclick = () => {\n",
              "      resolve(null);\n",
              "    };\n",
              "  });\n",
              "\n",
              "  // Wait for the user to pick the files.\n",
              "  const files = yield {\n",
              "    promise: Promise.race([pickedPromise, cancelPromise]),\n",
              "    response: {\n",
              "      action: 'starting',\n",
              "    }\n",
              "  };\n",
              "\n",
              "  cancel.remove();\n",
              "\n",
              "  // Disable the input element since further picks are not allowed.\n",
              "  inputElement.disabled = true;\n",
              "\n",
              "  if (!files) {\n",
              "    return {\n",
              "      response: {\n",
              "        action: 'complete',\n",
              "      }\n",
              "    };\n",
              "  }\n",
              "\n",
              "  for (const file of files) {\n",
              "    const li = document.createElement('li');\n",
              "    li.append(span(file.name, {fontWeight: 'bold'}));\n",
              "    li.append(span(\n",
              "        `(${file.type || 'n/a'}) - ${file.size} bytes, ` +\n",
              "        `last modified: ${\n",
              "            file.lastModifiedDate ? file.lastModifiedDate.toLocaleDateString() :\n",
              "                                    'n/a'} - `));\n",
              "    const percent = span('0% done');\n",
              "    li.appendChild(percent);\n",
              "\n",
              "    outputElement.appendChild(li);\n",
              "\n",
              "    const fileDataPromise = new Promise((resolve) => {\n",
              "      const reader = new FileReader();\n",
              "      reader.onload = (e) => {\n",
              "        resolve(e.target.result);\n",
              "      };\n",
              "      reader.readAsArrayBuffer(file);\n",
              "    });\n",
              "    // Wait for the data to be ready.\n",
              "    let fileData = yield {\n",
              "      promise: fileDataPromise,\n",
              "      response: {\n",
              "        action: 'continue',\n",
              "      }\n",
              "    };\n",
              "\n",
              "    // Use a chunked sending to avoid message size limits. See b/62115660.\n",
              "    let position = 0;\n",
              "    do {\n",
              "      const length = Math.min(fileData.byteLength - position, MAX_PAYLOAD_SIZE);\n",
              "      const chunk = new Uint8Array(fileData, position, length);\n",
              "      position += length;\n",
              "\n",
              "      const base64 = btoa(String.fromCharCode.apply(null, chunk));\n",
              "      yield {\n",
              "        response: {\n",
              "          action: 'append',\n",
              "          file: file.name,\n",
              "          data: base64,\n",
              "        },\n",
              "      };\n",
              "\n",
              "      let percentDone = fileData.byteLength === 0 ?\n",
              "          100 :\n",
              "          Math.round((position / fileData.byteLength) * 100);\n",
              "      percent.textContent = `${percentDone}% done`;\n",
              "\n",
              "    } while (position < fileData.byteLength);\n",
              "  }\n",
              "\n",
              "  // All done.\n",
              "  yield {\n",
              "    response: {\n",
              "      action: 'complete',\n",
              "    }\n",
              "  };\n",
              "}\n",
              "\n",
              "scope.google = scope.google || {};\n",
              "scope.google.colab = scope.google.colab || {};\n",
              "scope.google.colab._files = {\n",
              "  _uploadFiles,\n",
              "  _uploadFilesContinue,\n",
              "};\n",
              "})(self);\n",
              "</script> "
            ]
          },
          "metadata": {}
        },
        {
          "output_type": "stream",
          "name": "stdout",
          "text": [
            "Saving operations.py to operations (1).py\n"
          ]
        },
        {
          "output_type": "execute_result",
          "data": {
            "text/plain": [
              "{'operations.py': b'def addition(a,b):\\r\\n  return(a+b)\\r\\n\\r\\ndef substraction(a,b):\\r\\n  return(a-b)\\r\\n\\r\\ndef multiplication(a,b):\\r\\n  return(a*b)\\r\\n\\r\\ndef division(a,b):\\r\\n  return(a/b)'}"
            ]
          },
          "metadata": {},
          "execution_count": 28
        }
      ]
    },
    {
      "cell_type": "code",
      "source": [
        "from operations import division"
      ],
      "metadata": {
        "id": "1QrXaxOseVDj"
      },
      "execution_count": null,
      "outputs": []
    },
    {
      "cell_type": "code",
      "source": [
        "print('**ARPIT PATEL**\\t\\t**0537CS201029**\\n')\n",
        "\n",
        "a=int(input('Enter the value of a: '))\n",
        "b=int(input('Enter the value of b: '))\n",
        "\n",
        "print('\\nThe output is',division(a,b))"
      ],
      "metadata": {
        "colab": {
          "base_uri": "https://localhost:8080/"
        },
        "id": "Z3b4jyVweZU_",
        "outputId": "3c2dbdfa-b0f3-4d3f-ba3c-22069b98a966"
      },
      "execution_count": null,
      "outputs": [
        {
          "output_type": "stream",
          "name": "stdout",
          "text": [
            "**ARPIT PATEL**\t\t**0537CS201029**\n",
            "\n",
            "Enter the value of a: 20\n",
            "Enter the value of b: 5\n",
            "\n",
            "The output is 4.0\n"
          ]
        }
      ]
    },
    {
      "cell_type": "markdown",
      "source": [
        "Q. 12). Write a program to initialize object attribute values using a constructor"
      ],
      "metadata": {
        "id": "2Y3uRdT6syXQ"
      }
    },
    {
      "cell_type": "code",
      "source": [
        "print('**ARPIT PATEL**\\t\\t**0537CS201029**\\n')\n",
        "\n",
        "class Employee:\n",
        "  def __init__(self, name, id):  \n",
        "    self.id = id  \n",
        "    self.name = name  \n",
        "  def display(self):  \n",
        "    print(\"ID: %d \\nName: %s\" % (self.id, self.name))  \n",
        "emp1 = Employee(\"Arpit\", 101)  \n",
        "emp2 = Employee(\"Bharat\", 102)\n",
        "emp1.display()    \n",
        "emp2.display() "
      ],
      "metadata": {
        "id": "eDcP8-29s2tp",
        "colab": {
          "base_uri": "https://localhost:8080/"
        },
        "outputId": "78c01b96-1d41-4dc7-cc72-61a39e75e5ef"
      },
      "execution_count": null,
      "outputs": [
        {
          "output_type": "stream",
          "name": "stdout",
          "text": [
            "**ARPIT PATEL**\t\t**0537CS201029**\n",
            "\n",
            "ID: 101 \n",
            "Name: Arpit\n",
            "ID: 102 \n",
            "Name: Bharat\n"
          ]
        }
      ]
    },
    {
      "cell_type": "markdown",
      "source": [
        "Q. 13). Write a python program to implement single inheritance"
      ],
      "metadata": {
        "id": "dd5vnJv_s3L2"
      }
    },
    {
      "cell_type": "code",
      "source": [
        "print('**ARPIT PATEL**\\t\\t**0537CS201029**\\n')\n",
        "\n",
        "class A:\n",
        "  a=int(input('Enter the value of a: '))\n",
        "\n",
        "class B(A):\n",
        "  b=int(input('Enter the value of b: '))\n",
        "\n",
        "x=B()\n",
        "print(x.a + x.b)"
      ],
      "metadata": {
        "colab": {
          "base_uri": "https://localhost:8080/"
        },
        "id": "GffzK8phaqnI",
        "outputId": "eeb98764-9979-4f2c-9b46-19e00aac036d"
      },
      "execution_count": null,
      "outputs": [
        {
          "output_type": "stream",
          "name": "stdout",
          "text": [
            "**ARPIT PATEL**\t\t**0537CS201029**\n",
            "\n",
            "Enter the value of a: 5\n",
            "Enter the value of b: 4\n",
            "9\n"
          ]
        }
      ]
    },
    {
      "cell_type": "markdown",
      "source": [
        "Q. 14). Write a python program to implement multiple inheritance"
      ],
      "metadata": {
        "id": "TLiUwac8s8SO"
      }
    },
    {
      "cell_type": "code",
      "source": [
        "print('**ARPIT PATEL**\\t\\t**0537CS201029**\\n')\n",
        "\n",
        "class A:\n",
        "  a=int(input('Enter the value of a: '))\n",
        "\n",
        "class B:\n",
        "  b=int(input('Enter the value of b: '))\n",
        "\n",
        "class C(A,B):\n",
        "  c=int(input('Enter the value of c: '))\n",
        "\n",
        "x=C()\n",
        "print(x.a + x.b + x.c)"
      ],
      "metadata": {
        "colab": {
          "base_uri": "https://localhost:8080/"
        },
        "id": "aiC6vIcKc4Rf",
        "outputId": "a7ffcfa9-fce0-4a85-bea8-99705cbd5348"
      },
      "execution_count": null,
      "outputs": [
        {
          "output_type": "stream",
          "name": "stdout",
          "text": [
            "**ARPIT PATEL**\t\t**0537CS201029**\n",
            "\n",
            "Enter the value of a: 4\n",
            "Enter the value of b: 5\n",
            "Enter the value of c: 6\n",
            "15\n"
          ]
        }
      ]
    },
    {
      "cell_type": "markdown",
      "source": [
        "Q. 15). Write a python program to implement operator overloading"
      ],
      "metadata": {
        "id": "_fFu2lPNtCIN"
      }
    },
    {
      "cell_type": "code",
      "source": [
        "print('**ARPIT PATEL**\\t\\t**0537CS201029**\\n')\n",
        "\n",
        "class student:\n",
        "  def __init__(self,s1,s2):\n",
        "    self.maths=s1\n",
        "    self.physics=s2\n",
        "    \n",
        "  def __add__(self,other):\n",
        "    p=self.maths+other.maths\n",
        "    r=self.physics+other.physics\n",
        "    s3=student(p,r)\n",
        "    return s3\n",
        "\n",
        "s1=student(34,56)\n",
        "s2=student(55,23)\n",
        "d=s1+s2\n",
        "print('Sum of maths:',d.maths)\n",
        "print('Sum of physics:',d.physics)"
      ],
      "metadata": {
        "id": "xtVPUNnqtGvt",
        "colab": {
          "base_uri": "https://localhost:8080/"
        },
        "outputId": "c820aa53-a652-4beb-f649-eb756b94734f"
      },
      "execution_count": null,
      "outputs": [
        {
          "output_type": "stream",
          "name": "stdout",
          "text": [
            "**ARPIT PATEL**\t\t**0537CS201029**\n",
            "\n",
            "Sum of maths: 89\n",
            "Sum of physics: 79\n"
          ]
        }
      ]
    },
    {
      "cell_type": "markdown",
      "source": [
        "Q. 16). Write a python program to create and implement an abstract class"
      ],
      "metadata": {
        "id": "KriblqQatHKv"
      }
    },
    {
      "cell_type": "code",
      "source": [
        "print('**ARPIT PATEL**\\t\\t**0537CS201029**\\n')\n",
        "\n",
        "from abc import ABC, abstractmethod   \n",
        "class Car(ABC):   \n",
        "  def mileage(self):   \n",
        "    pass  \n",
        "class Tesla(Car):   \n",
        "  def mileage(self):   \n",
        "    print(\"The mileage is 30kmph\")   \n",
        "class Suzuki(Car):   \n",
        "  def mileage(self):   \n",
        "    print(\"The mileage is 25kmph \")   \n",
        "class Duster(Car):   \n",
        "  def mileage(self):   \n",
        "    print(\"The mileage is 24kmph \")   \n",
        "class Renault(Car):   \n",
        "  def mileage(self):   \n",
        "    print(\"The mileage is 27kmph \")      \n",
        "t= Tesla ()   \n",
        "r = Renault()\n",
        "s = Suzuki()\n",
        "d = Duster()\n",
        "t.mileage()      \n",
        "r.mileage()      \n",
        "s.mileage()      \n",
        "d.mileage()  "
      ],
      "metadata": {
        "colab": {
          "base_uri": "https://localhost:8080/"
        },
        "id": "vf9bxX5ZUupt",
        "outputId": "76cee897-c510-4da1-a884-a396d0f03f57"
      },
      "execution_count": null,
      "outputs": [
        {
          "output_type": "stream",
          "name": "stdout",
          "text": [
            "**ARPIT PATEL**\t\t**0537CS201029**\n",
            "\n",
            "The mileage is 30kmph\n",
            "The mileage is 27kmph \n",
            "The mileage is 25kmph \n",
            "The mileage is 24kmph \n"
          ]
        }
      ]
    },
    {
      "cell_type": "markdown",
      "source": [
        "Q. 17). Write a python program to implement method overloading using default argument values"
      ],
      "metadata": {
        "id": "eZqW_JQRtMEL"
      }
    },
    {
      "cell_type": "code",
      "source": [
        "print('**ARPIT PATEL**\\t\\t**0537CS201029**\\n')\n",
        "\n",
        "class student:\n",
        "  def sum(a=None,b=None,c=None):\n",
        "    if a==None and b==None and c==None:\n",
        "      return 0\n",
        "    elif b==None and c==None:\n",
        "      return a\n",
        "    elif a==None and c==None:\n",
        "      return b\n",
        "    elif a==None and b==None:\n",
        "      return c\n",
        "    elif a==None:\n",
        "      return b+c\n",
        "    elif b==None:\n",
        "      return a+c\n",
        "    elif c==None:\n",
        "      return a+b\n",
        "    else:\n",
        "      return a+b+c\n",
        "  \n",
        "s=student\n",
        "s.sum(2,8,3)"
      ],
      "metadata": {
        "id": "46qcojHotQh_",
        "colab": {
          "base_uri": "https://localhost:8080/"
        },
        "outputId": "01a291d6-3770-4d60-dfed-841a49be5eb6"
      },
      "execution_count": null,
      "outputs": [
        {
          "output_type": "stream",
          "name": "stdout",
          "text": [
            "**ARPIT PATEL**\t\t**0537CS201029**\n",
            "\n"
          ]
        },
        {
          "output_type": "execute_result",
          "data": {
            "text/plain": [
              "13"
            ]
          },
          "metadata": {},
          "execution_count": 43
        }
      ]
    },
    {
      "cell_type": "markdown",
      "source": [
        "Q. 18). Write a python program to implement the concept of method overriding"
      ],
      "metadata": {
        "id": "lFuquYd-tQ7z"
      }
    },
    {
      "cell_type": "code",
      "source": [
        "print('**ARPIT PATEL**\\t\\t**0537CS201029**\\n')\n",
        "\n",
        "class A:\n",
        "  def show(self):\n",
        "    print('i am in A')\n",
        "\n",
        "class B(A):\n",
        "  pass\n",
        "\n",
        "x=B()\n",
        "x.show()"
      ],
      "metadata": {
        "colab": {
          "base_uri": "https://localhost:8080/"
        },
        "id": "j7tBZ0bRZv6B",
        "outputId": "6c8d9db2-60d9-4654-9d47-09add2e91b04"
      },
      "execution_count": null,
      "outputs": [
        {
          "output_type": "stream",
          "name": "stdout",
          "text": [
            "**ARPIT PATEL**\t\t**0537CS201029**\n",
            "\n",
            "i am in A\n"
          ]
        }
      ]
    },
    {
      "cell_type": "markdown",
      "source": [
        "Q. 19). Create a class in python for a linked list that supports the function of node insertion at the beginning, and deletion of a node of a specified value."
      ],
      "metadata": {
        "id": "R6-nG-qctVxW"
      }
    },
    {
      "cell_type": "code",
      "source": [
        "print('**ARPIT PATEL**\\t\\t**0537CS201029**\\n')\n",
        "\n",
        "class node:\n",
        "  def __init__(self,value):\n",
        "    self.val=value\n",
        "    self.next=None\n",
        "\n",
        "class LinkList:\n",
        "  def __init__(self):\n",
        "    self.head=None\n",
        "\n",
        "  def insbeg(self,value):\n",
        "    new=node(value)\n",
        "    if self.head==None:\n",
        "      self.head=new\n",
        "    else:\n",
        "      new.next=self.head\n",
        "      self.head=new\n",
        "\n",
        "  def delbeg(self):\n",
        "    if self.head==None:\n",
        "      print('**List is Empty**')\n",
        "    else:\n",
        "      self.head=self.head.next\n",
        "\n",
        "  def delmid(self,pos):\n",
        "    if self.head==None:\n",
        "      print('**List is Empty**')\n",
        "    else:\n",
        "      temp=self.head\n",
        "      count=0\n",
        "      while temp.next!=None:\n",
        "          count += 1\n",
        "          temp=temp.next\n",
        "      temp=self.head\n",
        "      if pos>count or pos<0:\n",
        "        print('**Invalid Position**')\n",
        "      else:\n",
        "        for i in range(pos-2):\n",
        "          temp=temp.next\n",
        "        temp.next=temp.next.next\n",
        "\n",
        "  def delend(self):\n",
        "    if self.head==None:\n",
        "      print('**List is Empty**')\n",
        "    else:\n",
        "      temp=self.head\n",
        "      count=0\n",
        "      while temp.next!=None:\n",
        "        count += 1\n",
        "        temp=temp.next\n",
        "      temp=self.head\n",
        "      for i in range(count-1):\n",
        "        temp=temp.next\n",
        "      temp.next=None\n",
        "\n",
        "  def display(self):\n",
        "    if self.head==None:\n",
        "      print('**List is Empty**')\n",
        "    else:\n",
        "      temp=self.head\n",
        "      while temp!=None:\n",
        "        print(temp.val,end=' ')\n",
        "        temp=temp.next\n",
        "\n",
        "ll=LinkList()\n",
        "while 1:\n",
        "  print('\\nWhich operation do you want to perform on the linkedlist: ')\n",
        "  print(\"Enter '1' : For Insertion \")\n",
        "  print(\"Enter '2' : For Deletion \")\n",
        "  print(\"Enter '3' : For Display \")\n",
        "  print(\"Enter '4' : To Stop the Process \")\n",
        "  choice=input('Enter Your choice: ')\n",
        "  if choice=='1':\n",
        "    print('\\nEnter the elements to insert at the front of the linkedlist:')\n",
        "    print(\"Press '-999' to stop the insertion\")\n",
        "    while 1:\n",
        "      value=int(input('Enter the Value: '))\n",
        "      if value == -999:\n",
        "        break\n",
        "      else:\n",
        "        ll.insbeg(value)\n",
        "  elif choice=='2':\n",
        "    while 1:\n",
        "      print(\"\\nPress '1' to delete element from the front of the list \")\n",
        "      print(\"Press '2' to delete element from the middle of the list \")\n",
        "      print(\"Press '3' to delete the element from the last of the list \")\n",
        "      print(\"Press '-999' to stop the deletion \")\n",
        "      value=int(input('Enter the Value: '))\n",
        "      if value == -999:\n",
        "        break\n",
        "      elif value == 1:\n",
        "        ll.delbeg()\n",
        "      elif value == 2:\n",
        "        pos=int(input('Enter the position: '))\n",
        "        ll.delmid(pos)\n",
        "      elif value == 3:\n",
        "        ll.delend()\n",
        "      else:\n",
        "        print('**Invalid choice**')\n",
        "  elif choice=='3':\n",
        "    ll.display()\n",
        "    print('\\n')\n",
        "  elif choice=='4':\n",
        "    break\n",
        "  else:\n",
        "    print('**Invaild Choice**')"
      ],
      "metadata": {
        "id": "DnVvXHGJtaiC"
      },
      "execution_count": null,
      "outputs": []
    },
    {
      "cell_type": "markdown",
      "source": [
        "Q. 20). Write a python program for library management, that adds the details of a book in a list, delete details of a book,  display all the books in the library"
      ],
      "metadata": {
        "id": "MUZZ5WMOtbIu"
      }
    },
    {
      "cell_type": "code",
      "source": [
        "print('**ARPIT PATEL**\\t\\t**0537CS201029**\\n')\n",
        "\n",
        "books_list=[]\n",
        "\n",
        "class library1:\n",
        "    def __init__(self,t,a,p,pag,pub):\n",
        "        self.title=t\n",
        "        self.author=a\n",
        "        self.price=p\n",
        "        self.pages=pag\n",
        "        self.published_date=pub\n",
        "\n",
        "print('Welcome To The Library Management System: ')\n",
        "print(\"Press '1' : To Add a new Book \")\n",
        "print(\"Press '2' : To Remove a Book \")\n",
        "print(\"Press '3' : To view list of Books \")\n",
        "print(\"Press '4' : To Exit the menu \")\n",
        "\n",
        "while 1:\n",
        "    num=input('\\nEnter which action you wanna perform: ')\n",
        "    if num=='1':\n",
        "        t=input(\"\\nEnter the Title of the Book \")\n",
        "        a=input(\"Enter the Author of the Book \")\n",
        "        p=input(\"Enter the Price of the Book \")\n",
        "        pag=input(\"Enter the Pages of the Book \")\n",
        "        pub=input(\"Enter the Published Date of the Book \")\n",
        "        books_list.append(library1(t,a,p,pag,pub))\n",
        "        print(\"\\n**Your Book is added successfully**\")\n",
        "    elif num=='2':\n",
        "        t=input(\"\\nEnter the Title of the Book \")\n",
        "        a=input(\"Enter the Author of the Book \")\n",
        "        p=input(\"Enter the Price of the Book \")\n",
        "        pag=input(\"Enter the Pages of the Book \")\n",
        "        pub=input(\"Enter the Published Date of the Book \")\n",
        "        if (t,a,p,pag,pub in books_list):\n",
        "            books_list.remove(library1(t,a,p,pag,pub))\n",
        "            print(\"\\n**Book is deleted from the Library Successfully**\")\n",
        "        else:\n",
        "            print(\"\\n**Invalid Book**\")\n",
        "    elif num=='3':\n",
        "        for i in books_list:\n",
        "            print(\"\\nBook Title - \",i.title)\n",
        "            print(\"Book Author - \",i.author)\n",
        "            print(\"Book Price - \",i.price)\n",
        "            print(\"Book Pages - \",i.pages)\n",
        "            print(\"Book Published Date - \",i.published_date)\n",
        "    elif num=='4':\n",
        "        print('\\nThankyou...')\n",
        "        break\n",
        "    else:\n",
        "      print('\\n**Invalid Choice**')"
      ],
      "metadata": {
        "id": "kDhZiC7-tfjY",
        "colab": {
          "base_uri": "https://localhost:8080/"
        },
        "outputId": "d9a1de63-7a43-4c38-8653-f17f045f0008"
      },
      "execution_count": null,
      "outputs": [
        {
          "output_type": "stream",
          "name": "stdout",
          "text": [
            "**ARPIT PATEL**\t\t**0537CS201029**\n",
            "\n",
            "Welcome To The Library Management System: \n",
            "Press '1' : To Add a new Book \n",
            "Press '2' : To Remove a Book \n",
            "Press '3' : To view list of Books \n",
            "Press '4' : To Exit the menu \n",
            "\n",
            "Enter which action you wanna perform: 1\n",
            "\n",
            "Enter the Title of the Book The Secret Love\n",
            "Enter the Author of the Book Arpit Patel\n",
            "Enter the Price of the Book 999\n",
            "Enter the Pages of the Book 501\n",
            "Enter the Published Date of the Book 12/12/2022\n",
            "\n",
            "**Your Book is added successfully**\n",
            "\n",
            "Enter which action you wanna perform: 3\n",
            "\n",
            "Book Title -  The Secret Love\n",
            "Book Author -  Arpit Patel\n",
            "Book Price -  999\n",
            "Book Pages -  501\n",
            "Book Published Date -  12/12/2022\n",
            "\n",
            "Enter which action you wanna perform: 4\n",
            "\n",
            "Thankyou...\n"
          ]
        }
      ]
    },
    {
      "cell_type": "markdown",
      "source": [
        "29/06/22_____Wednesday"
      ],
      "metadata": {
        "id": "NA8wqSpnTczP"
      }
    },
    {
      "cell_type": "markdown",
      "source": [
        "Q.1). WAP in python to print fibonaucci series."
      ],
      "metadata": {
        "id": "eLdeD6zATgh6"
      }
    },
    {
      "cell_type": "code",
      "source": [
        "a=0\n",
        "b=1\n",
        "c=int(input('input:'))\n",
        "print(a)\n",
        "print(b)\n",
        "for i in range(c-2):\n",
        "  c=a+b\n",
        "  print(c)\n",
        "  a=b\n",
        "  b=c"
      ],
      "metadata": {
        "colab": {
          "base_uri": "https://localhost:8080/"
        },
        "id": "c86ZO20DThXP",
        "outputId": "7a1292f5-ea0a-452f-bfda-af0f7103dc13"
      },
      "execution_count": null,
      "outputs": [
        {
          "output_type": "stream",
          "name": "stdout",
          "text": [
            "input:7\n",
            "0\n",
            "1\n",
            "1\n",
            "2\n",
            "3\n",
            "5\n",
            "8\n"
          ]
        }
      ]
    },
    {
      "cell_type": "markdown",
      "source": [
        "Q. 2). WAP to check wheather a number is prime or not."
      ],
      "metadata": {
        "id": "oOvSEeJsTycr"
      }
    },
    {
      "cell_type": "code",
      "source": [
        "number=int(input('Enter the number:'))\n",
        "flag=0\n",
        "if number==0 or number==1:\n",
        "  flag=1\n",
        "for i in range(2,number-1):\n",
        "  if number%i==0:\n",
        "    flag=1\n",
        "    break\n",
        "if flag==0:\n",
        "  print('Number is prime')\n",
        "else:\n",
        "  print('Number is not prime')"
      ],
      "metadata": {
        "colab": {
          "base_uri": "https://localhost:8080/"
        },
        "id": "StPjt0S8T0eJ",
        "outputId": "960e408e-7f53-4576-d14a-057d08cdf995"
      },
      "execution_count": null,
      "outputs": [
        {
          "output_type": "stream",
          "name": "stdout",
          "text": [
            "Enter the number:4\n",
            "Number is not prime\n"
          ]
        }
      ]
    },
    {
      "cell_type": "markdown",
      "source": [
        "Q. 3). Print prime numbers between a given range."
      ],
      "metadata": {
        "id": "wdRFtbAFT4hI"
      }
    },
    {
      "cell_type": "code",
      "source": [
        "first=int(input('Enter the first number'))\n",
        "second=int(input('Enter the second number'))\n",
        "for i in range(first,second):\n",
        "  flag=1\n",
        "  for j in range(2,(i//2)+1):\n",
        "    if i%j==0:\n",
        "      flag=0\n",
        "      break\n",
        "  if flag==1:\n",
        "    print(i)"
      ],
      "metadata": {
        "colab": {
          "base_uri": "https://localhost:8080/"
        },
        "id": "eOCsx84-T6pw",
        "outputId": "dfe144c7-15ff-428f-d15c-3f974240f629"
      },
      "execution_count": null,
      "outputs": [
        {
          "output_type": "stream",
          "name": "stdout",
          "text": [
            "Enter the first number2\n",
            "Enter the second number10\n",
            "2\n",
            "3\n",
            "5\n",
            "7\n"
          ]
        }
      ]
    },
    {
      "cell_type": "code",
      "source": [
        "start=int(input('From:'))\n",
        "end=int(input('To:'))\n",
        "for i in range(start,end):\n",
        "  flag=0\n",
        "  for j in range(2,i-1):\n",
        "    flag=0\n",
        "    if i%j==0:\n",
        "      flag=1\n",
        "      break\n",
        "  if flag==0:\n",
        "    print(i)"
      ],
      "metadata": {
        "colab": {
          "base_uri": "https://localhost:8080/"
        },
        "id": "mqwW2ulCUFGz",
        "outputId": "2700c5a6-b163-42b2-e5c8-233639f0c1a4"
      },
      "execution_count": null,
      "outputs": [
        {
          "output_type": "stream",
          "name": "stdout",
          "text": [
            "From:2\n",
            "To:10\n",
            "2\n",
            "3\n",
            "5\n",
            "7\n"
          ]
        }
      ]
    },
    {
      "cell_type": "markdown",
      "source": [
        "Q. 4). WAP to check wheather a number is palindrome or not."
      ],
      "metadata": {
        "id": "SN0P59IlUOeG"
      }
    },
    {
      "cell_type": "code",
      "source": [
        "n=input()\n",
        "last=len(n)-1\n",
        "first=0\n",
        "flag=0\n",
        "while 1:\n",
        "  if n[first]==n[last]:\n",
        "    first=first+1\n",
        "    last=last-1\n",
        "    if first==last or first>last:\n",
        "      break;\n",
        "  else:\n",
        "    flag=1\n",
        "    break\n",
        "if flag==1:\n",
        "  print('Not Palindrome')\n",
        "else:\n",
        "  print('Palindrome')"
      ],
      "metadata": {
        "colab": {
          "base_uri": "https://localhost:8080/"
        },
        "id": "y1alCAuBUPTi",
        "outputId": "c76a09fb-3d15-43f3-e03c-af3af089a079"
      },
      "execution_count": null,
      "outputs": [
        {
          "output_type": "stream",
          "name": "stdout",
          "text": [
            "121\n",
            "Palindrome\n"
          ]
        }
      ]
    },
    {
      "cell_type": "markdown",
      "source": [
        "Q. 5). WAP to check wheather a number is even or odd."
      ],
      "metadata": {
        "id": "UFPEcgxQUUp8"
      }
    },
    {
      "cell_type": "code",
      "source": [
        "number=int(input('Enter the number:'))\n",
        "if number%2==0:\n",
        "  print('Number is even')\n",
        "else:\n",
        "  print('Number is odd')"
      ],
      "metadata": {
        "colab": {
          "base_uri": "https://localhost:8080/"
        },
        "id": "UumYPsU1UXFG",
        "outputId": "1a3dcbf7-3bcb-47a2-e7b1-c635efcf497e"
      },
      "execution_count": null,
      "outputs": [
        {
          "output_type": "stream",
          "name": "stdout",
          "text": [
            "Enter the number:12\n",
            "Number is even\n"
          ]
        }
      ]
    },
    {
      "cell_type": "markdown",
      "source": [
        "Q. 6). WAP to reverse a number."
      ],
      "metadata": {
        "id": "MGtyGOHaUdjC"
      }
    },
    {
      "cell_type": "code",
      "source": [
        "num=int(input('Enter the number:'))\n",
        "y=0\n",
        "while num!=0:\n",
        "  reverse=num%10\n",
        "  y=reverse+(y*10)\n",
        "  num//=10\n",
        "print('reverse is '+str(y))"
      ],
      "metadata": {
        "colab": {
          "base_uri": "https://localhost:8080/"
        },
        "id": "ioSXeem5UeQn",
        "outputId": "ebc59b4e-da91-49cb-de07-571d841fabd4"
      },
      "execution_count": null,
      "outputs": [
        {
          "output_type": "stream",
          "name": "stdout",
          "text": [
            "Enter the number:3464\n",
            "reverse is 4643\n"
          ]
        }
      ]
    },
    {
      "cell_type": "code",
      "source": [
        "num=int(input('Enter the number:'))\n",
        "a=num\n",
        "b=num%10\n",
        "c=num%100\n",
        "d=c//10\n",
        "e=num//100\n",
        "print('{}{}{}'.format(b,d,e))"
      ],
      "metadata": {
        "colab": {
          "base_uri": "https://localhost:8080/"
        },
        "id": "nCnwjMAiUoPs",
        "outputId": "1658a736-8ba0-4f71-f203-3a3d1e257260"
      },
      "execution_count": null,
      "outputs": [
        {
          "output_type": "stream",
          "name": "stdout",
          "text": [
            "Enter the number:364\n",
            "463\n"
          ]
        }
      ]
    },
    {
      "cell_type": "markdown",
      "source": [
        "Q. 7). WAP to calculate the sum of the digits of a number."
      ],
      "metadata": {
        "id": "I0ENCBrgUuvM"
      }
    },
    {
      "cell_type": "code",
      "source": [
        "num=input('Enter the number:')\n",
        "loop=len(num)\n",
        "sum=0\n",
        "pointer=0\n",
        "for i in range(loop):\n",
        "  a=int(num[pointer+i])\n",
        "  sum=sum+a\n",
        "print(sum)"
      ],
      "metadata": {
        "colab": {
          "base_uri": "https://localhost:8080/"
        },
        "id": "qmt5wiHiUxsI",
        "outputId": "10148c5d-c041-40db-eb2b-2390ee6499f5"
      },
      "execution_count": null,
      "outputs": [
        {
          "output_type": "stream",
          "name": "stdout",
          "text": [
            "Enter the number:123\n",
            "6\n"
          ]
        }
      ]
    },
    {
      "cell_type": "markdown",
      "source": [
        "Q. 8). WAP to check wheather a number is armstrong or not."
      ],
      "metadata": {
        "id": "T6gm7ZQBU2_h"
      }
    },
    {
      "cell_type": "code",
      "source": [
        "num=input('Enter the number:')\n",
        "loop=len(num)\n",
        "sum=0\n",
        "pointer=0\n",
        "for i in range(loop):\n",
        "  a=int(num[pointer+i])\n",
        "  sum=sum+(a**3)\n",
        "num=int(num)\n",
        "if sum==num:\n",
        "  print('Armstrong number')\n",
        "else:\n",
        "  print('Not Armstrong Number')"
      ],
      "metadata": {
        "colab": {
          "base_uri": "https://localhost:8080/"
        },
        "id": "gdzbtoK6U4UM",
        "outputId": "6b84a422-fb0b-49f1-e0fa-8cd134f5f461"
      },
      "execution_count": null,
      "outputs": [
        {
          "output_type": "stream",
          "name": "stdout",
          "text": [
            "Enter the number:153\n",
            "Armstrong number\n"
          ]
        }
      ]
    },
    {
      "cell_type": "code",
      "source": [
        "digits=[]\n",
        "string=input('Enter the number:')\n",
        "pow=len(string)\n",
        "digits=list(string)\n",
        "sum=0\n",
        "for i in digits:\n",
        "  sum=sum+int(i)**pow\n",
        "if sum==int(string):\n",
        "  print('Armstrong')\n",
        "else:\n",
        "  print('Not Armstrong')"
      ],
      "metadata": {
        "colab": {
          "base_uri": "https://localhost:8080/"
        },
        "id": "Ein3hh3DU96e",
        "outputId": "862828ad-655c-4983-8b82-928f6a38ca91"
      },
      "execution_count": null,
      "outputs": [
        {
          "output_type": "stream",
          "name": "stdout",
          "text": [
            "Enter the number:153\n",
            "Armstrong\n"
          ]
        }
      ]
    },
    {
      "cell_type": "markdown",
      "source": [
        "30/06/22_____Thursday"
      ],
      "metadata": {
        "id": "1sk-yt5OVG4V"
      }
    },
    {
      "cell_type": "markdown",
      "source": [
        "Q. 9). Print the following sequence\n",
        "if input is 4\n",
        "1 4 13 40\n",
        "if input is 3\n",
        "1 4 13"
      ],
      "metadata": {
        "id": "AiESL9DhVHsW"
      }
    },
    {
      "cell_type": "code",
      "source": [
        "number=int(input('Input:'))\n",
        "if number==1:\n",
        "    print(number)\n",
        "else:\n",
        "  num=1\n",
        "  print(num)\n",
        "  for i in range(number-1):\n",
        "    a=2*num+(num+1)\n",
        "    print(a)\n",
        "    num=a"
      ],
      "metadata": {
        "colab": {
          "base_uri": "https://localhost:8080/"
        },
        "id": "pBteIJYsVK02",
        "outputId": "fcfba59d-c1bb-4dfc-804a-b7b70a760007"
      },
      "execution_count": null,
      "outputs": [
        {
          "output_type": "stream",
          "name": "stdout",
          "text": [
            "Input:4\n",
            "1\n",
            "4\n",
            "13\n",
            "40\n"
          ]
        }
      ]
    },
    {
      "cell_type": "code",
      "source": [
        "number=int(input('Input:'))\n",
        "if number==1:\n",
        "    print(number)\n",
        "else:\n",
        "  num=1\n",
        "  print(num)\n",
        "  for i in range(number-1):\n",
        "    a=3*num+1\n",
        "    print(a)\n",
        "    num=a"
      ],
      "metadata": {
        "colab": {
          "base_uri": "https://localhost:8080/"
        },
        "id": "KtVrMRU6VRbi",
        "outputId": "afbf1b2b-f315-4c34-f7ff-f959b7c1a9a6"
      },
      "execution_count": null,
      "outputs": [
        {
          "output_type": "stream",
          "name": "stdout",
          "text": [
            "Input:4\n",
            "1\n",
            "4\n",
            "13\n",
            "40\n"
          ]
        }
      ]
    },
    {
      "cell_type": "markdown",
      "source": [
        "Q. 10). Take input from the user in the given format (name and code). Find the sum of square of digits from code. If the sum of square of digit of code are:\n",
        "Even: Then add last two characters in the begining\n",
        "Odd: Then add first character in the end.\n",
        "i.e., abcd:1234---> cdab\n",
        "      bcdgfhf:127836----> cdgfhfb"
      ],
      "metadata": {
        "id": "o7K-QD9yXekq"
      }
    },
    {
      "cell_type": "code",
      "source": [
        "answer=input('\\nEnter the input:  ')\n",
        "if answer.count(':') is not 1:\n",
        "  print('Invalid Input')\n",
        "else:\n",
        "  a=answer.split(':')\n",
        "  print('\\nSplited String:   {}'.format(a))\n",
        "  b=a[0]\n",
        "  h=len(b)\n",
        "  c=a[1]\n",
        "  if b.isalpha() is not True:\n",
        "    print('Invalid Input')\n",
        "  else:\n",
        "    if c.isdigit() is not True:\n",
        "      print('Invalid Input')\n",
        "    else:\n",
        "      num=c\n",
        "      loop=len(num)\n",
        "      sum=0\n",
        "      pointer=0\n",
        "      for i in range(loop):\n",
        "        d=int(num[pointer+i])\n",
        "        sum=sum+d*d\n",
        "      print('\\nSum of Square of digits from code:  {}'.format(sum))\n",
        "      if int(sum)%2==0:\n",
        "        f=b[-1]\n",
        "        g=b[-2]\n",
        "        print(' ')\n",
        "        print('Output:',g,f,end=' ')\n",
        "        for j in range(0,h-2):\n",
        "          print(b[j],end=' ')\n",
        "      else:\n",
        "        print(' ')\n",
        "        print('Output:',end=' ')\n",
        "        for i in range(1,h):\n",
        "          print(b[i],end=' ')\n",
        "        print(b[0])                    "
      ],
      "metadata": {
        "colab": {
          "base_uri": "https://localhost:8080/"
        },
        "id": "9HcWDA7xXhGi",
        "outputId": "fe2ff46e-5432-42de-fe3b-9c82aa3f39c9"
      },
      "execution_count": null,
      "outputs": [
        {
          "output_type": "stream",
          "name": "stdout",
          "text": [
            "\n",
            "Enter the input:  bcdgfhf:127836\n",
            "\n",
            "Splited String:   ['bcdgfhf', '127836']\n",
            "\n",
            "Sum of Square of digits from code:  163\n",
            " \n",
            "Output: c d g f h f b\n"
          ]
        }
      ]
    },
    {
      "cell_type": "markdown",
      "source": [
        "01/07/22_______Friday"
      ],
      "metadata": {
        "id": "oTdnkfZZYQY2"
      }
    },
    {
      "cell_type": "markdown",
      "source": [
        "Q. 11). Given an array with positive number (comma seperated) the task is that we find the largest subset from array that contain elements which are fibonaucci numbers.\n",
        "If more than two elements exist then print its length else print -1.\n",
        "i.e., Input: 3,2,5,8,9,10,13\n",
        "      Output: 5([2,3,5,8,13])"
      ],
      "metadata": {
        "id": "dxUlXY1CYRCP"
      }
    },
    {
      "cell_type": "code",
      "source": [
        "loop=int(input('How many elements do you want:\\n'))\n",
        "number=[]\n",
        "print('\\nEnter the elements:')\n",
        "for i in range(0,loop):\n",
        "  num=int(input())\n",
        "  number.append(num)\n",
        "number\n",
        "d=max(number)\n",
        "number1=[]\n",
        "a=0\n",
        "b=1\n",
        "number1.append(a)\n",
        "number1.append(b)\n",
        "for i in range(d):\n",
        "  d=a+b\n",
        "  number1.append(d)\n",
        "  a=b\n",
        "  b=d\n",
        "number=set(number)\n",
        "number1=set(number1)\n",
        "e=number1.intersection(number)\n",
        "print('\\nLargest subset:',e)\n",
        "g=len(e)\n",
        "if g>=2:\n",
        "  print('\\nCount:',g)\n",
        "else:\n",
        "  print('\\nCount: -1')"
      ],
      "metadata": {
        "colab": {
          "base_uri": "https://localhost:8080/"
        },
        "id": "jfR_Qv0AZG7l",
        "outputId": "7dee6ff3-3dc2-4b3c-f8ef-39b678647079"
      },
      "execution_count": null,
      "outputs": [
        {
          "output_type": "stream",
          "name": "stdout",
          "text": [
            "How many elements do you want:\n",
            "5\n",
            "\n",
            "Enter the elements:\n",
            "2\n",
            "3\n",
            "7\n",
            "9\n",
            "21\n",
            "\n",
            "Largest subset: {2, 3, 21}\n",
            "\n",
            "Count: 3\n"
          ]
        }
      ]
    },
    {
      "cell_type": "code",
      "source": [
        "def fib(n):\n",
        "  l=[0,1]\n",
        "  num1=0\n",
        "  num2=1\n",
        "  num3=1\n",
        "  while num3<=n:\n",
        "    num3=num1+num2\n",
        "    l.append(num3)\n",
        "    num1=num2\n",
        "    num2=num3\n",
        "def subset(l):\n",
        "  p=max(l)\n",
        "  w=[]\n",
        "  count=0\n",
        "  q=fib(p)\n",
        "  for i in l:\n",
        "    if i in q:\n",
        "      count=count+1\n",
        "      w.append(i)\n",
        "      print(q)"
      ],
      "metadata": {
        "id": "15LfeWTRZi2p"
      },
      "execution_count": null,
      "outputs": []
    },
    {
      "cell_type": "markdown",
      "source": [
        "Q. 12). Given a string s, find length of the longest prefix which is also suffix. The prefix and suffix should not be overlap.\n",
        "i.e., Input: abcdabc\n",
        "      Output: 3\n",
        "      Input: ababa\n",
        "      Output: 1"
      ],
      "metadata": {
        "id": "pKytRjRhZbRm"
      }
    },
    {
      "cell_type": "code",
      "source": [
        "number=input('Enter the string:  ')\n",
        "a=len(number)\n",
        "b=a//2\n",
        "c=number[b]\n",
        "d=number.split(c)\n",
        "if a%2 is not 0:\n",
        "  if d[0]==d[1]:\n",
        "    print('\\nLongest length is: ',b)\n",
        "  else:\n",
        "    print('\\nLength is: -1')\n",
        "elif a%2==0:\n",
        "  number=number[:b] +'x'+number[b:] \n",
        "  c=number[b]\n",
        "  e=number.split(c)\n",
        "  if e[0]==e[1]:\n",
        "    print('\\nLongest length is: ',b)\n",
        "  else:\n",
        "    print('\\nLength is: -1')\n",
        "else:\n",
        "  print('\\nInvalid Input')"
      ],
      "metadata": {
        "colab": {
          "base_uri": "https://localhost:8080/"
        },
        "id": "RxQnm-waZeUz",
        "outputId": "0271f371-ba11-4401-d71f-037c0a2d1ddc"
      },
      "execution_count": null,
      "outputs": [
        {
          "output_type": "stream",
          "name": "stdout",
          "text": [
            "Enter the string:  abab\n",
            "\n",
            "Longest length is:  2\n"
          ]
        }
      ]
    },
    {
      "cell_type": "code",
      "source": [
        "number=input('Enter the string:  ')\n",
        "a=len(number)\n",
        "b=a//2\n",
        "c=number[b]\n",
        "d=number.split(c)\n",
        "if d[0]==d[1]:\n",
        "  print('\\nLongest length is: ',b)\n",
        "else:\n",
        "  print('\\nLength is: -1')"
      ],
      "metadata": {
        "colab": {
          "base_uri": "https://localhost:8080/"
        },
        "id": "XNDm12AsZs8w",
        "outputId": "c511e501-45be-42a1-8e2c-b763d4372ee6"
      },
      "execution_count": null,
      "outputs": [
        {
          "output_type": "stream",
          "name": "stdout",
          "text": [
            "Enter the string:  abcdabc\n",
            "\n",
            "Longest length is:  3\n"
          ]
        }
      ]
    },
    {
      "cell_type": "markdown",
      "source": [
        "04/07/22_____Monday"
      ],
      "metadata": {
        "id": "D4Ll7U8qZ45Z"
      }
    },
    {
      "cell_type": "markdown",
      "source": [
        "Q. 13). Take the input from the user in the given format(consist of name and code).\n",
        "\n",
        "Find the maximum digit from the code which is less than or equal to(<=) the length of name and put the place char in the final string if there is no any digit found which satisfies the given condition then simply put 'X'.\n",
        "\n",
        "i.e., Input: Anchal:23581,Aman:57568,Sonakshi:34848,Ria:14585\n",
        "      Output: AXIR\n",
        "\n",
        "      Input: Sonakshi:34848,Naman:4739,Prachi:2949,Ekta:9889\n",
        "      Output: IACX"
      ],
      "metadata": {
        "id": "m-5df8IYZ52l"
      }
    },
    {
      "cell_type": "code",
      "source": [
        "answer=input('Enter the input(name and code):  ')\n",
        "print('\\nOutput: ',end=' ')\n",
        "a=answer.split(',')\n",
        "b=len(a)\n",
        "for i in range(b):\n",
        "  c=a[i]\n",
        "  d=c.split(':')\n",
        "  e=d[0]\n",
        "  f=d[1]\n",
        "  g=len(e)\n",
        "  rev=''.join(sorted(f,reverse=True))\n",
        "  h=len(rev)\n",
        "  for i in range(h):\n",
        "    j=rev[i]\n",
        "    k=int(j)\n",
        "    if int(g)>=k:\n",
        "      print(e[k-1],end=' ')\n",
        "      break\n",
        "  else:\n",
        "    print('X',end=' ')"
      ],
      "metadata": {
        "colab": {
          "base_uri": "https://localhost:8080/"
        },
        "id": "qJwbrRizaE4m",
        "outputId": "44479a60-53ed-4fea-ba91-738f0b06dbd5"
      },
      "execution_count": null,
      "outputs": [
        {
          "output_type": "stream",
          "name": "stdout",
          "text": [
            "Enter the input(name and code):  Anchal:23581,Aman:57568,Sonakshi:34848,Ria:14858\n",
            "\n",
            "Output:  a X i R "
          ]
        }
      ]
    },
    {
      "cell_type": "code",
      "source": [
        "str=input('Enter the input(name and code):  ')\n",
        "print('\\nOutput: ',end=' ')\n",
        "p=str.split(',')\n",
        "for i in p:\n",
        "  q=i.split(':')\n",
        "  emp=[]\n",
        "  length=len(q[0])\n",
        "  r=list(q[1])\n",
        "  for i in r:\n",
        "     if int(i)<=length:\n",
        "       emp.append(int(i))\n",
        "  if len (emp)>0:\n",
        "    m=max(emp)\n",
        "    print(q[0][m-1],end=' ')\n",
        "  else:\n",
        "    print('x',end=' ')"
      ],
      "metadata": {
        "colab": {
          "base_uri": "https://localhost:8080/"
        },
        "id": "PgnTpJt5ae7f",
        "outputId": "4786141a-ca1d-4c43-ae0c-f1588fee9074"
      },
      "execution_count": null,
      "outputs": [
        {
          "output_type": "stream",
          "name": "stdout",
          "text": [
            "Enter the input(name and code):  Anchal:23581,Aman:57568,Sonakshi:34848,Ria:14858\n",
            "\n",
            "Output:  a x i R "
          ]
        }
      ]
    },
    {
      "cell_type": "markdown",
      "source": [
        "Q. 14). Given a list (combination of repeated and distinct elements which are space seperated) and number of elements deletion X. You have to delete any X element from the list so that list will have minimum distinct number.\n",
        "i.e., Input: 4\n",
        "             1112233456\n",
        "      Output: 3\n",
        "\n",
        "      Input: 3\n",
        "             111222456\n",
        "      Output: 2"
      ],
      "metadata": {
        "id": "ONtmZ-o2ar0O"
      }
    },
    {
      "cell_type": "code",
      "source": [
        "n=int(input('Enter the number for deletion: '))\n",
        "l=input('\\nEnter the elements for the list:\\n').split(',')\n",
        "index=0\n",
        "result=[]\n",
        "counter=[]\n",
        "for i in l:\n",
        "    counter.append(l.count(i))\n",
        "for i in range(0,n):\n",
        "    min=counter[0]\n",
        "    for j in range(0,len(counter)):\n",
        "        if min>counter[j]:\n",
        "            min=counter[j]\n",
        "            index=j\n",
        "    result.append(l.pop(index))\n",
        "    counter.pop(index)\n",
        "result"
      ],
      "metadata": {
        "colab": {
          "base_uri": "https://localhost:8080/"
        },
        "id": "gwhC8ntKatzR",
        "outputId": "3fe7702f-0487-45a6-9ee0-e1987d94370f"
      },
      "execution_count": null,
      "outputs": [
        {
          "name": "stdout",
          "output_type": "stream",
          "text": [
            "Enter the number for deletion: 4\n",
            "\n",
            "Enter the elements for the list:\n",
            "1,1,1,2,2,3,3,4,5,6\n"
          ]
        },
        {
          "output_type": "execute_result",
          "data": {
            "text/plain": [
              "['4', '5', '6', '2']"
            ]
          },
          "metadata": {},
          "execution_count": 21
        }
      ]
    },
    {
      "cell_type": "code",
      "source": [
        "answer=int(input('Input:\\n\\nEnter how many numbers you want to delete:'))\n",
        "loop=int(input('\\nEnter how many elements do you want:'))\n",
        "li=[]\n",
        "lis=[]\n",
        "listt=[]\n",
        "listtt=[]\n",
        "listttt=[]\n",
        "sub=[]\n",
        "for i in range(0,loop):\n",
        "  num=int(input())\n",
        "  li.append(num)\n",
        "res = []\n",
        "e=len(res)\n",
        "for i in li:\n",
        "    if i not in res:\n",
        "        res.append(i)\n",
        "e=len(res)\n",
        "for i in range(0,int(e)):\n",
        "  c=res[i]\n",
        "  for i in range(0,loop):\n",
        "    count=li.count(c)\n",
        "  if count==1:\n",
        "    lis.append(c)  \n",
        "  if count==2:\n",
        "    listt.append(c)\n",
        "    listt.append(c)\n",
        "  if count==3:\n",
        "    listtt.append(c)\n",
        "    listtt.append(c)\n",
        "    listtt.append(c)\n",
        "  if count==4:\n",
        "    listttt.append(c)\n",
        "    listttt.append(c)\n",
        "    listttt.append(c)\n",
        "    listttt.append(c)\n",
        "sub.extend(lis)\n",
        "sub.extend(listt)\n",
        "sub.extend(listtt)\n",
        "sub.extend(listttt)\n",
        "for i in range(answer):\n",
        "  sub.pop(0)\n",
        "res2= []\n",
        "for i in sub:\n",
        "    if i not in res2:\n",
        "        res2.append(i)\n",
        "e=len(res2)\n",
        "print('\\nOutput: ',e)"
      ],
      "metadata": {
        "colab": {
          "base_uri": "https://localhost:8080/"
        },
        "id": "mEuBeDEua6-C",
        "outputId": "67147d7c-a74b-456f-bfb2-096fcb56f477"
      },
      "execution_count": null,
      "outputs": [
        {
          "output_type": "stream",
          "name": "stdout",
          "text": [
            "Input:\n",
            "\n",
            "Enter how many numbers you want to delete:4\n",
            "\n",
            "Enter how many elements do you want:10\n",
            "1\n",
            "1\n",
            "1\n",
            "2\n",
            "2\n",
            "3\n",
            "3\n",
            "4\n",
            "5\n",
            "6\n",
            "\n",
            "Output:  3\n"
          ]
        }
      ]
    },
    {
      "cell_type": "code",
      "source": [
        "answer=int(input('Input:\\nEnter how many numbers you want to delete:'))\n",
        "loop=int(input('Enter how many elements do you want:'))\n",
        "li=[]\n",
        "lis=[]\n",
        "listt=[]\n",
        "listtt=[]\n",
        "listttt=[]\n",
        "sub=[]\n",
        "for i in range(0,loop):\n",
        "  num=int(input())\n",
        "  li.append(num)\n",
        "res = []\n",
        "e=len(res)\n",
        "for i in li:\n",
        "    if i not in res:\n",
        "        res.append(i)\n",
        "e=len(res)\n",
        "print(res)\n",
        "for i in range(0,int(e)):\n",
        "  c=res[i]\n",
        "  for i in range(0,loop):\n",
        "    count=li.count(c)\n",
        "  if count==1:\n",
        "    lis.append(c)  \n",
        "  if count==2:\n",
        "    listt.append(c)\n",
        "    listt.append(c)\n",
        "  if count==3:\n",
        "    listtt.append(c)\n",
        "    listtt.append(c)\n",
        "    listtt.append(c)\n",
        "  if count==4:\n",
        "    listttt.append(c)\n",
        "    listttt.append(c)\n",
        "    listttt.append(c)\n",
        "    listttt.append(c)\n",
        "print(lis)\n",
        "print(listt)\n",
        "print(listtt)\n",
        "print(listttt)\n",
        "sub.extend(lis)\n",
        "sub.extend(listt)\n",
        "sub.extend(listtt)\n",
        "sub.extend(listttt)\n",
        "print(sub)\n",
        "for i in range(answer):\n",
        "  sub.pop(0)\n",
        "print(sub)\n",
        "res2= []\n",
        "e=len(res2)\n",
        "for i in sub:\n",
        "    if i not in res2:\n",
        "        res2.append(i)\n",
        "e=len(res2)\n",
        "print(e)"
      ],
      "metadata": {
        "colab": {
          "base_uri": "https://localhost:8080/"
        },
        "id": "nlvVCT7QbSUp",
        "outputId": "9ed0ee45-e8b3-4656-8537-ca3dd0b1fe4b"
      },
      "execution_count": null,
      "outputs": [
        {
          "output_type": "stream",
          "name": "stdout",
          "text": [
            "Input:\n",
            "Enter how many numbers you want to delete:4\n",
            "Enter how many elements do you want:10\n",
            "1\n",
            "1\n",
            "1\n",
            "2\n",
            "2\n",
            "3\n",
            "3\n",
            "4\n",
            "5\n",
            "6\n",
            "[1, 2, 3, 4, 5, 6]\n",
            "[4, 5, 6]\n",
            "[2, 2, 3, 3]\n",
            "[1, 1, 1]\n",
            "[]\n",
            "[4, 5, 6, 2, 2, 3, 3, 1, 1, 1]\n",
            "[2, 3, 3, 1, 1, 1]\n",
            "3\n"
          ]
        }
      ]
    },
    {
      "cell_type": "markdown",
      "source": [
        "Q. 15). Number of odd sub arrays. Find the number of distinct subarrays in an array of positive integers such that the sum of the subarray is an odd integer, two subarrays are considered different if they either start or end at different index.\n",
        "\n",
        "i.e. Input: 1\n",
        "           3\n",
        "           1 2 3\n",
        "     Output: 4\n",
        "\n",
        "OR\n",
        "\n",
        "You are given an array ‘ARR’ of size ‘N’. Your task is to find the total number of sub-arrays with an odd sum. The sub-array is a contiguous part of an array. For example, consider the array [1, 2, 3], There are 6 non-empty sub-arrays. The sub-arrays are [1], [2], [3], [1,2], [2,3] and [1,2,3]."
      ],
      "metadata": {
        "id": "I4cAWe_Jd8Tz"
      }
    },
    {
      "cell_type": "code",
      "source": [
        "x=list(map(int, input(\"Enter the value in the form of comma separated: \").split(',')))\n",
        "count=0\n",
        "for i in range(0,len(x)):\n",
        "  sum=0\n",
        "  for j in range(i,len(x)):\n",
        "    sum=sum+x[j]\n",
        "    if sum%2!=0:\n",
        "      count=count+1\n",
        "print(\"\\nTotal odd sum in array is \",count)"
      ],
      "metadata": {
        "id": "DG6nxELFd_FK",
        "colab": {
          "base_uri": "https://localhost:8080/"
        },
        "outputId": "e0c121a6-4971-4cc3-ebd3-32e452e4deaf"
      },
      "execution_count": null,
      "outputs": [
        {
          "output_type": "stream",
          "name": "stdout",
          "text": [
            "Enter the value in the form of comma separated: 1,2,3\n",
            "\n",
            "Total odd sum in array is  4\n"
          ]
        }
      ]
    },
    {
      "cell_type": "markdown",
      "source": [
        "07/07/22_____Thursday"
      ],
      "metadata": {
        "id": "u2IWWIk4d_wO"
      }
    },
    {
      "cell_type": "markdown",
      "source": [
        "Q. 16). WAP to compare results of two students with the help of class and print who is winner."
      ],
      "metadata": {
        "id": "qu_pS7yveCzy"
      }
    },
    {
      "cell_type": "code",
      "source": [
        "class student:\n",
        "  def __init__(self,m1,m2,m3):\n",
        "    self.maths=m1\n",
        "    self.english=m2\n",
        "    self.hindi=m3\n",
        "  def __gt__(self,other):\n",
        "    p=self.maths+self.english+self.hindi\n",
        "    q=other.maths+other.english+other.hindi\n",
        "    if p>q:\n",
        "      return True\n",
        "    else:\n",
        "      return False\n",
        "\n",
        "s1=student(34,56,36)\n",
        "s2=student(55,23,45)\n",
        "\n",
        "if s1>s2:\n",
        "  print('Student 1 is winner.')\n",
        "else:\n",
        "  print('Student 2 is winner.')"
      ],
      "metadata": {
        "colab": {
          "base_uri": "https://localhost:8080/"
        },
        "id": "QZaccTvGeGV1",
        "outputId": "cbe0224d-7b88-4643-c009-11999b4f833e"
      },
      "execution_count": null,
      "outputs": [
        {
          "output_type": "stream",
          "name": "stdout",
          "text": [
            "Student 1 is winner.\n"
          ]
        }
      ]
    },
    {
      "cell_type": "code",
      "source": [
        "class student:\n",
        "  def __init__(self,m1,m2,m3):\n",
        "    self.maths=m1\n",
        "    self.english=m2\n",
        "    self.hindi=m3\n",
        "  def average(self):\n",
        "    return(self.maths+self.english+self.hindi)/3\n",
        " \n",
        "s1=student(34,56,36)\n",
        "s2=student(55,23,45)\n",
        "\n",
        "print(s1.average)\n",
        "print(s2.average)"
      ],
      "metadata": {
        "colab": {
          "base_uri": "https://localhost:8080/"
        },
        "id": "WgaIar2xeOA9",
        "outputId": "147283f6-e2a2-4dc5-cb72-1f972395cc51"
      },
      "execution_count": null,
      "outputs": [
        {
          "output_type": "stream",
          "name": "stdout",
          "text": [
            "<bound method student.average of <__main__.student object at 0x7f1a096c4f50>>\n",
            "<bound method student.average of <__main__.student object at 0x7f1a09de25d0>>\n"
          ]
        }
      ]
    },
    {
      "cell_type": "markdown",
      "source": [
        "Q. 17). Library Management System."
      ],
      "metadata": {
        "id": "A1l2sGVSeUw-"
      }
    },
    {
      "cell_type": "code",
      "source": [
        "class book:\n",
        "  def __init__(self,t,a,c):\n",
        "    self.title=t\n",
        "    self.author=a\n",
        "    self.cost=c\n",
        "while(1):\n",
        "  print('''\\t\\tLibrary Management System\\n\n",
        "  \\tPress 1 to add new book\n",
        "  \\tPress 2 to delete book\n",
        "  \\tPress 3 to show all books\n",
        "  \\tPress 4 to add student\n",
        "  \\tPress 5 to delete student\n",
        "  \\tPress 6 to issue book\n",
        "  \\tPress 7 to return book\\n''')\n",
        "  Input=input('Enter your choice: ')\n",
        "  listofbooks=[]\n",
        "  if Input=='1':\n",
        "    t=input('Enter the title: ')\n",
        "    a=input('Enter the author: ')\n",
        "    c=input('Enter the Cost: ')\n",
        "    listofbooks.append(book(t,a,c))\n",
        "    break\n",
        "  elif Input=='2':\n",
        "    t=input('Enter the title: ')\n",
        "    a=input('Enter the author: ')\n",
        "    c=input('Enter the Cost: ')\n",
        "    listofbooks.remove(book(t,a,c))\n",
        "  elif Input=='3':\n",
        "    loop=len(listofbooks)\n",
        "    for i in range(0,loop):\n",
        "      print(listofbooks[i])\n",
        "  elif Input=='4':\n",
        "\n",
        "  elif Input=='5':\n",
        "\n",
        "  elif Input=='6':\n",
        "    \n",
        "  elif Input=='7':\n",
        "\n",
        "  else:\n"
      ],
      "metadata": {
        "id": "JYc1EzASeVcy"
      },
      "execution_count": null,
      "outputs": []
    },
    {
      "cell_type": "code",
      "source": [
        "class book:\n",
        "    def __init__(self,t,a,c):\n",
        "        self.title=t\n",
        "        self.author=a\n",
        "        self.cost=c\n",
        "listofbooks=[]\n",
        "while(1):\n",
        "  print('''\\t\\tLibrary Management System\n",
        "  \\nPress 1 to add new book\n",
        "  \\nPress 2 to delete a book\n",
        "  \\nPress 3 to show all books\n",
        "  \\nPress 4 to issue a book\n",
        "  \\nPress 5 to return a book\n",
        "  \\nPress 6 to add new student\n",
        "  \\nPress 7 to stop the application''')\n",
        "  str=input('\\tChoose an option')\n",
        "  if str=='1':\n",
        "      t=input('Enter the title:')\n",
        "      a=input('Enter the author:')\n",
        "      c=input('Enter the cost:')\n",
        "      book(t,a,c)\n",
        "      listofbooks.append(book(t,a,c))\n",
        "  elif str=='2':\n",
        "      pass\n",
        "  elif str=='3':\n",
        "      for i in listofbooks:\n",
        "        print('title: ',i.title)\n",
        "        print('author: ',i.author)\n",
        "        print('cost: ',i.cost)\n",
        "    \n",
        "  elif str=='7':\n",
        "      break"
      ],
      "metadata": {
        "id": "54dbLdejebQS"
      },
      "execution_count": null,
      "outputs": []
    },
    {
      "cell_type": "markdown",
      "source": [
        "08/07/22_____Friday"
      ],
      "metadata": {
        "id": "I9Ub64EteeNU"
      }
    },
    {
      "cell_type": "markdown",
      "source": [
        "Q. 18). Biggest Meatball Problem Statement – \n",
        "\n",
        "Bhojon is a restaurant company and has started a new wing in a city. They have every type of cook except the meatball artist. They had fired their last cook because the sale of meatballs in their restaurant is really great, and they can’t afford to make meatballs again and again every time their stock gets empty. They have arranged a hiring program, where you can apply with their meatball.\n",
        "\n",
        "They will add the meatball in their seekh (a queue) and everytime they cut the meatball they take it and cut it on the day’s quantity and then re-add the meatball in the seekh. You are the hiring manager there and you are going to say who is gonna be hired.\n",
        "\n",
        "Day’s quantity means, on that very day the company sells only that kg of meatballs to every packet.\n",
        "\n",
        "If someone has less than a day’s quantity, it will be counted as a sell.\n",
        ".\n",
        ".\n",
        "\n",
        "Function Description:\n",
        "Complete the function with the following parameters:\n",
        "Parameters:\n",
        "\n",
        "Name\tType\tDescription\n",
        "N\tInteger\tHow many people are participating in the hiring process.\n",
        "D\tInteger\tDay’s quantity, how many grams of meatball is being sold to every packet.\n",
        "Array[ ]\tInteger array\tArray of integers, the weight of meatballs everyone came with.\n",
        "\n",
        "Return: The ith person whose meat is served at last.\n",
        "\n",
        "Constraints:\n",
        "1 <= N <= 10^3\n",
        "1 <= D <= 10^3\n",
        "1 <= Array[i] <= 10^3\n",
        "\n",
        "Input Format:\n",
        "First line contains N.\n",
        "Second line contains D.\n",
        "After that N lines contain The ith person’s meatball weight.\n",
        " \n",
        "Output Format: The 1 based index of the man whose meatball is served at the last.\n",
        "\n",
        "Sample Input 1:\n",
        "4\n",
        "2\n",
        "[7 8 9 3]\n",
        "\n",
        "Sample Output 1:\n",
        "3"
      ],
      "metadata": {
        "id": "TSS1aWX8ei_u"
      }
    },
    {
      "cell_type": "code",
      "source": [
        "people=int(input('Enter how many people are participating in the hiring process: '))\n",
        "pointer=0\n",
        "maxweight=0\n",
        "arrayweight=[]\n",
        "meatballsold=int(input('\\nEnter how many grams of meatball is being sold to every packet: '))\n",
        "duparray=[]\n",
        "\n",
        "print('\\nEnter the weight of meatballs everyone came with: ')\n",
        "for i in range(people):\n",
        "    a=int(input('Participant {}: '.format(i+1)))\n",
        "    arrayweight.append(a)\n",
        "    duparray.append(arrayweight[i])\n",
        "\n",
        "for i in range(people):\n",
        "    arrayweight[i]=(arrayweight[i])//meatballsold\n",
        "\n",
        "for i in range(people):\n",
        "    if arrayweight[i]>=pointer:\n",
        "        pointer=arrayweight[i]\n",
        "        maxweight=i\n",
        "\n",
        "print('\\nOutput: The man whose meatball is served at the last with Maximum weight of meatball( {}kg) is at the position {} '.format(duparray[maxweight],maxweight+1))"
      ],
      "metadata": {
        "colab": {
          "base_uri": "https://localhost:8080/"
        },
        "id": "UPiFWgCmelqz",
        "outputId": "76e652d7-bda9-4f8e-8b77-8c54f109d25f"
      },
      "execution_count": null,
      "outputs": [
        {
          "output_type": "stream",
          "name": "stdout",
          "text": [
            "Enter how many people are participating in the hiring process: 4\n",
            "\n",
            "Enter how many grams of meatball is being sold to every packet: 2\n",
            "\n",
            "Enter the weight of meatballs everyone came with: \n",
            "Participant 1: 7\n",
            "Participant 2: 8\n",
            "Participant 3: 9\n",
            "Participant 4: 3\n",
            "\n",
            "Output: The man whose meatball is served at the last with Maximum weight of meatball( 9kg) is at the position 3 \n"
          ]
        }
      ]
    },
    {
      "cell_type": "markdown",
      "source": [
        "Q. 19). Input will be like 5624381275. Separate odd places integers=6,4,8,2,5\n",
        "\n",
        "You have to return a 4-digit OTP by squaring the digits. Digits according to input are 6,4,8,2,5\n",
        "\n",
        "Square those numbers- 36,16,64,4,25\n",
        "\n",
        "So, the OTP to be returned is first four digits i.e., 3616"
      ],
      "metadata": {
        "id": "41KDULk3exUE"
      }
    },
    {
      "cell_type": "code",
      "source": [
        "Input=input('Enter the number of digits you want in the element: ')\n",
        "print('\\nOTP:',end=' ')\n",
        "l=len(Input)\n",
        "sqr=[]\n",
        "square=[]\n",
        "for i in range(0,l):\n",
        "  if i%2 is not 0:\n",
        "    a=Input[i]\n",
        "    b=int(a)*int(a)\n",
        "    sqr.append(a)\n",
        "l2=len(sqr)\n",
        "for i in range(0,l2):\n",
        "  c=int(sqr[i])*int(sqr[i])\n",
        "  square.append(c)\n",
        "listtostr = ''.join(map(str, square))\n",
        "for i in range(0,4):\n",
        "  print(listtostr[i],end=' ')\n"
      ],
      "metadata": {
        "colab": {
          "base_uri": "https://localhost:8080/"
        },
        "id": "ADVGD2LNe29c",
        "outputId": "b1a37cbd-bc4b-4e9b-cc2c-8b5490160c48"
      },
      "execution_count": null,
      "outputs": [
        {
          "output_type": "stream",
          "name": "stdout",
          "text": [
            "Enter the number of digits you want in the element: 5624381275\n",
            "\n",
            "OTP: 3 6 1 6 "
          ]
        }
      ]
    },
    {
      "cell_type": "markdown",
      "source": [
        "Q. 20). Program to reverse a string after removing duplicates.\n",
        "i.e. Input: infosys\n",
        "     Output: ysofni\n",
        "     Input: google\n",
        "     Output: elog"
      ],
      "metadata": {
        "id": "FFY8ck66fbN0"
      }
    },
    {
      "cell_type": "code",
      "source": [
        "Input=input('Input: ')\n",
        "res = []\n",
        "for i in Input:\n",
        "    if i not in res:\n",
        "        res.append(i)\n",
        "e=len(res)\n",
        "print (\"The reversed string is : \", end = \"\")\n",
        "for i in reversed(range(e)):\n",
        "  print(res[i], end = \"\")"
      ],
      "metadata": {
        "colab": {
          "base_uri": "https://localhost:8080/"
        },
        "id": "bogm8HRMfdEf",
        "outputId": "9b303f0f-0097-4b17-b539-5c83ead89fb6"
      },
      "execution_count": null,
      "outputs": [
        {
          "output_type": "stream",
          "name": "stdout",
          "text": [
            "Input: infosys\n",
            "The reversed string is : ysofni"
          ]
        }
      ]
    },
    {
      "cell_type": "code",
      "source": [
        "str=input('Enter the string: ')\n",
        "out_str=\"\"\n",
        "for i in str:\n",
        "  if i not in out_str:\n",
        "    out_str+=i\n",
        "print (\"The reversed string is : \",out_str[::-1])"
      ],
      "metadata": {
        "colab": {
          "base_uri": "https://localhost:8080/"
        },
        "id": "mfC_zFNzfgsr",
        "outputId": "845da43e-ad9e-42df-dec4-804c731a41a8"
      },
      "execution_count": null,
      "outputs": [
        {
          "output_type": "stream",
          "name": "stdout",
          "text": [
            "Enter the string: google\n",
            "The reversed string is :  elog\n"
          ]
        }
      ]
    },
    {
      "cell_type": "code",
      "source": [
        "str=input('Enter the string: ')\n",
        "d=list(dict.fromkeys(str))\n",
        "d.reverse()\n",
        "print(\"\".join(d))\n",
        "#fromkeys will work on vscode"
      ],
      "metadata": {
        "id": "-b2ihCeMflWN"
      },
      "execution_count": null,
      "outputs": []
    },
    {
      "cell_type": "markdown",
      "source": [
        "Q. 21). A string of comma separated numbers are given such that the numbers 4 and 7 are already present in the list. Assume that 7 always comes after 4 in the given string.\n",
        "\n",
        "Case 1: num1 = add all numbers which do not lie between 4 and 7 in the input(excluding 4 and 7)\n",
        "\n",
        "Case 2: num2 = numbers formed by concatenateing all numbers from 4 to 7(including 4 and 7)\n",
        "\n",
        "Output:- Sum of num1 and num2\n",
        "\n",
        "i.e., 3,1,6,4,2,3,7,2\n",
        "      Num1: 3+1+6+2=12\n",
        "      Num2: '4'+'2'+'3'+'7'='4237'\n",
        "      Output: 4237 + 12 = 4249"
      ],
      "metadata": {
        "id": "O7q6ukTdfvT9"
      }
    },
    {
      "cell_type": "code",
      "source": [
        "Input=input('Enter the string: ').split(',')\n",
        "l=len(Input)\n",
        "index1=0\n",
        "index2=0\n",
        "answer=0\n",
        "num1=0\n",
        "num2=[]\n",
        "for i in range(0,l):\n",
        "  if int(Input[i])==4:\n",
        "    index1=i\n",
        "  if int(Input[i])==7:\n",
        "    index2=i\n",
        "for i in range(index1,index2+1):\n",
        "  num2.append(Input[i])\n",
        "listtostr1 = ''.join(map(str,num2))\n",
        "for i in range(0,index1):\n",
        "  num1=num1+int(Input[i])\n",
        "for i in range(index2+1,l):\n",
        "  num1=num1+int(Input[i])\n",
        "print('\\nNum1:',num1)\n",
        "print('\\nNum2:',listtostr1)\n",
        "answer=int(listtostr1)\n",
        "answer=answer+num1\n",
        "print('\\nOutput: ',answer)"
      ],
      "metadata": {
        "colab": {
          "base_uri": "https://localhost:8080/"
        },
        "id": "WuXDXYkTfwFS",
        "outputId": "3700cf6c-b277-4bb6-91f3-082280c55d02"
      },
      "execution_count": null,
      "outputs": [
        {
          "output_type": "stream",
          "name": "stdout",
          "text": [
            "Enter the string: 3,1,6,4,2,3,7,2\n",
            "\n",
            "Num1: 12\n",
            "\n",
            "Num2: 4237\n",
            "\n",
            "Output:  4249\n"
          ]
        }
      ]
    },
    {
      "cell_type": "code",
      "source": [
        "lst1=list(map(int,input('Enter the string: ').split(',')))\n",
        "num1=sum(lst1[:lst1.index(4)])+sum(lst1[lst1.index(7)+1:])\n",
        "num2=''\n",
        "lst2=lst1[lst1.index(4):lst1.index(7)+1]\n",
        "for i in lst2:\n",
        "  num2+=str(i)\n",
        "print(num1+int(num2))\n",
        "#Map function will work on vscode"
      ],
      "metadata": {
        "id": "1S5Vtp7OgADu"
      },
      "execution_count": null,
      "outputs": []
    },
    {
      "cell_type": "markdown",
      "source": [
        "Q. 22). Input a matrix, Check if do we get the same number consecutively at least 4 times in any fashion (vertically,horizontally,digonally). Record those sets.\n",
        ".\n",
        "If we get multiple values, then print minimum of them. And if no such consecutive numbers then print -1.\n",
        ".\n",
        "Input: 6 6\n",
        "\n",
        " 1 [3  3  3  3][9]\n",
        " 1  6  9 [2] 3 [9]\n",
        " 1  2 [2] 5  4 [9]\n",
        " 2 [2] 4  5  7 [9]\n",
        "[2] 4  5  6  7  2\n",
        " 1  2  3  4  5  6\n",
        "\n",
        "Output: 2"
      ],
      "metadata": {
        "id": "NedZS9gOgLsq"
      }
    },
    {
      "cell_type": "code",
      "source": [
        "# taking size of row and column with space in-between & splitting them\n",
        "rcol=input('Enter the number of rows and columns you want in the matrix:- ')\n",
        "rows,columns=rcol.split()\n",
        "rows=int(rows)\n",
        "columns=int(columns)\n",
        "\n",
        "# initializing list's and variables for use\n",
        "li=[]\n",
        "elements=[]\n",
        "flag=0\n",
        "count=0\n",
        "comp1=2\n",
        "comp2=-columns\n",
        "val=-999\n",
        "\n",
        "# adding elements to the matrix and checking wheather the list have valid size or not\n",
        "for i in range(rows):\n",
        "  ele=input()\n",
        "  arr=ele.split()\n",
        "  li.append(arr)\n",
        "  if len(arr)==columns:\n",
        "    continue\n",
        "  else:\n",
        "    flag=1\n",
        "    break\n",
        "\n",
        "# if size of the list is valid then checking the desired element in the matrix\n",
        "if flag==0:\n",
        "\n",
        "  # checking the desired element in the rows and adding to a new list if present\n",
        "  for i in range(0,rows):\n",
        "    for j in range(0,columns-1):\n",
        "      ele1=li[i][j]\n",
        "      ele2=li[i][j+1]\n",
        "      if ele1==ele2:\n",
        "        count=count+1\n",
        "        if count==3:\n",
        "          elements.append(ele1)\n",
        "      else:\n",
        "        count=0\n",
        "  # print(elements)\n",
        "\n",
        "  # checking the desired element in the columns and adding to a new list if present\n",
        "  for i in range(0,columns):\n",
        "    for j in range(0,rows-1):\n",
        "      ele1=li[j][i]\n",
        "      ele2=li[j+1][i]\n",
        "      if ele1==ele2:\n",
        "        count=count+1\n",
        "        if count==3:\n",
        "          elements.append(ele1)\n",
        "      else:\n",
        "        count=0\n",
        "  # print(elements)\n",
        "\n",
        "  # using loop variable to manupulate iterator until every digonal is traversed\n",
        "  loop=rows+columns\n",
        "\n",
        "  # checking the desired element digonally( left to right) and adding to a new list if present\n",
        "  for k in range(loop):\n",
        "    comp1=comp1+1\n",
        "    count=0\n",
        "    val=-999\n",
        "    for i in range(rows):\n",
        "      for j in range(columns):\n",
        "        if i+j==comp1:\n",
        "          ele1=li[i][j]\n",
        "          if ele1==val:\n",
        "            count=count+1\n",
        "            if count==3:\n",
        "              elements.append(ele1)\n",
        "          else:\n",
        "            count=0\n",
        "          val=ele1\n",
        "  # print(elements)\n",
        "\n",
        "  # checking the desired element digonally( right to left) and adding to a new list if present\n",
        "  for k in range(loop):\n",
        "    comp2=comp2+1\n",
        "    count=0\n",
        "    for i in range(rows):\n",
        "      for j in range(columns):\n",
        "        if i-j==comp2:\n",
        "          ele1=li[i][j]\n",
        "          if ele1==val:\n",
        "            count=count+1\n",
        "            if count==3:\n",
        "              elements.append(ele1)\n",
        "          else:\n",
        "            count=0\n",
        "          val=ele1\n",
        "  # print(elements)\n",
        "  \n",
        "  # according to the conditions, if no consecutive element found we print '-1' o/w we print the 'minimum element' amoung every consecutive element in the list\n",
        "  if len(elements)==0:\n",
        "    print('\\nOutput: -1')\n",
        "  else:\n",
        "    print('\\nOutput:',min(elements))\n",
        "\n",
        "# if the size of the matrix is invalid then we break from the program\n",
        "else:\n",
        "  print('You can only enter {} elements in the columns'.format(columns))\n",
        "\n",
        "# To Take Input Frequently.....( Just Copy-Paste)\n",
        "# 1 3 3 3 3 9\n",
        "# 1 6 9 2 3 9\n",
        "# 1 2 2 5 4 9\n",
        "# 2 2 4 5 7 9\n",
        "# 2 4 5 6 7 2\n",
        "# 1 2 3 4 5 6"
      ],
      "metadata": {
        "colab": {
          "base_uri": "https://localhost:8080/"
        },
        "id": "di-6MEjSgWmi",
        "outputId": "0f977100-ad7f-487c-c0ef-3cccf675e9f8"
      },
      "execution_count": null,
      "outputs": [
        {
          "output_type": "stream",
          "name": "stdout",
          "text": [
            "Enter the number of rows and columns you want in the matrix:- 6 6\n",
            "1 3 3 3 3 9\n",
            "1 6 9 2 3 9\n",
            "1 2 2 5 4 9\n",
            "2 2 4 5 7 9\n",
            "2 4 5 6 7 2\n",
            "1 2 3 4 5 6\n",
            "\n",
            "Output: 2\n"
          ]
        }
      ]
    },
    {
      "cell_type": "code",
      "source": [
        "row,column=map(int,input().split(\" \"))\n",
        "digit=[]\n",
        "matrix=[]\n",
        "for r in range(row):\n",
        "    row_numbers=list(map(int,input().split())) \n",
        "    matrix.append(row_numbers)    \n",
        "for r in range(0, row):\n",
        "    for c in range(0, column):\n",
        "        if(c < column-3): #condition for cosecutive numbers in all rows\n",
        "         \n",
        "                if(matrix[r][c]==matrix[r][c+1]==matrix[r][c+2]==matrix[r][c+3]):\n",
        "                        digit.append(matrix[r][c])     \n",
        "                         \n",
        "        if(r < row-3):    #condition for cosecutive numbers in all columns\n",
        "         \n",
        "                if(matrix[r][c]==matrix[r+1][c]==matrix[r+2][c]==matrix[r+3][c]):\n",
        "                        digit.append(matrix[r][c])  \n",
        "                                        \n",
        "        if(c < column-3 and r >= 3): #cosecutive numbers in all left to right diagonals\n",
        "         \n",
        "                if(matrix[r][c]==matrix[r-1][c+1]==matrix[r-2][c+2]==matrix[r-3][c+3]):            \n",
        "                        digit.append(matrix[r][c])\n",
        "                         \n",
        "        if(c >= 3 and r >= 3):   #cosecutive numbers in all left to right diagonals\n",
        "         \n",
        "                if(matrix[r][c]==matrix[r-1][c-1]==matrix[r-2][c-2]==matrix[r-3][c-3]):            \n",
        "                        digit.append(matrix[r][c])         \n",
        "       \n",
        "if(len(digit)==0):\n",
        "    print(\"-1\")\n",
        "else:    \n",
        "    print(min(digit))"
      ],
      "metadata": {
        "colab": {
          "base_uri": "https://localhost:8080/"
        },
        "id": "u5hNp_sngruW",
        "outputId": "9d7fd655-6bbc-4bc9-918f-dd389f3b7214"
      },
      "execution_count": null,
      "outputs": [
        {
          "output_type": "stream",
          "name": "stdout",
          "text": [
            "6 6\n",
            "1 3 3 3 3 9\n",
            "1 6 9 2 3 9\n",
            "1 2 2 5 4 9\n",
            "2 2 4 5 7 9\n",
            "2 4 5 6 7 2\n",
            "1 2 3 4 5 6\n",
            "2\n"
          ]
        }
      ]
    },
    {
      "cell_type": "markdown",
      "source": [
        "Q. 23). Consider a non-empty string **instr** containing only letters,numbers, and white spaces. Identify and print a string **outstr** based on the logic below:\n",
        "* Form a string by removing all occurences of the characters in **instr** at **special index**, if the character at the special index is a non-white space.\n",
        "* Special index is the absolute index obtained by substracting the number of occurences of highest occuring letters (a-z and A-Z) and the number of occurrences of highest occuring digit (0-9) in **instr**.\n",
        "* If the character at the special index is a white space, ignore the removal of character.\n",
        "* Replace all occurences of white spaces in the above formed string with a $ (dollar symbol).\n",
        "\n",
        "Assumption:\n",
        "* The input string **instr** will not contain any leading or trailing spaces.\n",
        "* The input string **instr** will contain atleast two unique characters.\n",
        "\n",
        "Input format: Read instr from standard input stream.\n",
        "\n",
        "Output format: Print the outstr to standard output stream.\n",
        "\n",
        "Input1: 999 aa 22aa\n",
        "Output1: $aa$22aa\n",
        "\n",
        "Input2: Hi there\n",
        "Output2: Hi$there"
      ],
      "metadata": {
        "id": "XxkZIU9Fg8PA"
      }
    },
    {
      "cell_type": "code",
      "source": [
        "from sys import api_version\n",
        "# libraries for checking only( digits, space and alphabets) in the string\n",
        "import re    \n",
        "\n",
        "# initializing lists and variables for use\n",
        "instr=input('Input: ')\n",
        "digits=[]      \n",
        "alphabets=[]\n",
        "count=0\n",
        "mod=0\n",
        "moa=0\n",
        "\n",
        "instr=instr.replace(' ','  ')\n",
        "\n",
        "# checking the input condition is valid or not\n",
        "check = all(chr.isalnum() or chr.isspace() for chr in instr)\n",
        "\n",
        "if check is True:\n",
        "  res = []\n",
        "\n",
        "  # removing duplicates from the string\n",
        "  for i in instr:\n",
        "    if i not in res:\n",
        "        res.append(i)\n",
        "\n",
        "  # seperating alphabets and digits from each other in the string\n",
        "  for i in range(0,len(res)):\n",
        "    if res[i].isalpha() is True:\n",
        "      alphabets.append(res[i])\n",
        "    if res[i].isdigit() is True:\n",
        "      digits.append(res[i])\n",
        "\n",
        "  # calculating count of maximum occurence alphabet\n",
        "  for i in range(0,len(alphabets)):\n",
        "    e=alphabets[i]\n",
        "    for j in range(0,len(instr)):\n",
        "      count=instr.count(e)\n",
        "      if count>moa:\n",
        "        moa=count\n",
        " \n",
        "  # calculating count of maximum occurence digit\n",
        "  for i in range(0,len(digits)):\n",
        "    d=digits[i]\n",
        "    for j in range(0,len(instr)):\n",
        "      count=instr.count(d)\n",
        "      if count>mod:\n",
        "        mod=count\n",
        "  \n",
        "  # calculating special index\n",
        "  sindex=moa-mod-1\n",
        "\n",
        "  # creating a new list which consist spaces too\n",
        "  newlist=list(instr.split(' '))\n",
        "\n",
        "  # if special index is space then simply replacing all spaces by '$' sign\n",
        "  if newlist[sindex] is '':\n",
        "    for i in range(len(newlist)):\n",
        "      if newlist[i] == '':\n",
        "        newlist[i] = '$'\n",
        "    listToStr=''.join(map(str,newlist))\n",
        "    print('Output:',listToStr)\n",
        "\n",
        "    # if special index is not space then removing the element from the special index and replacing all the spaces by '$' sign\n",
        "  else:\n",
        "    newlist.pop(sindex)\n",
        "    for i in range(len(newlist)):\n",
        "      if newlist[i] == '':\n",
        "        newlist[i] = '$'\n",
        "    listToStr = ''.join(map(str,newlist))\n",
        "    print('Output:',listToStr)\n",
        "else:\n",
        "  print('Invalid Input')"
      ],
      "metadata": {
        "colab": {
          "base_uri": "https://localhost:8080/"
        },
        "id": "f4M26zFJhEE2",
        "outputId": "2428bb8f-3faf-48fa-fd48-2896f71579f5"
      },
      "execution_count": null,
      "outputs": [
        {
          "output_type": "stream",
          "name": "stdout",
          "text": [
            "Input: 999 aa 22aa\n",
            "Output: $aa$22aa\n"
          ]
        }
      ]
    },
    {
      "cell_type": "markdown",
      "source": [
        "Q. 24). Problem statement:\n",
        "Given a non-empty string containing only digits. Write a program to return an array based on below logic:\n",
        "* Identify all possible substrings of digits which are **pronic numbers**.\n",
        "* Store the identified pronic number by arranging them in ascending order and removing the duplicates if any.\n",
        "* If no pronic numbers can be identified then return -1.\n",
        "* Note: 0 (zero) is not a pronic number.\n",
        "\n",
        "Sample Input: 93012562\n",
        "Sample Output: 2,6,12,30,56,930\n",
        "\n",
        "Logic Explanation:\n",
        "Example:\n",
        "* What are Pronic Numbers?\n",
        "* Pronic numbers are the product of two consecutive numbers.\n",
        "* Pronic numbers are of the form n*(n+1)\n",
        "* All pronic numbers are even numbers.\n",
        "\n",
        "\n",
        "\n"
      ],
      "metadata": {
        "id": "q3bgckBVhMmy"
      }
    },
    {
      "cell_type": "code",
      "source": [
        "# taking the string as a input \n",
        "string=input('Enter the string containing only digits: ')\n",
        "\n",
        "# initializing list's for further use\n",
        "li=[]\n",
        "arr=[]\n",
        "pronum=[]\n",
        "\n",
        "# checking if the string contains only digits or not\n",
        "if string.isdigit() is True:\n",
        "\n",
        "  # calculating all possible substrings present in the string\n",
        "  for i in range(0,len(string)):\n",
        "    arr=[]\n",
        "    for j in range(i,len(string)):\n",
        "      arr.append(string[j])\n",
        "      # combining fragments of a substring\n",
        "      listToStr=''.join(map(str,arr))\n",
        "      li.append(int(listToStr)) ## we can also convert it into the string\n",
        "\n",
        "  # calculating the pronic numbers till the string\n",
        "  arr=[]\n",
        "  for i in range(1,int(string)+1):\n",
        "    n=i\n",
        "    # formula for pronic numbers\n",
        "    pronic=int(n)*(int(n)+1)\n",
        "    # if the pronic number exceeds the string\n",
        "    if int(string)<pronic:\n",
        "      break\n",
        "    arr.append(int(pronic)) ## we can also convert it into the string\n",
        "\n",
        "  # if the list contains the pronic numbers then adding then to the list 'pronum'\n",
        "  for i in range(len(li)):\n",
        "    if arr.count(li[i]) is 1:\n",
        "      pronum.append(int(li[i]))\n",
        "\n",
        "  # removing the duplicates from the list 'pronum'\n",
        "  arr=[]\n",
        "  for i in range(len(pronum)):\n",
        "    if pronum[i] not in arr:\n",
        "      arr.append(pronum[i])\n",
        "\n",
        " # printing the pronic numbers after removing duplicates and then sorting\n",
        "  print('\\nOutput: ',end='')\n",
        "  # sorting after removing duplicates\n",
        "  arr=sorted(arr)\n",
        "  # printing the pronic numbers as output in single line with ',' in between\n",
        "  for i in range(len(arr)):\n",
        "    print(arr[i],end='')\n",
        "    if len(arr)==(i+1):\n",
        "      continue\n",
        "    else:\n",
        "      print(end=',')\n",
        "\n",
        "# if the string does not contain only digits\n",
        "else:\n",
        "  print('\\n\\t**Invalid Input**')"
      ],
      "metadata": {
        "id": "ncTd_NThhN1J",
        "colab": {
          "base_uri": "https://localhost:8080/"
        },
        "outputId": "02a2972a-4d4d-444f-ec9f-b9f8e8e8ffa0"
      },
      "execution_count": null,
      "outputs": [
        {
          "output_type": "stream",
          "name": "stdout",
          "text": [
            "Enter the string containing only digits: 93012562\n",
            "\n",
            "Output: 2,6,12,30,56,930"
          ]
        }
      ]
    },
    {
      "cell_type": "markdown",
      "source": [
        "Q. 25). Create Linkedlist."
      ],
      "metadata": {
        "id": "kd37dTKQhbr4"
      }
    },
    {
      "cell_type": "code",
      "source": [
        "class node:\n",
        "    def __init__(self,data):\n",
        "        self.data=data\n",
        "        self.nextval=None\n",
        "class linklist:\n",
        "    def __init__(self):\n",
        "        self.headval=None\n",
        "    def printlist(self):\n",
        "        printval=self.headval\n",
        "        while printval is not None:\n",
        "            print(printval.data)\n",
        "            printval=printval.nextval\n",
        "list=linklist()\n",
        "e1=node('sun')\n",
        "list.headval=e1\n",
        "e2=node('mon')\n",
        "e2.nextval=e2\n",
        "list.printlist"
      ],
      "metadata": {
        "id": "63k2M2jvhhxg"
      },
      "execution_count": null,
      "outputs": []
    },
    {
      "cell_type": "code",
      "source": [
        "class node:\n",
        "    def __init__(self,data):\n",
        "        self.data=data\n",
        "        self.next=None\n",
        "class linklist:\n",
        "    def __init__(self):\n",
        "        self.head=None\n",
        "    def printlist(self):\n",
        "        printval=self.head\n",
        "        while printval is not None:\n",
        "            print(printval.data)\n",
        "            printval=printval.next\n",
        "    def insertatbeg(self,xdata):\n",
        "      newnode=node(xdata)\n",
        "      newnode.next=self.head\n",
        "      self.head=newnode\n",
        "    def insertatend(self,val):\n",
        "        newnode=node(val)\n",
        "        temp=self.next\n",
        "        prev=None\n",
        "        if self.next==None:\n",
        "            self.next=newnode\n",
        "        else:\n",
        "            while temp is not None:\n",
        "                prev=temp\n",
        "                temp=temp.next\n",
        "            prev.next=newnode\n",
        "list=linklist()\n",
        "e1=node('sun')\n",
        "list.head=e1\n",
        "e2=node('mon')\n",
        "e1.next=e2\n",
        "list.printlist()\n",
        "list.insertatbeg('tue')\n",
        "list.printlist()\n",
        "list.insertatend('Sunday')\n",
        "print('\\n')\n",
        "list.printlist\n"
      ],
      "metadata": {
        "colab": {
          "base_uri": "https://localhost:8080/",
          "height": 443
        },
        "id": "SRz_xrTdhm8Z",
        "outputId": "cd27e7fa-89e3-4d61-8a49-07913539e297"
      },
      "execution_count": null,
      "outputs": [
        {
          "output_type": "stream",
          "name": "stdout",
          "text": [
            "sun\n",
            "mon\n",
            "tue\n",
            "sun\n",
            "mon\n"
          ]
        },
        {
          "output_type": "error",
          "ename": "AttributeError",
          "evalue": "ignored",
          "traceback": [
            "\u001b[0;31m---------------------------------------------------------------------------\u001b[0m",
            "\u001b[0;31mAttributeError\u001b[0m                            Traceback (most recent call last)",
            "\u001b[0;32m<ipython-input-5-1d4211e5514e>\u001b[0m in \u001b[0;36m<module>\u001b[0;34m()\u001b[0m\n\u001b[1;32m     34\u001b[0m \u001b[0mlist\u001b[0m\u001b[0;34m.\u001b[0m\u001b[0minsertatbeg\u001b[0m\u001b[0;34m(\u001b[0m\u001b[0;34m'tue'\u001b[0m\u001b[0;34m)\u001b[0m\u001b[0;34m\u001b[0m\u001b[0;34m\u001b[0m\u001b[0m\n\u001b[1;32m     35\u001b[0m \u001b[0mlist\u001b[0m\u001b[0;34m.\u001b[0m\u001b[0mprintlist\u001b[0m\u001b[0;34m(\u001b[0m\u001b[0;34m)\u001b[0m\u001b[0;34m\u001b[0m\u001b[0;34m\u001b[0m\u001b[0m\n\u001b[0;32m---> 36\u001b[0;31m \u001b[0mlist\u001b[0m\u001b[0;34m.\u001b[0m\u001b[0minsertatend\u001b[0m\u001b[0;34m(\u001b[0m\u001b[0;34m'Sunday'\u001b[0m\u001b[0;34m)\u001b[0m\u001b[0;34m\u001b[0m\u001b[0;34m\u001b[0m\u001b[0m\n\u001b[0m\u001b[1;32m     37\u001b[0m \u001b[0mprint\u001b[0m\u001b[0;34m(\u001b[0m\u001b[0;34m'\\n'\u001b[0m\u001b[0;34m)\u001b[0m\u001b[0;34m\u001b[0m\u001b[0;34m\u001b[0m\u001b[0m\n\u001b[1;32m     38\u001b[0m \u001b[0mlist\u001b[0m\u001b[0;34m.\u001b[0m\u001b[0mprintlist\u001b[0m\u001b[0;34m\u001b[0m\u001b[0;34m\u001b[0m\u001b[0m\n",
            "\u001b[0;32m<ipython-input-5-1d4211e5514e>\u001b[0m in \u001b[0;36minsertatend\u001b[0;34m(self, val)\u001b[0m\n\u001b[1;32m     17\u001b[0m     \u001b[0;32mdef\u001b[0m \u001b[0minsertatend\u001b[0m\u001b[0;34m(\u001b[0m\u001b[0mself\u001b[0m\u001b[0;34m,\u001b[0m\u001b[0mval\u001b[0m\u001b[0;34m)\u001b[0m\u001b[0;34m:\u001b[0m\u001b[0;34m\u001b[0m\u001b[0;34m\u001b[0m\u001b[0m\n\u001b[1;32m     18\u001b[0m         \u001b[0mnewnode\u001b[0m\u001b[0;34m=\u001b[0m\u001b[0mnode\u001b[0m\u001b[0;34m(\u001b[0m\u001b[0mval\u001b[0m\u001b[0;34m)\u001b[0m\u001b[0;34m\u001b[0m\u001b[0;34m\u001b[0m\u001b[0m\n\u001b[0;32m---> 19\u001b[0;31m         \u001b[0mtemp\u001b[0m\u001b[0;34m=\u001b[0m\u001b[0mself\u001b[0m\u001b[0;34m.\u001b[0m\u001b[0mnext\u001b[0m\u001b[0;34m\u001b[0m\u001b[0;34m\u001b[0m\u001b[0m\n\u001b[0m\u001b[1;32m     20\u001b[0m         \u001b[0mprev\u001b[0m\u001b[0;34m=\u001b[0m\u001b[0;32mNone\u001b[0m\u001b[0;34m\u001b[0m\u001b[0;34m\u001b[0m\u001b[0m\n\u001b[1;32m     21\u001b[0m         \u001b[0;32mif\u001b[0m \u001b[0mself\u001b[0m\u001b[0;34m.\u001b[0m\u001b[0mnext\u001b[0m\u001b[0;34m==\u001b[0m\u001b[0;32mNone\u001b[0m\u001b[0;34m:\u001b[0m\u001b[0;34m\u001b[0m\u001b[0;34m\u001b[0m\u001b[0m\n",
            "\u001b[0;31mAttributeError\u001b[0m: 'linklist' object has no attribute 'next'"
          ]
        }
      ]
    },
    {
      "cell_type": "code",
      "source": [
        "class node:\n",
        "    def __init__(self,data):\n",
        "        self.data=data\n",
        "        self.nextaddress=None\n",
        "class linklist:\n",
        "    def __init__(self):\n",
        "        self.nextaddress=None\n",
        "    def print(self):\n",
        "        pass\n",
        "    def insertionattheend(self,val):\n",
        "        newnode=node(val)\n",
        "        temp=self.nextaddress\n",
        "        prev=None\n",
        "        if self.nextaddress==None:\n",
        "            self.nextaddress=newnode\n",
        "        else:\n",
        "            while temp is not None:\n",
        "                prev=temp\n",
        "                temp=temp.nextaddress\n",
        "            prev.nextaddress=newnode \n",
        "    def printlist(self):\n",
        "        temp=self.nextaddress\n",
        "        while temp is not None:\n",
        "            print(temp.data)\n",
        "            temp=temp.nextaddress\n",
        "\n",
        "head=linklist()\n",
        "head.insertionattheend('sun')\n",
        "head.insertionattheend('mon')\n",
        "head.insertionattheend('tue')\n",
        "head.printlist"
      ],
      "metadata": {
        "id": "m3rtZWnRhry1"
      },
      "execution_count": null,
      "outputs": []
    },
    {
      "cell_type": "markdown",
      "source": [
        "Q. 26). Create Tree."
      ],
      "metadata": {
        "id": "LWmM2TRQhtib"
      }
    },
    {
      "cell_type": "markdown",
      "source": [
        "etcc... dfs bfs , fibonauccci by dynamic programming."
      ],
      "metadata": {
        "id": "WpMy9IEzh1LW"
      }
    },
    {
      "cell_type": "code",
      "source": [
        "class node:\n",
        "    def __init__(self,val):\n",
        "        self.data=val\n",
        "        self.left=None\n",
        "        self.right=None\n",
        "\n",
        "    def insertion(self,val):\n",
        "        if val<self.data:\n",
        "            if self.left is None:\n",
        "                newnode=node(val)\n",
        "                self.left=newnode\n",
        "            else:\n",
        "                self.left.insertion(val)\n",
        "        else:\n",
        "            if self.right is None:\n",
        "                newnode=node(val)\n",
        "                self.right=newnode\n",
        "            else:\n",
        "                self.right.insertion(val)\n",
        "\n",
        "    def deletion(self,val):\n",
        "      if self is None:\n",
        "        return self\n",
        "\n",
        "      if val<self.data:\n",
        "        if self.left is val:\n",
        "          self.left=deletion(self.left,val)\n",
        "        else:\n",
        "          self.left.deletion(val)\n",
        "      elif val>self.data:\n",
        "        if self.right is None:\n",
        "          self.right=deletion(self.right,val)\n",
        "        else:\n",
        "          self.right.deletion(val)  \n",
        "      else:\n",
        "        if self.left is None:\n",
        "            temp = self.right\n",
        "            root = None\n",
        "            return temp\n",
        " \n",
        "        elif self.right is None:\n",
        "            temp = self.left\n",
        "            root = None\n",
        "            return temp\n",
        "\n",
        "root=node(9)\n",
        "root.insertion(5)\n",
        "root.insertion(90)"
      ],
      "metadata": {
        "id": "2yBO1BiihymR"
      },
      "execution_count": null,
      "outputs": []
    },
    {
      "cell_type": "markdown",
      "source": [
        "#Pattern recognition"
      ],
      "metadata": {
        "id": "Sr2he3BokXPN"
      }
    },
    {
      "cell_type": "markdown",
      "source": [
        "04/08/22"
      ],
      "metadata": {
        "id": "pDjK05TYk4HO"
      }
    },
    {
      "cell_type": "code",
      "source": [
        "from google.colab import files\n",
        "uploaded=files.upload()"
      ],
      "metadata": {
        "colab": {
          "resources": {
            "http://localhost:8080/nbextensions/google.colab/files.js": {
              "data": "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",
              "ok": true,
              "headers": [
                [
                  "content-type",
                  "application/javascript"
                ]
              ],
              "status": 200,
              "status_text": ""
            }
          },
          "base_uri": "https://localhost:8080/",
          "height": 74
        },
        "id": "LO7fFS4eknI2",
        "outputId": "d4da7782-bd6f-4295-f838-bc4d803e9f9d"
      },
      "execution_count": null,
      "outputs": [
        {
          "output_type": "display_data",
          "data": {
            "text/plain": [
              "<IPython.core.display.HTML object>"
            ],
            "text/html": [
              "\n",
              "     <input type=\"file\" id=\"files-f8de9253-a7e3-4069-97e3-d53f7e15fca4\" name=\"files[]\" multiple disabled\n",
              "        style=\"border:none\" />\n",
              "     <output id=\"result-f8de9253-a7e3-4069-97e3-d53f7e15fca4\">\n",
              "      Upload widget is only available when the cell has been executed in the\n",
              "      current browser session. Please rerun this cell to enable.\n",
              "      </output>\n",
              "      <script src=\"/nbextensions/google.colab/files.js\"></script> "
            ]
          },
          "metadata": {}
        },
        {
          "output_type": "stream",
          "name": "stdout",
          "text": [
            "Saving play_tennis.csv to play_tennis.csv\n"
          ]
        }
      ]
    },
    {
      "cell_type": "code",
      "source": [
        "import pandas as pd\n",
        "import io\n",
        "dataset=pd.read_csv(io.StringIO(uploaded['play_tennis.csv'].decode('utf-8')))\n",
        "dataset"
      ],
      "metadata": {
        "colab": {
          "base_uri": "https://localhost:8080/",
          "height": 488
        },
        "id": "zHw2Hw92ksGZ",
        "outputId": "13e7bf9e-84a1-460e-eb2c-131a3200c9ff"
      },
      "execution_count": null,
      "outputs": [
        {
          "output_type": "execute_result",
          "data": {
            "text/plain": [
              "    day   outlook  temp humidity    wind play\n",
              "0    D1     Sunny   Hot     High    Weak   No\n",
              "1    D2     Sunny   Hot     High  Strong   No\n",
              "2    D3  Overcast   Hot     High    Weak  Yes\n",
              "3    D4      Rain  Mild     High    Weak  Yes\n",
              "4    D5      Rain  Cool   Normal    Weak  Yes\n",
              "5    D6      Rain  Cool   Normal  Strong   No\n",
              "6    D7  Overcast  Cool   Normal  Strong  Yes\n",
              "7    D8     Sunny  Mild     High    Weak   No\n",
              "8    D9     Sunny  Cool   Normal    Weak  Yes\n",
              "9   D10      Rain  Mild   Normal    Weak  Yes\n",
              "10  D11     Sunny  Mild   Normal  Strong  Yes\n",
              "11  D12  Overcast  Mild     High  Strong  Yes\n",
              "12  D13  Overcast   Hot   Normal    Weak  Yes\n",
              "13  D14      Rain  Mild     High  Strong   No"
            ],
            "text/html": [
              "\n",
              "  <div id=\"df-ee79fb1b-be26-4a0e-ac1a-5910bcf85366\">\n",
              "    <div class=\"colab-df-container\">\n",
              "      <div>\n",
              "<style scoped>\n",
              "    .dataframe tbody tr th:only-of-type {\n",
              "        vertical-align: middle;\n",
              "    }\n",
              "\n",
              "    .dataframe tbody tr th {\n",
              "        vertical-align: top;\n",
              "    }\n",
              "\n",
              "    .dataframe thead th {\n",
              "        text-align: right;\n",
              "    }\n",
              "</style>\n",
              "<table border=\"1\" class=\"dataframe\">\n",
              "  <thead>\n",
              "    <tr style=\"text-align: right;\">\n",
              "      <th></th>\n",
              "      <th>day</th>\n",
              "      <th>outlook</th>\n",
              "      <th>temp</th>\n",
              "      <th>humidity</th>\n",
              "      <th>wind</th>\n",
              "      <th>play</th>\n",
              "    </tr>\n",
              "  </thead>\n",
              "  <tbody>\n",
              "    <tr>\n",
              "      <th>0</th>\n",
              "      <td>D1</td>\n",
              "      <td>Sunny</td>\n",
              "      <td>Hot</td>\n",
              "      <td>High</td>\n",
              "      <td>Weak</td>\n",
              "      <td>No</td>\n",
              "    </tr>\n",
              "    <tr>\n",
              "      <th>1</th>\n",
              "      <td>D2</td>\n",
              "      <td>Sunny</td>\n",
              "      <td>Hot</td>\n",
              "      <td>High</td>\n",
              "      <td>Strong</td>\n",
              "      <td>No</td>\n",
              "    </tr>\n",
              "    <tr>\n",
              "      <th>2</th>\n",
              "      <td>D3</td>\n",
              "      <td>Overcast</td>\n",
              "      <td>Hot</td>\n",
              "      <td>High</td>\n",
              "      <td>Weak</td>\n",
              "      <td>Yes</td>\n",
              "    </tr>\n",
              "    <tr>\n",
              "      <th>3</th>\n",
              "      <td>D4</td>\n",
              "      <td>Rain</td>\n",
              "      <td>Mild</td>\n",
              "      <td>High</td>\n",
              "      <td>Weak</td>\n",
              "      <td>Yes</td>\n",
              "    </tr>\n",
              "    <tr>\n",
              "      <th>4</th>\n",
              "      <td>D5</td>\n",
              "      <td>Rain</td>\n",
              "      <td>Cool</td>\n",
              "      <td>Normal</td>\n",
              "      <td>Weak</td>\n",
              "      <td>Yes</td>\n",
              "    </tr>\n",
              "    <tr>\n",
              "      <th>5</th>\n",
              "      <td>D6</td>\n",
              "      <td>Rain</td>\n",
              "      <td>Cool</td>\n",
              "      <td>Normal</td>\n",
              "      <td>Strong</td>\n",
              "      <td>No</td>\n",
              "    </tr>\n",
              "    <tr>\n",
              "      <th>6</th>\n",
              "      <td>D7</td>\n",
              "      <td>Overcast</td>\n",
              "      <td>Cool</td>\n",
              "      <td>Normal</td>\n",
              "      <td>Strong</td>\n",
              "      <td>Yes</td>\n",
              "    </tr>\n",
              "    <tr>\n",
              "      <th>7</th>\n",
              "      <td>D8</td>\n",
              "      <td>Sunny</td>\n",
              "      <td>Mild</td>\n",
              "      <td>High</td>\n",
              "      <td>Weak</td>\n",
              "      <td>No</td>\n",
              "    </tr>\n",
              "    <tr>\n",
              "      <th>8</th>\n",
              "      <td>D9</td>\n",
              "      <td>Sunny</td>\n",
              "      <td>Cool</td>\n",
              "      <td>Normal</td>\n",
              "      <td>Weak</td>\n",
              "      <td>Yes</td>\n",
              "    </tr>\n",
              "    <tr>\n",
              "      <th>9</th>\n",
              "      <td>D10</td>\n",
              "      <td>Rain</td>\n",
              "      <td>Mild</td>\n",
              "      <td>Normal</td>\n",
              "      <td>Weak</td>\n",
              "      <td>Yes</td>\n",
              "    </tr>\n",
              "    <tr>\n",
              "      <th>10</th>\n",
              "      <td>D11</td>\n",
              "      <td>Sunny</td>\n",
              "      <td>Mild</td>\n",
              "      <td>Normal</td>\n",
              "      <td>Strong</td>\n",
              "      <td>Yes</td>\n",
              "    </tr>\n",
              "    <tr>\n",
              "      <th>11</th>\n",
              "      <td>D12</td>\n",
              "      <td>Overcast</td>\n",
              "      <td>Mild</td>\n",
              "      <td>High</td>\n",
              "      <td>Strong</td>\n",
              "      <td>Yes</td>\n",
              "    </tr>\n",
              "    <tr>\n",
              "      <th>12</th>\n",
              "      <td>D13</td>\n",
              "      <td>Overcast</td>\n",
              "      <td>Hot</td>\n",
              "      <td>Normal</td>\n",
              "      <td>Weak</td>\n",
              "      <td>Yes</td>\n",
              "    </tr>\n",
              "    <tr>\n",
              "      <th>13</th>\n",
              "      <td>D14</td>\n",
              "      <td>Rain</td>\n",
              "      <td>Mild</td>\n",
              "      <td>High</td>\n",
              "      <td>Strong</td>\n",
              "      <td>No</td>\n",
              "    </tr>\n",
              "  </tbody>\n",
              "</table>\n",
              "</div>\n",
              "      <button class=\"colab-df-convert\" onclick=\"convertToInteractive('df-ee79fb1b-be26-4a0e-ac1a-5910bcf85366')\"\n",
              "              title=\"Convert this dataframe to an interactive table.\"\n",
              "              style=\"display:none;\">\n",
              "        \n",
              "  <svg xmlns=\"http://www.w3.org/2000/svg\" height=\"24px\"viewBox=\"0 0 24 24\"\n",
              "       width=\"24px\">\n",
              "    <path d=\"M0 0h24v24H0V0z\" fill=\"none\"/>\n",
              "    <path d=\"M18.56 5.44l.94 2.06.94-2.06 2.06-.94-2.06-.94-.94-2.06-.94 2.06-2.06.94zm-11 1L8.5 8.5l.94-2.06 2.06-.94-2.06-.94L8.5 2.5l-.94 2.06-2.06.94zm10 10l.94 2.06.94-2.06 2.06-.94-2.06-.94-.94-2.06-.94 2.06-2.06.94z\"/><path d=\"M17.41 7.96l-1.37-1.37c-.4-.4-.92-.59-1.43-.59-.52 0-1.04.2-1.43.59L10.3 9.45l-7.72 7.72c-.78.78-.78 2.05 0 2.83L4 21.41c.39.39.9.59 1.41.59.51 0 1.02-.2 1.41-.59l7.78-7.78 2.81-2.81c.8-.78.8-2.07 0-2.86zM5.41 20L4 18.59l7.72-7.72 1.47 1.35L5.41 20z\"/>\n",
              "  </svg>\n",
              "      </button>\n",
              "      \n",
              "  <style>\n",
              "    .colab-df-container {\n",
              "      display:flex;\n",
              "      flex-wrap:wrap;\n",
              "      gap: 12px;\n",
              "    }\n",
              "\n",
              "    .colab-df-convert {\n",
              "      background-color: #E8F0FE;\n",
              "      border: none;\n",
              "      border-radius: 50%;\n",
              "      cursor: pointer;\n",
              "      display: none;\n",
              "      fill: #1967D2;\n",
              "      height: 32px;\n",
              "      padding: 0 0 0 0;\n",
              "      width: 32px;\n",
              "    }\n",
              "\n",
              "    .colab-df-convert:hover {\n",
              "      background-color: #E2EBFA;\n",
              "      box-shadow: 0px 1px 2px rgba(60, 64, 67, 0.3), 0px 1px 3px 1px rgba(60, 64, 67, 0.15);\n",
              "      fill: #174EA6;\n",
              "    }\n",
              "\n",
              "    [theme=dark] .colab-df-convert {\n",
              "      background-color: #3B4455;\n",
              "      fill: #D2E3FC;\n",
              "    }\n",
              "\n",
              "    [theme=dark] .colab-df-convert:hover {\n",
              "      background-color: #434B5C;\n",
              "      box-shadow: 0px 1px 3px 1px rgba(0, 0, 0, 0.15);\n",
              "      filter: drop-shadow(0px 1px 2px rgba(0, 0, 0, 0.3));\n",
              "      fill: #FFFFFF;\n",
              "    }\n",
              "  </style>\n",
              "\n",
              "      <script>\n",
              "        const buttonEl =\n",
              "          document.querySelector('#df-ee79fb1b-be26-4a0e-ac1a-5910bcf85366 button.colab-df-convert');\n",
              "        buttonEl.style.display =\n",
              "          google.colab.kernel.accessAllowed ? 'block' : 'none';\n",
              "\n",
              "        async function convertToInteractive(key) {\n",
              "          const element = document.querySelector('#df-ee79fb1b-be26-4a0e-ac1a-5910bcf85366');\n",
              "          const dataTable =\n",
              "            await google.colab.kernel.invokeFunction('convertToInteractive',\n",
              "                                                     [key], {});\n",
              "          if (!dataTable) return;\n",
              "\n",
              "          const docLinkHtml = 'Like what you see? Visit the ' +\n",
              "            '<a target=\"_blank\" href=https://colab.research.google.com/notebooks/data_table.ipynb>data table notebook</a>'\n",
              "            + ' to learn more about interactive tables.';\n",
              "          element.innerHTML = '';\n",
              "          dataTable['output_type'] = 'display_data';\n",
              "          await google.colab.output.renderOutput(dataTable, element);\n",
              "          const docLink = document.createElement('div');\n",
              "          docLink.innerHTML = docLinkHtml;\n",
              "          element.appendChild(docLink);\n",
              "        }\n",
              "      </script>\n",
              "    </div>\n",
              "  </div>\n",
              "  "
            ]
          },
          "metadata": {},
          "execution_count": 7
        }
      ]
    },
    {
      "cell_type": "markdown",
      "source": [
        "#Python Notes"
      ],
      "metadata": {
        "id": "G7UzICr5Tu5e"
      }
    },
    {
      "cell_type": "code",
      "execution_count": null,
      "metadata": {
        "colab": {
          "base_uri": "https://localhost:8080/"
        },
        "id": "zXJm02QfUiFl",
        "outputId": "958615db-bc65-419d-f37e-07217e767626"
      },
      "outputs": [
        {
          "output_type": "execute_result",
          "data": {
            "text/plain": [
              "2"
            ]
          },
          "metadata": {},
          "execution_count": 1
        }
      ],
      "source": [
        "5//2"
      ]
    },
    {
      "cell_type": "code",
      "source": [
        "5/2"
      ],
      "metadata": {
        "colab": {
          "base_uri": "https://localhost:8080/"
        },
        "id": "chKJTetKVLqd",
        "outputId": "4a9e2afb-ca0b-4371-9812-989e58d3900d"
      },
      "execution_count": null,
      "outputs": [
        {
          "output_type": "execute_result",
          "data": {
            "text/plain": [
              "2.5"
            ]
          },
          "metadata": {},
          "execution_count": 2
        }
      ]
    },
    {
      "cell_type": "code",
      "source": [
        "5**2"
      ],
      "metadata": {
        "colab": {
          "base_uri": "https://localhost:8080/"
        },
        "id": "dN0B5T83VPqX",
        "outputId": "3d6eaad2-40bf-4a94-c24e-6ef9efe0d4eb"
      },
      "execution_count": null,
      "outputs": [
        {
          "output_type": "execute_result",
          "data": {
            "text/plain": [
              "25"
            ]
          },
          "metadata": {},
          "execution_count": 3
        }
      ]
    },
    {
      "cell_type": "code",
      "source": [
        "arpit=1\n",
        "arbaz=2\n",
        "if arpit==1 and arbaz==2:\n",
        "  print('True')\n",
        "else:\n",
        "  print('False')"
      ],
      "metadata": {
        "colab": {
          "base_uri": "https://localhost:8080/"
        },
        "id": "3Q6GoWWhVTp2",
        "outputId": "6239c9ba-1373-40c2-a64c-daeb55a2ad7a"
      },
      "execution_count": null,
      "outputs": [
        {
          "output_type": "stream",
          "name": "stdout",
          "text": [
            "True\n"
          ]
        }
      ]
    },
    {
      "cell_type": "code",
      "source": [
        "arpit=1\n",
        "arbaz=0\n",
        "if arpit==1 or arbaz==2:\n",
        "  print('True')\n",
        "else:\n",
        "  print('False')"
      ],
      "metadata": {
        "colab": {
          "base_uri": "https://localhost:8080/"
        },
        "id": "5SOSmRbxXW2X",
        "outputId": "7fa3f4c5-ff73-48ee-ae78-4981e96dc9ea"
      },
      "execution_count": null,
      "outputs": [
        {
          "output_type": "stream",
          "name": "stdout",
          "text": [
            "True\n"
          ]
        }
      ]
    },
    {
      "cell_type": "code",
      "source": [
        "arpit=1\n",
        "arbaz=2\n",
        "if arpit is not arbaz:\n",
        "  print('True')\n",
        "else:\n",
        "  print('False')"
      ],
      "metadata": {
        "colab": {
          "base_uri": "https://localhost:8080/"
        },
        "id": "-m-4DzRPXii5",
        "outputId": "54ab1c10-27d0-40fd-ec39-44c6fb7daf0b"
      },
      "execution_count": null,
      "outputs": [
        {
          "output_type": "stream",
          "name": "stdout",
          "text": [
            "True\n"
          ]
        }
      ]
    },
    {
      "cell_type": "code",
      "source": [
        "arpit=1\n",
        "arbaz=1\n",
        "if arpit is not arbaz:\n",
        "  print('True')\n",
        "else:\n",
        "  print('False')"
      ],
      "metadata": {
        "colab": {
          "base_uri": "https://localhost:8080/"
        },
        "id": "qrZlSD27YgqJ",
        "outputId": "30d95673-5397-46f1-e751-3482a51f640e"
      },
      "execution_count": null,
      "outputs": [
        {
          "output_type": "stream",
          "name": "stdout",
          "text": [
            "False\n"
          ]
        }
      ]
    },
    {
      "cell_type": "code",
      "source": [
        "'color1;color2;color3' = 'a:b:c'"
      ],
      "metadata": {
        "colab": {
          "base_uri": "https://localhost:8080/",
          "height": 134
        },
        "id": "VOkORteMYxjC",
        "outputId": "321f343e-85eb-4cba-a7cf-53334600d49b"
      },
      "execution_count": null,
      "outputs": [
        {
          "output_type": "error",
          "ename": "SyntaxError",
          "evalue": "ignored",
          "traceback": [
            "\u001b[0;36m  File \u001b[0;32m\"<ipython-input-13-d8d5456d1a3a>\"\u001b[0;36m, line \u001b[0;32m1\u001b[0m\n\u001b[0;31m    color1:color2:color3 = a:b:c\u001b[0m\n\u001b[0m                 ^\u001b[0m\n\u001b[0;31mSyntaxError\u001b[0m\u001b[0;31m:\u001b[0m invalid syntax\n"
          ]
        }
      ]
    },
    {
      "cell_type": "code",
      "source": [
        "ab12='hello'"
      ],
      "metadata": {
        "id": "FNN1HvvhbMe9"
      },
      "execution_count": null,
      "outputs": []
    },
    {
      "cell_type": "code",
      "source": [
        "12ab='hello'"
      ],
      "metadata": {
        "id": "YNnhOFkJbTnt",
        "colab": {
          "base_uri": "https://localhost:8080/",
          "height": 134
        },
        "outputId": "607c6f0c-bc69-447c-94b9-622023b8a888"
      },
      "execution_count": null,
      "outputs": [
        {
          "output_type": "error",
          "ename": "SyntaxError",
          "evalue": "ignored",
          "traceback": [
            "\u001b[0;36m  File \u001b[0;32m\"<ipython-input-17-5416037ec54b>\"\u001b[0;36m, line \u001b[0;32m1\u001b[0m\n\u001b[0;31m    12ab='hello'\u001b[0m\n\u001b[0m      ^\u001b[0m\n\u001b[0;31mSyntaxError\u001b[0m\u001b[0;31m:\u001b[0m invalid syntax\n"
          ]
        }
      ]
    },
    {
      "cell_type": "code",
      "source": [
        "ab 12='hello'"
      ],
      "metadata": {
        "id": "5pY32thSbbHh",
        "colab": {
          "base_uri": "https://localhost:8080/",
          "height": 134
        },
        "outputId": "191bf871-fcf3-4cab-f9fd-cd8038527b26"
      },
      "execution_count": null,
      "outputs": [
        {
          "output_type": "error",
          "ename": "SyntaxError",
          "evalue": "ignored",
          "traceback": [
            "\u001b[0;36m  File \u001b[0;32m\"<ipython-input-16-0c678adfb2fa>\"\u001b[0;36m, line \u001b[0;32m1\u001b[0m\n\u001b[0;31m    ab 12='hello'\u001b[0m\n\u001b[0m       ^\u001b[0m\n\u001b[0;31mSyntaxError\u001b[0m\u001b[0;31m:\u001b[0m invalid syntax\n"
          ]
        }
      ]
    },
    {
      "cell_type": "code",
      "source": [
        "ab_12='hello'"
      ],
      "metadata": {
        "id": "f2IWStr9bgVY"
      },
      "execution_count": null,
      "outputs": []
    },
    {
      "cell_type": "code",
      "source": [
        "a='True'\n",
        "type(a)"
      ],
      "metadata": {
        "id": "4cQITnpDbozG",
        "colab": {
          "base_uri": "https://localhost:8080/"
        },
        "outputId": "2ce88aca-2e66-4321-db45-5b52690c1d6f"
      },
      "execution_count": null,
      "outputs": [
        {
          "output_type": "execute_result",
          "data": {
            "text/plain": [
              "str"
            ]
          },
          "metadata": {},
          "execution_count": 18
        }
      ]
    },
    {
      "cell_type": "code",
      "source": [
        "a=True\n",
        "type(a)"
      ],
      "metadata": {
        "colab": {
          "base_uri": "https://localhost:8080/"
        },
        "id": "sMvlXNP0hZw5",
        "outputId": "6c3c36d8-76b6-4ff1-faa6-5840534154eb"
      },
      "execution_count": null,
      "outputs": [
        {
          "output_type": "execute_result",
          "data": {
            "text/plain": [
              "bool"
            ]
          },
          "metadata": {},
          "execution_count": 19
        }
      ]
    },
    {
      "cell_type": "code",
      "source": [
        "bool(1)"
      ],
      "metadata": {
        "id": "GCw7XpUSc715",
        "colab": {
          "base_uri": "https://localhost:8080/"
        },
        "outputId": "94dfc7bd-75ee-40f4-a957-28ee529e3d12"
      },
      "execution_count": null,
      "outputs": [
        {
          "output_type": "execute_result",
          "data": {
            "text/plain": [
              "True"
            ]
          },
          "metadata": {},
          "execution_count": 20
        }
      ]
    },
    {
      "cell_type": "code",
      "source": [
        "bool(-1)"
      ],
      "metadata": {
        "id": "wcbpB4Io0AUM",
        "colab": {
          "base_uri": "https://localhost:8080/"
        },
        "outputId": "e8ed67f4-174d-422c-9e1c-eb946f387142"
      },
      "execution_count": null,
      "outputs": [
        {
          "output_type": "execute_result",
          "data": {
            "text/plain": [
              "True"
            ]
          },
          "metadata": {},
          "execution_count": 21
        }
      ]
    },
    {
      "cell_type": "code",
      "source": [
        "bool(0)"
      ],
      "metadata": {
        "id": "Y2rJtI7edBOt",
        "colab": {
          "base_uri": "https://localhost:8080/"
        },
        "outputId": "28deb666-265d-40f9-88fb-d16d7cbd244b"
      },
      "execution_count": null,
      "outputs": [
        {
          "output_type": "execute_result",
          "data": {
            "text/plain": [
              "False"
            ]
          },
          "metadata": {},
          "execution_count": 24
        }
      ]
    },
    {
      "cell_type": "code",
      "source": [
        "bool(5)"
      ],
      "metadata": {
        "id": "RiEAfUJu0BRS",
        "colab": {
          "base_uri": "https://localhost:8080/"
        },
        "outputId": "14360b5c-83f4-4b51-a4da-25b9ce3c94cd"
      },
      "execution_count": null,
      "outputs": [
        {
          "output_type": "execute_result",
          "data": {
            "text/plain": [
              "True"
            ]
          },
          "metadata": {},
          "execution_count": 22
        }
      ]
    },
    {
      "cell_type": "code",
      "source": [
        "int(True)"
      ],
      "metadata": {
        "id": "8RkTa16VdEBk",
        "colab": {
          "base_uri": "https://localhost:8080/"
        },
        "outputId": "99673610-4336-427a-a396-e672602ccaab"
      },
      "execution_count": null,
      "outputs": [
        {
          "output_type": "execute_result",
          "data": {
            "text/plain": [
              "1"
            ]
          },
          "metadata": {},
          "execution_count": 25
        }
      ]
    },
    {
      "cell_type": "code",
      "source": [
        "int(False)"
      ],
      "metadata": {
        "id": "Hlwm79Z1dH6g",
        "colab": {
          "base_uri": "https://localhost:8080/"
        },
        "outputId": "065d4900-4d94-47e1-bb63-c13eaa1717d9"
      },
      "execution_count": null,
      "outputs": [
        {
          "output_type": "execute_result",
          "data": {
            "text/plain": [
              "0"
            ]
          },
          "metadata": {},
          "execution_count": 26
        }
      ]
    },
    {
      "cell_type": "code",
      "source": [
        "myfav='''hello\n",
        "i am arpit patel\n",
        "from SISTec'''\n",
        "print(myfav)"
      ],
      "metadata": {
        "id": "AP_HLQnFdTUH",
        "colab": {
          "base_uri": "https://localhost:8080/"
        },
        "outputId": "00e0a87a-837c-46d3-ab02-7fd4741decaf"
      },
      "execution_count": null,
      "outputs": [
        {
          "output_type": "stream",
          "name": "stdout",
          "text": [
            "hello\n",
            "i am arpit patel\n",
            "from SISTec\n"
          ]
        }
      ]
    },
    {
      "cell_type": "code",
      "source": [
        "myfav='hello'\n",
        "len(myfav)"
      ],
      "metadata": {
        "id": "fkpYQkOVfLLJ",
        "colab": {
          "base_uri": "https://localhost:8080/"
        },
        "outputId": "08cecb02-d2b2-4ad2-bda5-147d769db2d7"
      },
      "execution_count": null,
      "outputs": [
        {
          "output_type": "execute_result",
          "data": {
            "text/plain": [
              "5"
            ]
          },
          "metadata": {},
          "execution_count": 28
        }
      ]
    },
    {
      "cell_type": "code",
      "source": [
        "myfav='hello'\n",
        "myfav[0:4]"
      ],
      "metadata": {
        "id": "OhX7c12QfVvf",
        "colab": {
          "base_uri": "https://localhost:8080/",
          "height": 36
        },
        "outputId": "90540dcc-1e56-4875-df12-e2803cefeb44"
      },
      "execution_count": null,
      "outputs": [
        {
          "output_type": "execute_result",
          "data": {
            "text/plain": [
              "'hell'"
            ],
            "application/vnd.google.colaboratory.intrinsic+json": {
              "type": "string"
            }
          },
          "metadata": {},
          "execution_count": 31
        }
      ]
    },
    {
      "cell_type": "code",
      "source": [
        "firstname='Arpit'\n",
        "lastname='Patel'\n",
        "firstname+' '+lastname"
      ],
      "metadata": {
        "id": "FsMxbFz-gl06",
        "colab": {
          "base_uri": "https://localhost:8080/",
          "height": 36
        },
        "outputId": "14c942aa-0484-4554-c378-c346b4d3f5a3"
      },
      "execution_count": null,
      "outputs": [
        {
          "output_type": "execute_result",
          "data": {
            "text/plain": [
              "'Arpit Patel'"
            ],
            "application/vnd.google.colaboratory.intrinsic+json": {
              "type": "string"
            }
          },
          "metadata": {},
          "execution_count": 32
        }
      ]
    },
    {
      "cell_type": "code",
      "source": [
        "firstname='HII'\n",
        "firstname.lower()"
      ],
      "metadata": {
        "id": "B--IJWMJg0MN",
        "colab": {
          "base_uri": "https://localhost:8080/",
          "height": 36
        },
        "outputId": "29641a5e-bc61-4061-a000-e8a3c5bd66fd"
      },
      "execution_count": null,
      "outputs": [
        {
          "output_type": "execute_result",
          "data": {
            "text/plain": [
              "'hii'"
            ],
            "application/vnd.google.colaboratory.intrinsic+json": {
              "type": "string"
            }
          },
          "metadata": {},
          "execution_count": 33
        }
      ]
    },
    {
      "cell_type": "code",
      "source": [
        "firstname='hii'\n",
        "firstname.upper()"
      ],
      "metadata": {
        "id": "kyPC1TPyhAP-",
        "colab": {
          "base_uri": "https://localhost:8080/",
          "height": 36
        },
        "outputId": "a9f1946e-596e-498d-fafe-3638a22c463f"
      },
      "execution_count": null,
      "outputs": [
        {
          "output_type": "execute_result",
          "data": {
            "text/plain": [
              "'HII'"
            ],
            "application/vnd.google.colaboratory.intrinsic+json": {
              "type": "string"
            }
          },
          "metadata": {},
          "execution_count": 34
        }
      ]
    },
    {
      "cell_type": "code",
      "source": [
        "myfav='hello i am arpit patel'\n",
        "myfav.split()"
      ],
      "metadata": {
        "colab": {
          "base_uri": "https://localhost:8080/"
        },
        "id": "LnAVt-zkhK4x",
        "outputId": "49f88677-5900-4acb-f760-1fcdd712d98b"
      },
      "execution_count": null,
      "outputs": [
        {
          "output_type": "execute_result",
          "data": {
            "text/plain": [
              "['hello', 'i', 'am', 'arpit', 'patel']"
            ]
          },
          "metadata": {},
          "execution_count": 35
        }
      ]
    },
    {
      "cell_type": "code",
      "source": [
        "myfav='         hello i am arpit patel     '\n",
        "myfav.strip()"
      ],
      "metadata": {
        "colab": {
          "base_uri": "https://localhost:8080/",
          "height": 36
        },
        "id": "0MEgBspAhZGq",
        "outputId": "ef4e40c4-6345-4448-f46f-f1665dadb0aa"
      },
      "execution_count": null,
      "outputs": [
        {
          "output_type": "execute_result",
          "data": {
            "text/plain": [
              "'hello i am arpit patel'"
            ],
            "application/vnd.google.colaboratory.intrinsic+json": {
              "type": "string"
            }
          },
          "metadata": {},
          "execution_count": 36
        }
      ]
    },
    {
      "cell_type": "code",
      "source": [
        "firstname='HII'\n",
        "firstname.capitalize()"
      ],
      "metadata": {
        "colab": {
          "base_uri": "https://localhost:8080/",
          "height": 36
        },
        "id": "pq4k1eBbhh-m",
        "outputId": "8c397524-06eb-4b30-a4a0-e957c7424bf0"
      },
      "execution_count": null,
      "outputs": [
        {
          "output_type": "execute_result",
          "data": {
            "text/plain": [
              "'Hii'"
            ],
            "application/vnd.google.colaboratory.intrinsic+json": {
              "type": "string"
            }
          },
          "metadata": {},
          "execution_count": 11
        }
      ]
    },
    {
      "cell_type": "code",
      "source": [
        "firstname='arPit'\n",
        "firstname.capitalize()"
      ],
      "metadata": {
        "colab": {
          "base_uri": "https://localhost:8080/",
          "height": 36
        },
        "id": "GPumYIJAr_uX",
        "outputId": "8e793f4f-1b02-4860-a7b8-de131b60e670"
      },
      "execution_count": null,
      "outputs": [
        {
          "output_type": "execute_result",
          "data": {
            "text/plain": [
              "'Arpit'"
            ],
            "application/vnd.google.colaboratory.intrinsic+json": {
              "type": "string"
            }
          },
          "metadata": {},
          "execution_count": 38
        }
      ]
    },
    {
      "cell_type": "code",
      "source": [
        "myname='ram'\n",
        "print('my name is {}'.format(myname))"
      ],
      "metadata": {
        "colab": {
          "base_uri": "https://localhost:8080/"
        },
        "id": "3rph8rXPhpBx",
        "outputId": "62384b83-fdc4-46f4-8595-65c2cd9eeacd"
      },
      "execution_count": null,
      "outputs": [
        {
          "output_type": "stream",
          "name": "stdout",
          "text": [
            "my name is ram\n"
          ]
        }
      ]
    },
    {
      "cell_type": "code",
      "source": [
        "demo='hello world'\n",
        "tm='tpdx'\n",
        "print('i made my first string {} also with a tm {}'.format(demo,tm))"
      ],
      "metadata": {
        "colab": {
          "base_uri": "https://localhost:8080/"
        },
        "id": "2NQaXXTuiK9s",
        "outputId": "54544e1b-3250-41f1-e549-aa6abc17ac32"
      },
      "execution_count": null,
      "outputs": [
        {
          "output_type": "stream",
          "name": "stdout",
          "text": [
            "i made my first string hello world also with a tm tpdx\n"
          ]
        }
      ]
    },
    {
      "cell_type": "code",
      "source": [
        "myname=input()\n",
        "print(myname)"
      ],
      "metadata": {
        "id": "z5okU7oNjQR7",
        "colab": {
          "base_uri": "https://localhost:8080/"
        },
        "outputId": "d1959a4f-34f7-4f01-b612-6902e734fac3"
      },
      "execution_count": null,
      "outputs": [
        {
          "output_type": "stream",
          "name": "stdout",
          "text": [
            "Arpit Patel\n",
            "Arpit Patel\n"
          ]
        }
      ]
    },
    {
      "cell_type": "code",
      "source": [
        "firstnumber=(input())\n",
        "secondnumber=(input())\n",
        "print(firstnumber+secondnumber)"
      ],
      "metadata": {
        "id": "-YTMNB6wjsoH",
        "colab": {
          "base_uri": "https://localhost:8080/"
        },
        "outputId": "d77834cf-df1a-4074-ce7d-5687f16417ac"
      },
      "execution_count": null,
      "outputs": [
        {
          "output_type": "stream",
          "name": "stdout",
          "text": [
            "Arpit\n",
            "Patel\n",
            "ArpitPatel\n"
          ]
        }
      ]
    },
    {
      "cell_type": "code",
      "source": [
        "firstnumber=int(input())\n",
        "secondnumber=int(input())\n",
        "print(firstnumber+secondnumber)"
      ],
      "metadata": {
        "id": "dRvDvBsqjbFf",
        "colab": {
          "base_uri": "https://localhost:8080/"
        },
        "outputId": "25c65fee-c9ce-4c41-93af-13775ebf341c"
      },
      "execution_count": null,
      "outputs": [
        {
          "output_type": "stream",
          "name": "stdout",
          "text": [
            "5\n",
            "4\n",
            "9\n"
          ]
        }
      ]
    },
    {
      "cell_type": "code",
      "source": [
        "fruits=['mango','banana','papaya']\n",
        "fruits[ : ]"
      ],
      "metadata": {
        "id": "9qB4MJPEj2kA",
        "colab": {
          "base_uri": "https://localhost:8080/"
        },
        "outputId": "c51b5f15-ef92-4e18-fa0d-ce932d56b94e"
      },
      "execution_count": null,
      "outputs": [
        {
          "output_type": "execute_result",
          "data": {
            "text/plain": [
              "['mango', 'banana', 'papaya']"
            ]
          },
          "metadata": {},
          "execution_count": 43
        }
      ]
    },
    {
      "cell_type": "code",
      "source": [
        "fruits=['mango','banana','papaya']\n",
        "fruits.append('apple')\n",
        "fruits"
      ],
      "metadata": {
        "id": "zga9OkhFkZrv",
        "colab": {
          "base_uri": "https://localhost:8080/"
        },
        "outputId": "ec2d5f5b-207b-4df0-9c50-a9c7880cd521"
      },
      "execution_count": null,
      "outputs": [
        {
          "output_type": "execute_result",
          "data": {
            "text/plain": [
              "['mango', 'banana', 'papaya', 'apple']"
            ]
          },
          "metadata": {},
          "execution_count": 45
        }
      ]
    },
    {
      "cell_type": "code",
      "source": [
        "fruits=['mango','banana','papaya']\n",
        "fruits.insert(1,'apple')\n",
        "fruits"
      ],
      "metadata": {
        "id": "k-NMj07xgs5M",
        "colab": {
          "base_uri": "https://localhost:8080/"
        },
        "outputId": "3de750c7-281a-476a-f6d0-2cf853be6aed"
      },
      "execution_count": null,
      "outputs": [
        {
          "output_type": "execute_result",
          "data": {
            "text/plain": [
              "['mango', 'apple', 'banana', 'papaya']"
            ]
          },
          "metadata": {},
          "execution_count": 47
        }
      ]
    },
    {
      "cell_type": "code",
      "source": [
        "fruits=['mango','banana','papaya']\n",
        "fruits.remove('mango')\n",
        "fruits"
      ],
      "metadata": {
        "id": "0uSNtuzvg-RI",
        "colab": {
          "base_uri": "https://localhost:8080/"
        },
        "outputId": "02eecbc6-2784-45a8-9b35-18b6b21f0f6e"
      },
      "execution_count": null,
      "outputs": [
        {
          "output_type": "execute_result",
          "data": {
            "text/plain": [
              "['banana', 'papaya']"
            ]
          },
          "metadata": {},
          "execution_count": 48
        }
      ]
    },
    {
      "cell_type": "code",
      "source": [
        "fruits=['mango','banana','papaya']\n",
        "fruits.pop()\n",
        "fruits"
      ],
      "metadata": {
        "id": "znZ90WDnhIdL",
        "colab": {
          "base_uri": "https://localhost:8080/"
        },
        "outputId": "3437c9fd-69d1-4870-f399-0b77d8406ab8"
      },
      "execution_count": null,
      "outputs": [
        {
          "output_type": "execute_result",
          "data": {
            "text/plain": [
              "['mango', 'banana']"
            ]
          },
          "metadata": {},
          "execution_count": 49
        }
      ]
    },
    {
      "cell_type": "code",
      "source": [
        "fruits=['mango','banana','papaya']\n",
        "fruits.pop(1)\n",
        "fruits"
      ],
      "metadata": {
        "id": "1aRHUK2QhSdT",
        "colab": {
          "base_uri": "https://localhost:8080/"
        },
        "outputId": "884e0ec0-cda7-4bff-b9b3-d62c2b192828"
      },
      "execution_count": null,
      "outputs": [
        {
          "output_type": "execute_result",
          "data": {
            "text/plain": [
              "['mango', 'papaya']"
            ]
          },
          "metadata": {},
          "execution_count": 50
        }
      ]
    },
    {
      "cell_type": "code",
      "source": [
        "fruits=['mango','apple','orange']\n",
        "'mango' in fruits "
      ],
      "metadata": {
        "id": "4_Q-Y2bdhX_k",
        "colab": {
          "base_uri": "https://localhost:8080/"
        },
        "outputId": "ef72ab63-476b-4832-9b34-5090ba211334"
      },
      "execution_count": null,
      "outputs": [
        {
          "output_type": "execute_result",
          "data": {
            "text/plain": [
              "True"
            ]
          },
          "metadata": {},
          "execution_count": 51
        }
      ]
    },
    {
      "cell_type": "code",
      "source": [
        "fruits=['mango','apple','orange']\n",
        "'okk' in fruits"
      ],
      "metadata": {
        "id": "LFSAebAOhvl_",
        "colab": {
          "base_uri": "https://localhost:8080/"
        },
        "outputId": "5b98e1bc-20aa-4c05-bb52-18ca43ba30c2"
      },
      "execution_count": null,
      "outputs": [
        {
          "output_type": "execute_result",
          "data": {
            "text/plain": [
              "False"
            ]
          },
          "metadata": {},
          "execution_count": 52
        }
      ]
    },
    {
      "cell_type": "code",
      "source": [
        "fruits=['mango','apple']\n",
        "seasonal=['okk']\n",
        "fruits+seasonal+['hii']"
      ],
      "metadata": {
        "id": "9DC42X55hylb",
        "colab": {
          "base_uri": "https://localhost:8080/"
        },
        "outputId": "c0def1a4-4f64-4d83-946c-069904d3d4cf"
      },
      "execution_count": null,
      "outputs": [
        {
          "output_type": "execute_result",
          "data": {
            "text/plain": [
              "['mango', 'apple', 'okk', 'hii']"
            ]
          },
          "metadata": {},
          "execution_count": 53
        }
      ]
    },
    {
      "cell_type": "code",
      "source": [
        "fruits=['mango','apple']\n",
        "seasonal=['okk','hii']\n",
        "fruits.append(seasonal)\n",
        "fruits"
      ],
      "metadata": {
        "id": "dcYhoV26iAxJ",
        "colab": {
          "base_uri": "https://localhost:8080/"
        },
        "outputId": "6b0c343d-9aaa-4272-bfc1-d63965eb2f53"
      },
      "execution_count": null,
      "outputs": [
        {
          "output_type": "execute_result",
          "data": {
            "text/plain": [
              "['mango', 'apple', ['okk', 'hii']]"
            ]
          },
          "metadata": {},
          "execution_count": 54
        }
      ]
    },
    {
      "cell_type": "code",
      "source": [
        "fruits=['mango','apple']\n",
        "seasonal=['okk','hii']\n",
        "fruits.extend(seasonal)\n",
        "fruits"
      ],
      "metadata": {
        "id": "ejtFycE5iUxy",
        "colab": {
          "base_uri": "https://localhost:8080/"
        },
        "outputId": "e1a8856d-2cdb-4158-fa88-506d0434a8a8"
      },
      "execution_count": null,
      "outputs": [
        {
          "output_type": "execute_result",
          "data": {
            "text/plain": [
              "['mango', 'apple', 'okk', 'hii']"
            ]
          },
          "metadata": {},
          "execution_count": 55
        }
      ]
    },
    {
      "cell_type": "code",
      "source": [
        "fruits=['mango','apple']\n",
        "fruits.reverse()\n",
        "fruits"
      ],
      "metadata": {
        "id": "zAyjV6MZigID",
        "colab": {
          "base_uri": "https://localhost:8080/"
        },
        "outputId": "7c6d6b91-e33e-4c65-a7e3-e3093b6645d7"
      },
      "execution_count": null,
      "outputs": [
        {
          "output_type": "execute_result",
          "data": {
            "text/plain": [
              "['apple', 'mango']"
            ]
          },
          "metadata": {},
          "execution_count": 56
        }
      ]
    },
    {
      "cell_type": "code",
      "source": [
        "fruits=['mango','apple','papaya','apple','cherry']\n",
        "fruits.count('apple')"
      ],
      "metadata": {
        "id": "9fcnjfwfipdB",
        "colab": {
          "base_uri": "https://localhost:8080/"
        },
        "outputId": "42062d38-4e15-42b1-f2cd-6ab638229e6b"
      },
      "execution_count": null,
      "outputs": [
        {
          "output_type": "execute_result",
          "data": {
            "text/plain": [
              "2"
            ]
          },
          "metadata": {},
          "execution_count": 57
        }
      ]
    },
    {
      "cell_type": "code",
      "source": [
        "fruits=['mango','apple','papaya','apple','cherry']\n",
        "fruits.index('apple')"
      ],
      "metadata": {
        "id": "0nScszS5i5TB",
        "colab": {
          "base_uri": "https://localhost:8080/"
        },
        "outputId": "c44c34df-f805-427d-a02d-898bb389f757"
      },
      "execution_count": null,
      "outputs": [
        {
          "output_type": "execute_result",
          "data": {
            "text/plain": [
              "1"
            ]
          },
          "metadata": {},
          "execution_count": 58
        }
      ]
    },
    {
      "cell_type": "code",
      "source": [
        "fruits=['mango','apple','papaya','apple','cherry']\n",
        "fruits.clear()\n",
        "fruits"
      ],
      "metadata": {
        "id": "flkQc4xujFEw",
        "colab": {
          "base_uri": "https://localhost:8080/"
        },
        "outputId": "4f722a45-ea9c-4014-d053-2a393e37c19e"
      },
      "execution_count": null,
      "outputs": [
        {
          "output_type": "execute_result",
          "data": {
            "text/plain": [
              "[]"
            ]
          },
          "metadata": {},
          "execution_count": 59
        }
      ]
    },
    {
      "cell_type": "code",
      "source": [
        "fruits=['mango','apple','papaya','apple','cherry']\n",
        "fruits.sort()\n",
        "fruits"
      ],
      "metadata": {
        "id": "dzHN8fBwjLXU",
        "colab": {
          "base_uri": "https://localhost:8080/"
        },
        "outputId": "652bcf1f-ffec-4b33-8bf9-01f785697a52"
      },
      "execution_count": null,
      "outputs": [
        {
          "output_type": "execute_result",
          "data": {
            "text/plain": [
              "['apple', 'apple', 'cherry', 'mango', 'papaya']"
            ]
          },
          "metadata": {},
          "execution_count": 60
        }
      ]
    },
    {
      "cell_type": "code",
      "source": [
        "fruits=('mango','apple')\n",
        "type(fruits)"
      ],
      "metadata": {
        "id": "Ll6G5xvhjUOA",
        "colab": {
          "base_uri": "https://localhost:8080/"
        },
        "outputId": "4a2e572e-128b-4882-dc18-98643d746dff"
      },
      "execution_count": null,
      "outputs": [
        {
          "output_type": "execute_result",
          "data": {
            "text/plain": [
              "tuple"
            ]
          },
          "metadata": {},
          "execution_count": 61
        }
      ]
    },
    {
      "cell_type": "code",
      "source": [
        "dict={'name':'ram',\n",
        "'age': 33,\n",
        "'mobno':883902,\n",
        "}\n",
        "dict['name']"
      ],
      "metadata": {
        "id": "4rJbyS4Fjmtq",
        "colab": {
          "base_uri": "https://localhost:8080/",
          "height": 36
        },
        "outputId": "b04f637d-8dee-463e-fbc0-f4fbba544abd"
      },
      "execution_count": null,
      "outputs": [
        {
          "output_type": "execute_result",
          "data": {
            "text/plain": [
              "'ram'"
            ],
            "application/vnd.google.colaboratory.intrinsic+json": {
              "type": "string"
            }
          },
          "metadata": {},
          "execution_count": 65
        }
      ]
    },
    {
      "cell_type": "code",
      "source": [
        "dict={'name':'ram',\n",
        "'age': 33,\n",
        "'mobno':883902,\n",
        "}\n",
        "dict['name']='ok'\n",
        "dict['name']"
      ],
      "metadata": {
        "id": "y_UyAZHAlXsB",
        "colab": {
          "base_uri": "https://localhost:8080/",
          "height": 36
        },
        "outputId": "4d489caa-cfd3-4876-92ea-1484d4b69cd0"
      },
      "execution_count": null,
      "outputs": [
        {
          "output_type": "execute_result",
          "data": {
            "text/plain": [
              "'ok'"
            ],
            "application/vnd.google.colaboratory.intrinsic+json": {
              "type": "string"
            }
          },
          "metadata": {},
          "execution_count": 66
        }
      ]
    },
    {
      "cell_type": "code",
      "source": [
        "dict={'name':'ram',\n",
        "'age': 33,\n",
        "'mobno':883902,\n",
        "}\n",
        "dict.keys()"
      ],
      "metadata": {
        "id": "tc4oW7TelnRq",
        "colab": {
          "base_uri": "https://localhost:8080/"
        },
        "outputId": "05fde31f-66ce-4198-e1b0-9fe9816415cc"
      },
      "execution_count": null,
      "outputs": [
        {
          "output_type": "execute_result",
          "data": {
            "text/plain": [
              "dict_keys(['name', 'age', 'mobno'])"
            ]
          },
          "metadata": {},
          "execution_count": 68
        }
      ]
    },
    {
      "cell_type": "code",
      "source": [
        "dict={'name':'ram',\n",
        "'age': 33,\n",
        "'mobno':883902,\n",
        "}\n",
        "dict.values()"
      ],
      "metadata": {
        "id": "qgdTTmwkl1kQ",
        "colab": {
          "base_uri": "https://localhost:8080/"
        },
        "outputId": "c86dc31e-3d5c-44a7-e541-07fa5789e35a"
      },
      "execution_count": null,
      "outputs": [
        {
          "output_type": "execute_result",
          "data": {
            "text/plain": [
              "dict_values(['ram', 33, 883902])"
            ]
          },
          "metadata": {},
          "execution_count": 69
        }
      ]
    },
    {
      "cell_type": "code",
      "source": [
        "dict={'name':'ram',\n",
        "'age': 33,\n",
        "'mobno':883902,\n",
        "}\n",
        "dict.items()"
      ],
      "metadata": {
        "id": "nxMftimIl6bJ",
        "colab": {
          "base_uri": "https://localhost:8080/"
        },
        "outputId": "0e764701-f9dc-4a5b-d993-04fd04fbec43"
      },
      "execution_count": null,
      "outputs": [
        {
          "output_type": "execute_result",
          "data": {
            "text/plain": [
              "dict_items([('name', 'ram'), ('age', 33), ('mobno', 883902)])"
            ]
          },
          "metadata": {},
          "execution_count": 70
        }
      ]
    },
    {
      "cell_type": "code",
      "source": [
        "dict={'name':'ram',\n",
        "'age': 33,\n",
        "'mobno':883902,\n",
        "}\n",
        "dict.items()\n",
        "dict.get('address','unknown key')"
      ],
      "metadata": {
        "id": "1Chmel2omB5g",
        "colab": {
          "base_uri": "https://localhost:8080/",
          "height": 36
        },
        "outputId": "f852a026-0db4-40b7-85e8-bbf3600d1655"
      },
      "execution_count": null,
      "outputs": [
        {
          "output_type": "execute_result",
          "data": {
            "text/plain": [
              "'unknown key'"
            ],
            "application/vnd.google.colaboratory.intrinsic+json": {
              "type": "string"
            }
          },
          "metadata": {},
          "execution_count": 71
        }
      ]
    },
    {
      "cell_type": "code",
      "source": [
        "dict={'name':'ram',\n",
        "'age': 33,\n",
        "'mobno':883902,\n",
        "}\n",
        "dict['address']='katara'\n",
        "dict"
      ],
      "metadata": {
        "id": "vUhdVIKInDkx",
        "colab": {
          "base_uri": "https://localhost:8080/"
        },
        "outputId": "5c2d7044-f81d-432e-d132-547082943eb7"
      },
      "execution_count": null,
      "outputs": [
        {
          "output_type": "execute_result",
          "data": {
            "text/plain": [
              "{'name': 'ram', 'age': 33, 'mobno': 883902, 'address': 'katara'}"
            ]
          },
          "metadata": {},
          "execution_count": 72
        }
      ]
    },
    {
      "cell_type": "code",
      "source": [
        "detail={'name':'ram',\n",
        "        'age':23}\n",
        "address={'city':'bhopal',\n",
        "         'state':'mp'}\n",
        "detail.update(address)\n",
        "detail"
      ],
      "metadata": {
        "id": "M2utAlJrmTQp",
        "colab": {
          "base_uri": "https://localhost:8080/"
        },
        "outputId": "229318d4-5c7b-4535-fb26-954d62df75f7"
      },
      "execution_count": null,
      "outputs": [
        {
          "output_type": "execute_result",
          "data": {
            "text/plain": [
              "{'name': 'ram', 'age': 23, 'city': 'bhopal', 'state': 'mp'}"
            ]
          },
          "metadata": {},
          "execution_count": 73
        }
      ]
    },
    {
      "cell_type": "code",
      "source": [
        "dict={'name':'ram',\n",
        "'age': 33,\n",
        "'mobno':883902,\n",
        "}\n",
        "dict.pop('mobno')\n",
        "dict"
      ],
      "metadata": {
        "id": "RJvei83nnRKq",
        "colab": {
          "base_uri": "https://localhost:8080/"
        },
        "outputId": "c95e51d2-b52f-439e-d902-c10c3ce279e7"
      },
      "execution_count": null,
      "outputs": [
        {
          "output_type": "execute_result",
          "data": {
            "text/plain": [
              "{'name': 'ram', 'age': 33}"
            ]
          },
          "metadata": {},
          "execution_count": 74
        }
      ]
    },
    {
      "cell_type": "code",
      "source": [
        "dict={'name':'ram',\n",
        "'age': 33,\n",
        "'mobno':883902,\n",
        "}\n",
        "dict.pop('mobno')"
      ],
      "metadata": {
        "id": "CffKqMzUnzqa",
        "colab": {
          "base_uri": "https://localhost:8080/"
        },
        "outputId": "74e7fec4-117d-42e2-dae7-3b2bedba3176"
      },
      "execution_count": null,
      "outputs": [
        {
          "output_type": "execute_result",
          "data": {
            "text/plain": [
              "883902"
            ]
          },
          "metadata": {},
          "execution_count": 75
        }
      ]
    },
    {
      "cell_type": "code",
      "source": [
        "fruits=['mango','banana','cherry']\n",
        "myfruit='mango'\n",
        "if myfruit in fruits:\n",
        "  print('{} is present in fruits'.format(myfruit))"
      ],
      "metadata": {
        "id": "LEFDtzSuMkba",
        "colab": {
          "base_uri": "https://localhost:8080/"
        },
        "outputId": "dc10d9d9-01e9-4f21-f9f0-8d0407a28b2f"
      },
      "execution_count": null,
      "outputs": [
        {
          "output_type": "stream",
          "name": "stdout",
          "text": [
            "mango is present in fruits\n"
          ]
        }
      ]
    },
    {
      "cell_type": "code",
      "source": [
        "fruits=['mango','banana','cherry']\n",
        "myfruit='mango'\n",
        "if myfruit not in fruits:\n",
        "  print('{} is present in fruits'.format(myfruit))"
      ],
      "metadata": {
        "id": "qiv71lYENhOL"
      },
      "execution_count": null,
      "outputs": []
    },
    {
      "cell_type": "code",
      "source": [
        "fruits=['banana','cherry']\n",
        "myfruit='mango'\n",
        "if myfruit not in fruits:\n",
        "  print('{} is not present in fruits'.format(myfruit))"
      ],
      "metadata": {
        "id": "eqjg5MgLNKi3",
        "colab": {
          "base_uri": "https://localhost:8080/"
        },
        "outputId": "11c44e89-653c-4030-89af-43cc7d8fbd8a"
      },
      "execution_count": null,
      "outputs": [
        {
          "output_type": "stream",
          "name": "stdout",
          "text": [
            "mango is not present in fruits\n"
          ]
        }
      ]
    },
    {
      "cell_type": "code",
      "source": [
        "num=int(input())\n",
        "if num%2==0:\n",
        "  print('Nmber is divided by 2')\n",
        "elif num%3==0:\n",
        "  print('Number is divided by 3')\n",
        "else:\n",
        "  print('bye')"
      ],
      "metadata": {
        "id": "Z_hpVjiGNc-S",
        "colab": {
          "base_uri": "https://localhost:8080/"
        },
        "outputId": "cc1c0c8b-6192-41c4-e1db-6daee1c4506b"
      },
      "execution_count": null,
      "outputs": [
        {
          "output_type": "stream",
          "name": "stdout",
          "text": [
            "4\n",
            "Nmber is divided by 2\n"
          ]
        }
      ]
    },
    {
      "cell_type": "code",
      "source": [
        "fruits=['mango','banana','cherry']\n",
        "for i in fruits:\n",
        "  print(i)"
      ],
      "metadata": {
        "id": "AnidZCE3OS57",
        "colab": {
          "base_uri": "https://localhost:8080/"
        },
        "outputId": "8a00e5dc-0aff-45bf-97ff-cedc8d43b22c"
      },
      "execution_count": null,
      "outputs": [
        {
          "output_type": "stream",
          "name": "stdout",
          "text": [
            "mango\n",
            "banana\n",
            "cherry\n"
          ]
        }
      ]
    },
    {
      "cell_type": "code",
      "source": [
        "fruits=['mango','banana','cherry']\n",
        "for i in range(len(fruits)):\n",
        "  print(fruits[i])"
      ],
      "metadata": {
        "id": "azGwKNbrOhcs",
        "colab": {
          "base_uri": "https://localhost:8080/"
        },
        "outputId": "cf38329d-080f-44df-b606-d5be70814a58"
      },
      "execution_count": null,
      "outputs": [
        {
          "output_type": "stream",
          "name": "stdout",
          "text": [
            "mango\n",
            "banana\n",
            "cherry\n"
          ]
        }
      ]
    },
    {
      "cell_type": "code",
      "source": [
        "fruits=['mango','banana','cherry']\n",
        "for i in range(0,2):\n",
        "  print(fruits[i])"
      ],
      "metadata": {
        "id": "JnXougpQO2Sk",
        "colab": {
          "base_uri": "https://localhost:8080/"
        },
        "outputId": "8416a897-c34b-43a4-85a1-7f4bf15bbe1e"
      },
      "execution_count": null,
      "outputs": [
        {
          "output_type": "stream",
          "name": "stdout",
          "text": [
            "mango\n",
            "banana\n"
          ]
        }
      ]
    },
    {
      "cell_type": "code",
      "source": [
        "fruits=['mango','banana','cherry','papaya','orange','guava']\n",
        "for i in range(0,6,2):\n",
        "  print(fruits[i])"
      ],
      "metadata": {
        "id": "6t9CO-U7PHZx",
        "colab": {
          "base_uri": "https://localhost:8080/"
        },
        "outputId": "959a838a-fbe2-410e-d3f0-2ab73003d978"
      },
      "execution_count": null,
      "outputs": [
        {
          "output_type": "stream",
          "name": "stdout",
          "text": [
            "mango\n",
            "cherry\n",
            "orange\n"
          ]
        }
      ]
    },
    {
      "cell_type": "code",
      "source": [
        "for i in range(5,24,3):\n",
        "  print(i)"
      ],
      "metadata": {
        "id": "LwCfOQE4Ps_T",
        "colab": {
          "base_uri": "https://localhost:8080/"
        },
        "outputId": "d02b57ea-8594-44e4-be79-83a18085aa15"
      },
      "execution_count": null,
      "outputs": [
        {
          "output_type": "stream",
          "name": "stdout",
          "text": [
            "5\n",
            "8\n",
            "11\n",
            "14\n",
            "17\n",
            "20\n",
            "23\n"
          ]
        }
      ]
    },
    {
      "cell_type": "code",
      "source": [
        "fruits=['banana',1,2,'papaya',4,5,8,9,10]\n",
        "fruits[2:5]"
      ],
      "metadata": {
        "id": "HuvPD7h2P9N8",
        "colab": {
          "base_uri": "https://localhost:8080/"
        },
        "outputId": "cd9867d1-4036-4578-dc78-b6f8298891cb"
      },
      "execution_count": null,
      "outputs": [
        {
          "output_type": "execute_result",
          "data": {
            "text/plain": [
              "[2, 'papaya', 4]"
            ]
          },
          "metadata": {},
          "execution_count": 88
        }
      ]
    },
    {
      "cell_type": "code",
      "source": [
        "fruits=['banana','papaya','cherry','banana','blueberry']\n",
        "x=fruits\n",
        "x.append('abc')\n",
        "x.append('xyz')\n",
        "fruits"
      ],
      "metadata": {
        "id": "vLx-OKiaQVng",
        "colab": {
          "base_uri": "https://localhost:8080/"
        },
        "outputId": "34d0f6ad-90b6-4372-cecf-1d4469c008ae"
      },
      "execution_count": null,
      "outputs": [
        {
          "output_type": "execute_result",
          "data": {
            "text/plain": [
              "['banana', 'papaya', 'cherry', 'banana', 'blueberry', 'abc', 'xyz']"
            ]
          },
          "metadata": {},
          "execution_count": 89
        }
      ]
    },
    {
      "cell_type": "code",
      "source": [
        "fruits=['banana','papaya','cherry','banana','blueberry']\n",
        "x=fruits.copy()\n",
        "x.append('abc')\n",
        "fruits"
      ],
      "metadata": {
        "id": "J_6aR6IyQzm6",
        "colab": {
          "base_uri": "https://localhost:8080/"
        },
        "outputId": "590d302c-f3dc-45a1-c299-ba6a3f97cf18"
      },
      "execution_count": null,
      "outputs": [
        {
          "output_type": "execute_result",
          "data": {
            "text/plain": [
              "['banana', 'papaya', 'cherry', 'banana', 'blueberry']"
            ]
          },
          "metadata": {},
          "execution_count": 92
        }
      ]
    },
    {
      "cell_type": "code",
      "source": [
        "x={'name':'ram'}\n",
        "x.setdefault('name','unknown person')\n",
        "x.setdefault('age','20')\n",
        "x"
      ],
      "metadata": {
        "id": "SRGccS-nScG0",
        "colab": {
          "base_uri": "https://localhost:8080/"
        },
        "outputId": "86191ae1-c328-463b-a404-3a2a0772faab"
      },
      "execution_count": null,
      "outputs": [
        {
          "output_type": "execute_result",
          "data": {
            "text/plain": [
              "{'name': 'ram', 'age': '20'}"
            ]
          },
          "metadata": {},
          "execution_count": 93
        }
      ]
    },
    {
      "cell_type": "code",
      "source": [
        "x={3,4,5,6}\n",
        "y={4,5,6,7}\n",
        "x.add(8)\n",
        "x"
      ],
      "metadata": {
        "id": "f8iNKTc_TF5H",
        "colab": {
          "base_uri": "https://localhost:8080/"
        },
        "outputId": "15475fb4-da80-4b36-d1e5-d29e59dcb622"
      },
      "execution_count": null,
      "outputs": [
        {
          "output_type": "execute_result",
          "data": {
            "text/plain": [
              "{3, 4, 5, 6, 8}"
            ]
          },
          "metadata": {},
          "execution_count": 94
        }
      ]
    },
    {
      "cell_type": "code",
      "source": [
        "x={3,4,5,6}\n",
        "y={4,5,6,7}\n",
        "x.clear()\n",
        "x"
      ],
      "metadata": {
        "id": "W2NF_1xYTYGr",
        "colab": {
          "base_uri": "https://localhost:8080/"
        },
        "outputId": "5dc5f4c6-abd1-4b15-dd56-79c96036f784"
      },
      "execution_count": null,
      "outputs": [
        {
          "output_type": "execute_result",
          "data": {
            "text/plain": [
              "set()"
            ]
          },
          "metadata": {},
          "execution_count": 95
        }
      ]
    },
    {
      "cell_type": "code",
      "source": [
        "x={3,4,5,6}\n",
        "y={4,5,6,7}\n",
        "z=x.copy()\n",
        "z.add(8)\n",
        "x"
      ],
      "metadata": {
        "id": "XTv_rFiCTiip",
        "colab": {
          "base_uri": "https://localhost:8080/"
        },
        "outputId": "5a0cabf9-4937-4016-ac61-ba7c2fa44644"
      },
      "execution_count": null,
      "outputs": [
        {
          "output_type": "execute_result",
          "data": {
            "text/plain": [
              "{3, 4, 5, 6}"
            ]
          },
          "metadata": {},
          "execution_count": 96
        }
      ]
    },
    {
      "cell_type": "code",
      "source": [
        "x={3,4,5,6,8}\n",
        "y={4,5,6,7}\n",
        "x.difference(y)\n",
        "x"
      ],
      "metadata": {
        "id": "atibPXbsUBvc",
        "colab": {
          "base_uri": "https://localhost:8080/"
        },
        "outputId": "c2445eac-458e-4df8-8e8c-00a59c6a4460"
      },
      "execution_count": null,
      "outputs": [
        {
          "output_type": "execute_result",
          "data": {
            "text/plain": [
              "{3, 4, 5, 6, 8}"
            ]
          },
          "metadata": {},
          "execution_count": 97
        }
      ]
    },
    {
      "cell_type": "code",
      "source": [
        "x={3,4,5,6,8}\n",
        "y={4,5,6,7}\n",
        "x.difference(y)\n",
        "x.difference_update(y)\n",
        "x"
      ],
      "metadata": {
        "id": "xbH6g-5DUPH8",
        "colab": {
          "base_uri": "https://localhost:8080/"
        },
        "outputId": "95cecfbe-fa50-41b3-e8a4-2caa36ce50af"
      },
      "execution_count": null,
      "outputs": [
        {
          "output_type": "execute_result",
          "data": {
            "text/plain": [
              "{3, 8}"
            ]
          },
          "metadata": {},
          "execution_count": 98
        }
      ]
    },
    {
      "cell_type": "code",
      "source": [
        "x={3,4,5,6,8}\n",
        "y={4,5,6,7}\n",
        "x.discard(9)\n",
        "x"
      ],
      "metadata": {
        "id": "mgjId5UMUjuN",
        "colab": {
          "base_uri": "https://localhost:8080/"
        },
        "outputId": "8fe77fae-62fb-4146-eaae-3f1c5bc6bc20"
      },
      "execution_count": null,
      "outputs": [
        {
          "output_type": "execute_result",
          "data": {
            "text/plain": [
              "{3, 4, 5, 6, 8}"
            ]
          },
          "metadata": {},
          "execution_count": 99
        }
      ]
    },
    {
      "cell_type": "code",
      "source": [
        "x={3,4,5,6,8}\n",
        "y={4,5,6,7}\n",
        "x.discard(8)\n",
        "x"
      ],
      "metadata": {
        "id": "WSNtSX4AUyNC",
        "colab": {
          "base_uri": "https://localhost:8080/"
        },
        "outputId": "5b4fa59c-6ab0-4f98-ffde-c8eeba59d02a"
      },
      "execution_count": null,
      "outputs": [
        {
          "output_type": "execute_result",
          "data": {
            "text/plain": [
              "{3, 4, 5, 6}"
            ]
          },
          "metadata": {},
          "execution_count": 100
        }
      ]
    },
    {
      "cell_type": "code",
      "source": [
        "x={3,4,5,6}\n",
        "y={4,5,6,7}\n",
        "x.intersection(y)"
      ],
      "metadata": {
        "id": "aj0apBaxU2dj",
        "colab": {
          "base_uri": "https://localhost:8080/"
        },
        "outputId": "ea9de729-5aae-4b2a-96ba-65e4d6a5b0f7"
      },
      "execution_count": null,
      "outputs": [
        {
          "output_type": "execute_result",
          "data": {
            "text/plain": [
              "{4, 5, 6}"
            ]
          },
          "metadata": {},
          "execution_count": 101
        }
      ]
    },
    {
      "cell_type": "code",
      "source": [
        "x={3,4,5,6}\n",
        "y={4,5,6,7}\n",
        "x.intersection(y)\n",
        "x"
      ],
      "metadata": {
        "id": "uj9KkhZaU2pW",
        "colab": {
          "base_uri": "https://localhost:8080/"
        },
        "outputId": "a435ee9c-96f4-4841-943c-e5d16c89d2c5"
      },
      "execution_count": null,
      "outputs": [
        {
          "output_type": "execute_result",
          "data": {
            "text/plain": [
              "{3, 4, 5, 6}"
            ]
          },
          "metadata": {},
          "execution_count": 102
        }
      ]
    },
    {
      "cell_type": "code",
      "source": [
        "x={3,4,5,6}\n",
        "y={4,5,6,7}\n",
        "x.intersection(y)\n",
        "x.intersection_update(y)\n",
        "x"
      ],
      "metadata": {
        "id": "3xP7DdYkVJFD",
        "colab": {
          "base_uri": "https://localhost:8080/"
        },
        "outputId": "a77261b1-60ea-4797-df34-43087c64d8f4"
      },
      "execution_count": null,
      "outputs": [
        {
          "output_type": "execute_result",
          "data": {
            "text/plain": [
              "{4, 5, 6}"
            ]
          },
          "metadata": {},
          "execution_count": 103
        }
      ]
    },
    {
      "cell_type": "code",
      "source": [
        "x={3,4,5,6,8}\n",
        "y={4,5,6,7}\n",
        "x.issubset(y)"
      ],
      "metadata": {
        "id": "yhh66B9BVWNE",
        "colab": {
          "base_uri": "https://localhost:8080/"
        },
        "outputId": "bdab4fb5-fb22-4c2c-8055-e9965a7dd615"
      },
      "execution_count": null,
      "outputs": [
        {
          "output_type": "execute_result",
          "data": {
            "text/plain": [
              "False"
            ]
          },
          "metadata": {},
          "execution_count": 106
        }
      ]
    },
    {
      "cell_type": "code",
      "source": [
        "x={3,4,5,6,8}\n",
        "y={4,5,6,7}\n",
        "x.issuperset(y)"
      ],
      "metadata": {
        "id": "f2vmA3eJVh_G",
        "colab": {
          "base_uri": "https://localhost:8080/"
        },
        "outputId": "333ced2b-8aa7-46c3-bc34-f723c2388932"
      },
      "execution_count": null,
      "outputs": [
        {
          "output_type": "execute_result",
          "data": {
            "text/plain": [
              "False"
            ]
          },
          "metadata": {},
          "execution_count": 107
        }
      ]
    },
    {
      "cell_type": "code",
      "source": [
        "x={4,5,6}\n",
        "y={4,5,6,7}\n",
        "y.pop()\n",
        "y"
      ],
      "metadata": {
        "id": "zHWSw0mrVl_s",
        "colab": {
          "base_uri": "https://localhost:8080/"
        },
        "outputId": "a1a967f3-911a-459d-d6de-72e955d1d2e8"
      },
      "execution_count": null,
      "outputs": [
        {
          "output_type": "execute_result",
          "data": {
            "text/plain": [
              "{5, 6, 7}"
            ]
          },
          "metadata": {},
          "execution_count": 113
        }
      ]
    },
    {
      "cell_type": "code",
      "source": [
        "x={1,4,5,6}\n",
        "y={4,5,6,7,8}\n",
        "x.symmetric_difference(y)\n",
        "x"
      ],
      "metadata": {
        "id": "qki-JpI8V0rc",
        "colab": {
          "base_uri": "https://localhost:8080/"
        },
        "outputId": "f496be2a-2ca5-408e-efae-741f41e9ff57"
      },
      "execution_count": null,
      "outputs": [
        {
          "output_type": "execute_result",
          "data": {
            "text/plain": [
              "{1, 4, 5, 6}"
            ]
          },
          "metadata": {},
          "execution_count": 114
        }
      ]
    },
    {
      "cell_type": "code",
      "source": [
        "x={1,4,5,6}\n",
        "y={4,5,6,7,8}\n",
        "x.symmetric_difference(y)\n",
        "x.symmetric_difference_update(y)\n",
        "x"
      ],
      "metadata": {
        "id": "6wHUU3o5WEYA",
        "colab": {
          "base_uri": "https://localhost:8080/"
        },
        "outputId": "06ce40d3-b81e-4715-ee61-64a8bcf02f96"
      },
      "execution_count": null,
      "outputs": [
        {
          "output_type": "execute_result",
          "data": {
            "text/plain": [
              "{1, 7, 8}"
            ]
          },
          "metadata": {},
          "execution_count": 115
        }
      ]
    },
    {
      "cell_type": "code",
      "source": [
        "x={1,4,5,6}\n",
        "y={4,5,6,7,8}\n",
        "x.union(y)\n",
        "x"
      ],
      "metadata": {
        "id": "uwhQA2rgWoBH",
        "colab": {
          "base_uri": "https://localhost:8080/"
        },
        "outputId": "a91695ca-ff18-4d8b-dc7c-34074e0fe5e2"
      },
      "execution_count": null,
      "outputs": [
        {
          "output_type": "execute_result",
          "data": {
            "text/plain": [
              "{1, 4, 5, 6}"
            ]
          },
          "metadata": {},
          "execution_count": 116
        }
      ]
    },
    {
      "cell_type": "code",
      "source": [
        "x={1,4,5,6}\n",
        "y={4,5,6,7,8}\n",
        "x.union(y)\n",
        "x.update(y)\n",
        "x"
      ],
      "metadata": {
        "id": "MMgVu0TXX4u2",
        "colab": {
          "base_uri": "https://localhost:8080/"
        },
        "outputId": "272ef4bf-8ec8-44e3-80c0-535ee9028351"
      },
      "execution_count": null,
      "outputs": [
        {
          "output_type": "execute_result",
          "data": {
            "text/plain": [
              "{1, 4, 5, 6, 7, 8}"
            ]
          },
          "metadata": {},
          "execution_count": 117
        }
      ]
    },
    {
      "cell_type": "code",
      "source": [
        "x='    hello my name is     '\n",
        "x.rstrip()"
      ],
      "metadata": {
        "id": "7i97AN2VYI0M",
        "colab": {
          "base_uri": "https://localhost:8080/",
          "height": 36
        },
        "outputId": "d4f09a57-eff4-43d1-8dac-481a87ca296d"
      },
      "execution_count": null,
      "outputs": [
        {
          "output_type": "execute_result",
          "data": {
            "text/plain": [
              "'    hello my name is'"
            ],
            "application/vnd.google.colaboratory.intrinsic+json": {
              "type": "string"
            }
          },
          "metadata": {},
          "execution_count": 118
        }
      ]
    },
    {
      "cell_type": "code",
      "source": [
        "x='    hello my name is     '\n",
        "x.lstrip()"
      ],
      "metadata": {
        "id": "tXSYzwmJYhJz",
        "colab": {
          "base_uri": "https://localhost:8080/",
          "height": 36
        },
        "outputId": "9dac32e6-fbd1-4d1a-b7c5-ef32d17c88be"
      },
      "execution_count": null,
      "outputs": [
        {
          "output_type": "execute_result",
          "data": {
            "text/plain": [
              "'hello my name is     '"
            ],
            "application/vnd.google.colaboratory.intrinsic+json": {
              "type": "string"
            }
          },
          "metadata": {},
          "execution_count": 119
        }
      ]
    },
    {
      "cell_type": "code",
      "source": [
        "x=\"hello how are you\"\n",
        "x.replace(\"hello\",\"hii\")"
      ],
      "metadata": {
        "id": "ppfMWV-bYmmH",
        "colab": {
          "base_uri": "https://localhost:8080/",
          "height": 36
        },
        "outputId": "2db87d58-80c9-452e-a50c-396ffc683ecd"
      },
      "execution_count": null,
      "outputs": [
        {
          "output_type": "execute_result",
          "data": {
            "text/plain": [
              "'hii how are you'"
            ],
            "application/vnd.google.colaboratory.intrinsic+json": {
              "type": "string"
            }
          },
          "metadata": {},
          "execution_count": 120
        }
      ]
    },
    {
      "cell_type": "code",
      "source": [
        "x=\"hello how are you\"\n",
        "x.find(\"how\")"
      ],
      "metadata": {
        "id": "uO0kfs01Y4g1",
        "colab": {
          "base_uri": "https://localhost:8080/"
        },
        "outputId": "b930a215-0541-4a31-808b-581792b018ec"
      },
      "execution_count": null,
      "outputs": [
        {
          "output_type": "execute_result",
          "data": {
            "text/plain": [
              "6"
            ]
          },
          "metadata": {},
          "execution_count": 121
        }
      ]
    },
    {
      "cell_type": "code",
      "source": [
        "x=\"hello how are you\"\n",
        "x.isalpha()"
      ],
      "metadata": {
        "id": "Xdz_xywAZW9d",
        "colab": {
          "base_uri": "https://localhost:8080/"
        },
        "outputId": "6a4e2a22-e582-4ddf-998f-8865898929f3"
      },
      "execution_count": null,
      "outputs": [
        {
          "output_type": "execute_result",
          "data": {
            "text/plain": [
              "False"
            ]
          },
          "metadata": {},
          "execution_count": 122
        }
      ]
    },
    {
      "cell_type": "code",
      "source": [
        "x=\"hellohowareyou\"\n",
        "x.isalpha()"
      ],
      "metadata": {
        "id": "K4E9wssPZgiT",
        "colab": {
          "base_uri": "https://localhost:8080/"
        },
        "outputId": "125016b5-b0d0-4a88-fb74-a5779a40cda8"
      },
      "execution_count": null,
      "outputs": [
        {
          "output_type": "execute_result",
          "data": {
            "text/plain": [
              "True"
            ]
          },
          "metadata": {},
          "execution_count": 123
        }
      ]
    },
    {
      "cell_type": "code",
      "source": [
        "x=\"45685 \"\n",
        "x.isdigit()"
      ],
      "metadata": {
        "id": "ZXvsbzsiZxQ7",
        "colab": {
          "base_uri": "https://localhost:8080/"
        },
        "outputId": "0f5407f6-088e-4e35-b9af-9347e02dbafa"
      },
      "execution_count": null,
      "outputs": [
        {
          "output_type": "execute_result",
          "data": {
            "text/plain": [
              "False"
            ]
          },
          "metadata": {},
          "execution_count": 124
        }
      ]
    },
    {
      "cell_type": "code",
      "source": [
        "x=\"45685\"\n",
        "x.isdigit()"
      ],
      "metadata": {
        "id": "YCVFqu_HZo2r",
        "colab": {
          "base_uri": "https://localhost:8080/"
        },
        "outputId": "6fc5074f-bc43-4a47-a670-bdd09bb014d5"
      },
      "execution_count": null,
      "outputs": [
        {
          "output_type": "execute_result",
          "data": {
            "text/plain": [
              "True"
            ]
          },
          "metadata": {},
          "execution_count": 125
        }
      ]
    },
    {
      "cell_type": "code",
      "source": [
        "x=\"abcdc45685\"\n",
        "x.isalnum()"
      ],
      "metadata": {
        "id": "vHRTIXdcZz4m",
        "colab": {
          "base_uri": "https://localhost:8080/"
        },
        "outputId": "df91227b-18b0-4359-e4ad-4fdfc40e5507"
      },
      "execution_count": null,
      "outputs": [
        {
          "output_type": "execute_result",
          "data": {
            "text/plain": [
              "True"
            ]
          },
          "metadata": {},
          "execution_count": 126
        }
      ]
    },
    {
      "cell_type": "code",
      "source": [
        "x='   '\n",
        "x.isspace()"
      ],
      "metadata": {
        "id": "XgzekPk-Z-Hn",
        "colab": {
          "base_uri": "https://localhost:8080/"
        },
        "outputId": "5f9f083a-da30-4901-c08e-7a3b61cca873"
      },
      "execution_count": null,
      "outputs": [
        {
          "output_type": "execute_result",
          "data": {
            "text/plain": [
              "True"
            ]
          },
          "metadata": {},
          "execution_count": 127
        }
      ]
    },
    {
      "cell_type": "code",
      "source": [
        "x='  i '\n",
        "x.isspace()"
      ],
      "metadata": {
        "id": "GsvDPv-yaEXL",
        "colab": {
          "base_uri": "https://localhost:8080/"
        },
        "outputId": "949bb4e4-662e-4681-b1ec-e74f0fd7a5d0"
      },
      "execution_count": null,
      "outputs": [
        {
          "output_type": "execute_result",
          "data": {
            "text/plain": [
              "False"
            ]
          },
          "metadata": {},
          "execution_count": 128
        }
      ]
    },
    {
      "cell_type": "code",
      "source": [
        "x=\"hello how are you\"\n",
        "x.partition('how')"
      ],
      "metadata": {
        "id": "pSN8wf5_aOvh",
        "colab": {
          "base_uri": "https://localhost:8080/"
        },
        "outputId": "86e3d7dc-f901-418b-dd35-76cb942e3fe2"
      },
      "execution_count": null,
      "outputs": [
        {
          "output_type": "execute_result",
          "data": {
            "text/plain": [
              "('hello ', 'how', ' are you')"
            ]
          },
          "metadata": {},
          "execution_count": 129
        }
      ]
    },
    {
      "cell_type": "code",
      "source": [
        "x=\"hello how are how you\"\n",
        "x.rpartition('how')"
      ],
      "metadata": {
        "id": "GeFbyuftaZVO",
        "colab": {
          "base_uri": "https://localhost:8080/"
        },
        "outputId": "8e7f8502-9299-491c-9486-8ad901f7693f"
      },
      "execution_count": null,
      "outputs": [
        {
          "output_type": "execute_result",
          "data": {
            "text/plain": [
              "('hello how are ', 'how', ' you')"
            ]
          },
          "metadata": {},
          "execution_count": 130
        }
      ]
    },
    {
      "cell_type": "code",
      "source": [
        "x='''hello how \n",
        "are you'''\n",
        "x.splitlines()"
      ],
      "metadata": {
        "id": "CnKZ-zW8al4y",
        "colab": {
          "base_uri": "https://localhost:8080/"
        },
        "outputId": "36f7ef4b-4ae4-4c54-ec2b-c17ebd75cbb2"
      },
      "execution_count": null,
      "outputs": [
        {
          "output_type": "execute_result",
          "data": {
            "text/plain": [
              "['hello how ', 'are you']"
            ]
          },
          "metadata": {},
          "execution_count": 131
        }
      ]
    },
    {
      "cell_type": "markdown",
      "source": [
        "# @PYTHON 2.0"
      ],
      "metadata": {
        "id": "x5mdtiUteZAA"
      }
    },
    {
      "cell_type": "markdown",
      "source": [
        "29/08/22_____MONDAY"
      ],
      "metadata": {
        "id": "ynMpRit-elHP"
      }
    },
    {
      "cell_type": "code",
      "source": [
        "import pandas as pd"
      ],
      "metadata": {
        "id": "e2tQqIthfN-L"
      },
      "execution_count": null,
      "outputs": []
    },
    {
      "cell_type": "code",
      "source": [
        "d={'name':['mohan','rohan','sohan'],\n",
        "   'age':[34,23,12]}\n",
        "df=pd.DataFrame(d)\n",
        "df"
      ],
      "metadata": {
        "colab": {
          "base_uri": "https://localhost:8080/",
          "height": 143
        },
        "id": "BWhiVd8JezvE",
        "outputId": "27ea7e48-1823-4eba-9db7-437190ef18e4"
      },
      "execution_count": null,
      "outputs": [
        {
          "output_type": "execute_result",
          "data": {
            "text/plain": [
              "    name  age\n",
              "0  mohan   34\n",
              "1  rohan   23\n",
              "2  sohan   12"
            ],
            "text/html": [
              "\n",
              "  <div id=\"df-de3db771-110d-4265-800b-c826a267a3fd\">\n",
              "    <div class=\"colab-df-container\">\n",
              "      <div>\n",
              "<style scoped>\n",
              "    .dataframe tbody tr th:only-of-type {\n",
              "        vertical-align: middle;\n",
              "    }\n",
              "\n",
              "    .dataframe tbody tr th {\n",
              "        vertical-align: top;\n",
              "    }\n",
              "\n",
              "    .dataframe thead th {\n",
              "        text-align: right;\n",
              "    }\n",
              "</style>\n",
              "<table border=\"1\" class=\"dataframe\">\n",
              "  <thead>\n",
              "    <tr style=\"text-align: right;\">\n",
              "      <th></th>\n",
              "      <th>name</th>\n",
              "      <th>age</th>\n",
              "    </tr>\n",
              "  </thead>\n",
              "  <tbody>\n",
              "    <tr>\n",
              "      <th>0</th>\n",
              "      <td>mohan</td>\n",
              "      <td>34</td>\n",
              "    </tr>\n",
              "    <tr>\n",
              "      <th>1</th>\n",
              "      <td>rohan</td>\n",
              "      <td>23</td>\n",
              "    </tr>\n",
              "    <tr>\n",
              "      <th>2</th>\n",
              "      <td>sohan</td>\n",
              "      <td>12</td>\n",
              "    </tr>\n",
              "  </tbody>\n",
              "</table>\n",
              "</div>\n",
              "      <button class=\"colab-df-convert\" onclick=\"convertToInteractive('df-de3db771-110d-4265-800b-c826a267a3fd')\"\n",
              "              title=\"Convert this dataframe to an interactive table.\"\n",
              "              style=\"display:none;\">\n",
              "        \n",
              "  <svg xmlns=\"http://www.w3.org/2000/svg\" height=\"24px\"viewBox=\"0 0 24 24\"\n",
              "       width=\"24px\">\n",
              "    <path d=\"M0 0h24v24H0V0z\" fill=\"none\"/>\n",
              "    <path d=\"M18.56 5.44l.94 2.06.94-2.06 2.06-.94-2.06-.94-.94-2.06-.94 2.06-2.06.94zm-11 1L8.5 8.5l.94-2.06 2.06-.94-2.06-.94L8.5 2.5l-.94 2.06-2.06.94zm10 10l.94 2.06.94-2.06 2.06-.94-2.06-.94-.94-2.06-.94 2.06-2.06.94z\"/><path d=\"M17.41 7.96l-1.37-1.37c-.4-.4-.92-.59-1.43-.59-.52 0-1.04.2-1.43.59L10.3 9.45l-7.72 7.72c-.78.78-.78 2.05 0 2.83L4 21.41c.39.39.9.59 1.41.59.51 0 1.02-.2 1.41-.59l7.78-7.78 2.81-2.81c.8-.78.8-2.07 0-2.86zM5.41 20L4 18.59l7.72-7.72 1.47 1.35L5.41 20z\"/>\n",
              "  </svg>\n",
              "      </button>\n",
              "      \n",
              "  <style>\n",
              "    .colab-df-container {\n",
              "      display:flex;\n",
              "      flex-wrap:wrap;\n",
              "      gap: 12px;\n",
              "    }\n",
              "\n",
              "    .colab-df-convert {\n",
              "      background-color: #E8F0FE;\n",
              "      border: none;\n",
              "      border-radius: 50%;\n",
              "      cursor: pointer;\n",
              "      display: none;\n",
              "      fill: #1967D2;\n",
              "      height: 32px;\n",
              "      padding: 0 0 0 0;\n",
              "      width: 32px;\n",
              "    }\n",
              "\n",
              "    .colab-df-convert:hover {\n",
              "      background-color: #E2EBFA;\n",
              "      box-shadow: 0px 1px 2px rgba(60, 64, 67, 0.3), 0px 1px 3px 1px rgba(60, 64, 67, 0.15);\n",
              "      fill: #174EA6;\n",
              "    }\n",
              "\n",
              "    [theme=dark] .colab-df-convert {\n",
              "      background-color: #3B4455;\n",
              "      fill: #D2E3FC;\n",
              "    }\n",
              "\n",
              "    [theme=dark] .colab-df-convert:hover {\n",
              "      background-color: #434B5C;\n",
              "      box-shadow: 0px 1px 3px 1px rgba(0, 0, 0, 0.15);\n",
              "      filter: drop-shadow(0px 1px 2px rgba(0, 0, 0, 0.3));\n",
              "      fill: #FFFFFF;\n",
              "    }\n",
              "  </style>\n",
              "\n",
              "      <script>\n",
              "        const buttonEl =\n",
              "          document.querySelector('#df-de3db771-110d-4265-800b-c826a267a3fd button.colab-df-convert');\n",
              "        buttonEl.style.display =\n",
              "          google.colab.kernel.accessAllowed ? 'block' : 'none';\n",
              "\n",
              "        async function convertToInteractive(key) {\n",
              "          const element = document.querySelector('#df-de3db771-110d-4265-800b-c826a267a3fd');\n",
              "          const dataTable =\n",
              "            await google.colab.kernel.invokeFunction('convertToInteractive',\n",
              "                                                     [key], {});\n",
              "          if (!dataTable) return;\n",
              "\n",
              "          const docLinkHtml = 'Like what you see? Visit the ' +\n",
              "            '<a target=\"_blank\" href=https://colab.research.google.com/notebooks/data_table.ipynb>data table notebook</a>'\n",
              "            + ' to learn more about interactive tables.';\n",
              "          element.innerHTML = '';\n",
              "          dataTable['output_type'] = 'display_data';\n",
              "          await google.colab.output.renderOutput(dataTable, element);\n",
              "          const docLink = document.createElement('div');\n",
              "          docLink.innerHTML = docLinkHtml;\n",
              "          element.appendChild(docLink);\n",
              "        }\n",
              "      </script>\n",
              "    </div>\n",
              "  </div>\n",
              "  "
            ]
          },
          "metadata": {},
          "execution_count": 134
        }
      ]
    },
    {
      "cell_type": "code",
      "source": [
        "li=[['sohan',34],['mohan',23],['rohan',12]]\n",
        "df=pd.DataFrame(li,columns=['name','age'])\n",
        "df"
      ],
      "metadata": {
        "colab": {
          "base_uri": "https://localhost:8080/",
          "height": 143
        },
        "id": "6ZTjSoTXfD0y",
        "outputId": "c58eafeb-ce20-48f8-a285-aa032d8d95ed"
      },
      "execution_count": null,
      "outputs": [
        {
          "output_type": "execute_result",
          "data": {
            "text/plain": [
              "    name  age\n",
              "0  sohan   34\n",
              "1  mohan   23\n",
              "2  rohan   12"
            ],
            "text/html": [
              "\n",
              "  <div id=\"df-da970747-338b-4015-a03b-30213be36535\">\n",
              "    <div class=\"colab-df-container\">\n",
              "      <div>\n",
              "<style scoped>\n",
              "    .dataframe tbody tr th:only-of-type {\n",
              "        vertical-align: middle;\n",
              "    }\n",
              "\n",
              "    .dataframe tbody tr th {\n",
              "        vertical-align: top;\n",
              "    }\n",
              "\n",
              "    .dataframe thead th {\n",
              "        text-align: right;\n",
              "    }\n",
              "</style>\n",
              "<table border=\"1\" class=\"dataframe\">\n",
              "  <thead>\n",
              "    <tr style=\"text-align: right;\">\n",
              "      <th></th>\n",
              "      <th>name</th>\n",
              "      <th>age</th>\n",
              "    </tr>\n",
              "  </thead>\n",
              "  <tbody>\n",
              "    <tr>\n",
              "      <th>0</th>\n",
              "      <td>sohan</td>\n",
              "      <td>34</td>\n",
              "    </tr>\n",
              "    <tr>\n",
              "      <th>1</th>\n",
              "      <td>mohan</td>\n",
              "      <td>23</td>\n",
              "    </tr>\n",
              "    <tr>\n",
              "      <th>2</th>\n",
              "      <td>rohan</td>\n",
              "      <td>12</td>\n",
              "    </tr>\n",
              "  </tbody>\n",
              "</table>\n",
              "</div>\n",
              "      <button class=\"colab-df-convert\" onclick=\"convertToInteractive('df-da970747-338b-4015-a03b-30213be36535')\"\n",
              "              title=\"Convert this dataframe to an interactive table.\"\n",
              "              style=\"display:none;\">\n",
              "        \n",
              "  <svg xmlns=\"http://www.w3.org/2000/svg\" height=\"24px\"viewBox=\"0 0 24 24\"\n",
              "       width=\"24px\">\n",
              "    <path d=\"M0 0h24v24H0V0z\" fill=\"none\"/>\n",
              "    <path d=\"M18.56 5.44l.94 2.06.94-2.06 2.06-.94-2.06-.94-.94-2.06-.94 2.06-2.06.94zm-11 1L8.5 8.5l.94-2.06 2.06-.94-2.06-.94L8.5 2.5l-.94 2.06-2.06.94zm10 10l.94 2.06.94-2.06 2.06-.94-2.06-.94-.94-2.06-.94 2.06-2.06.94z\"/><path d=\"M17.41 7.96l-1.37-1.37c-.4-.4-.92-.59-1.43-.59-.52 0-1.04.2-1.43.59L10.3 9.45l-7.72 7.72c-.78.78-.78 2.05 0 2.83L4 21.41c.39.39.9.59 1.41.59.51 0 1.02-.2 1.41-.59l7.78-7.78 2.81-2.81c.8-.78.8-2.07 0-2.86zM5.41 20L4 18.59l7.72-7.72 1.47 1.35L5.41 20z\"/>\n",
              "  </svg>\n",
              "      </button>\n",
              "      \n",
              "  <style>\n",
              "    .colab-df-container {\n",
              "      display:flex;\n",
              "      flex-wrap:wrap;\n",
              "      gap: 12px;\n",
              "    }\n",
              "\n",
              "    .colab-df-convert {\n",
              "      background-color: #E8F0FE;\n",
              "      border: none;\n",
              "      border-radius: 50%;\n",
              "      cursor: pointer;\n",
              "      display: none;\n",
              "      fill: #1967D2;\n",
              "      height: 32px;\n",
              "      padding: 0 0 0 0;\n",
              "      width: 32px;\n",
              "    }\n",
              "\n",
              "    .colab-df-convert:hover {\n",
              "      background-color: #E2EBFA;\n",
              "      box-shadow: 0px 1px 2px rgba(60, 64, 67, 0.3), 0px 1px 3px 1px rgba(60, 64, 67, 0.15);\n",
              "      fill: #174EA6;\n",
              "    }\n",
              "\n",
              "    [theme=dark] .colab-df-convert {\n",
              "      background-color: #3B4455;\n",
              "      fill: #D2E3FC;\n",
              "    }\n",
              "\n",
              "    [theme=dark] .colab-df-convert:hover {\n",
              "      background-color: #434B5C;\n",
              "      box-shadow: 0px 1px 3px 1px rgba(0, 0, 0, 0.15);\n",
              "      filter: drop-shadow(0px 1px 2px rgba(0, 0, 0, 0.3));\n",
              "      fill: #FFFFFF;\n",
              "    }\n",
              "  </style>\n",
              "\n",
              "      <script>\n",
              "        const buttonEl =\n",
              "          document.querySelector('#df-da970747-338b-4015-a03b-30213be36535 button.colab-df-convert');\n",
              "        buttonEl.style.display =\n",
              "          google.colab.kernel.accessAllowed ? 'block' : 'none';\n",
              "\n",
              "        async function convertToInteractive(key) {\n",
              "          const element = document.querySelector('#df-da970747-338b-4015-a03b-30213be36535');\n",
              "          const dataTable =\n",
              "            await google.colab.kernel.invokeFunction('convertToInteractive',\n",
              "                                                     [key], {});\n",
              "          if (!dataTable) return;\n",
              "\n",
              "          const docLinkHtml = 'Like what you see? Visit the ' +\n",
              "            '<a target=\"_blank\" href=https://colab.research.google.com/notebooks/data_table.ipynb>data table notebook</a>'\n",
              "            + ' to learn more about interactive tables.';\n",
              "          element.innerHTML = '';\n",
              "          dataTable['output_type'] = 'display_data';\n",
              "          await google.colab.output.renderOutput(dataTable, element);\n",
              "          const docLink = document.createElement('div');\n",
              "          docLink.innerHTML = docLinkHtml;\n",
              "          element.appendChild(docLink);\n",
              "        }\n",
              "      </script>\n",
              "    </div>\n",
              "  </div>\n",
              "  "
            ]
          },
          "metadata": {},
          "execution_count": 137
        }
      ]
    },
    {
      "cell_type": "code",
      "source": [
        "from google.colab import files\n",
        "uploaded=files.upload()"
      ],
      "metadata": {
        "colab": {
          "resources": {
            "http://localhost:8080/nbextensions/google.colab/files.js": {
              "data": "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",
              "ok": true,
              "headers": [
                [
                  "content-type",
                  "application/javascript"
                ]
              ],
              "status": 200,
              "status_text": ""
            }
          },
          "base_uri": "https://localhost:8080/",
          "height": 74
        },
        "id": "bEckZwxAf76d",
        "outputId": "be26a591-8eb9-4d80-dc2e-e08bc9f72153"
      },
      "execution_count": null,
      "outputs": [
        {
          "output_type": "display_data",
          "data": {
            "text/plain": [
              "<IPython.core.display.HTML object>"
            ],
            "text/html": [
              "\n",
              "     <input type=\"file\" id=\"files-d02272f5-1a9a-4ecf-8926-08c2e4224030\" name=\"files[]\" multiple disabled\n",
              "        style=\"border:none\" />\n",
              "     <output id=\"result-d02272f5-1a9a-4ecf-8926-08c2e4224030\">\n",
              "      Upload widget is only available when the cell has been executed in the\n",
              "      current browser session. Please rerun this cell to enable.\n",
              "      </output>\n",
              "      <script src=\"/nbextensions/google.colab/files.js\"></script> "
            ]
          },
          "metadata": {}
        },
        {
          "output_type": "stream",
          "name": "stdout",
          "text": [
            "Saving play_tennis.xlsx to play_tennis.xlsx\n"
          ]
        }
      ]
    },
    {
      "cell_type": "code",
      "source": [
        "df=pd.read_excel(uploaded['play_tennis.xlsx'])\n",
        "df.shape"
      ],
      "metadata": {
        "colab": {
          "base_uri": "https://localhost:8080/"
        },
        "id": "OHznuytogP4T",
        "outputId": "fe240640-dfaa-4e53-c8f4-a8853cb995c3"
      },
      "execution_count": null,
      "outputs": [
        {
          "output_type": "execute_result",
          "data": {
            "text/plain": [
              "(14, 6)"
            ]
          },
          "metadata": {},
          "execution_count": 7
        }
      ]
    },
    {
      "cell_type": "code",
      "source": [
        "df.loc[0]"
      ],
      "metadata": {
        "colab": {
          "base_uri": "https://localhost:8080/"
        },
        "id": "S6jXYMxUgc-W",
        "outputId": "a5d58cdd-0c9c-41bf-e54b-44c48b93a024"
      },
      "execution_count": null,
      "outputs": [
        {
          "output_type": "execute_result",
          "data": {
            "text/plain": [
              "day            D1\n",
              "outlook     Sunny\n",
              "temp          Hot\n",
              "humidity     High\n",
              "wind         Weak\n",
              "play           No\n",
              "Name: 0, dtype: object"
            ]
          },
          "metadata": {},
          "execution_count": 9
        }
      ]
    },
    {
      "cell_type": "code",
      "source": [
        "df.loc[0,'wind']"
      ],
      "metadata": {
        "colab": {
          "base_uri": "https://localhost:8080/",
          "height": 35
        },
        "id": "3-sHR3KugqTw",
        "outputId": "37855598-cffd-447b-eb62-1b0ecf9f1a7d"
      },
      "execution_count": null,
      "outputs": [
        {
          "output_type": "execute_result",
          "data": {
            "text/plain": [
              "'Weak'"
            ],
            "application/vnd.google.colaboratory.intrinsic+json": {
              "type": "string"
            }
          },
          "metadata": {},
          "execution_count": 14
        }
      ]
    },
    {
      "cell_type": "code",
      "source": [
        "df.loc[0:10,'wind']"
      ],
      "metadata": {
        "colab": {
          "base_uri": "https://localhost:8080/"
        },
        "id": "qzxdCDKehDQh",
        "outputId": "f68453e5-9199-48bd-97ac-1f3fc591e7e4"
      },
      "execution_count": null,
      "outputs": [
        {
          "output_type": "execute_result",
          "data": {
            "text/plain": [
              "0       Weak\n",
              "1     Strong\n",
              "2       Weak\n",
              "3       Weak\n",
              "4       Weak\n",
              "5     Strong\n",
              "6     Strong\n",
              "7       Weak\n",
              "8       Weak\n",
              "9       Weak\n",
              "10    Strong\n",
              "Name: wind, dtype: object"
            ]
          },
          "metadata": {},
          "execution_count": 16
        }
      ]
    },
    {
      "cell_type": "code",
      "source": [
        "df.loc[0:5,('wind','humidity')]"
      ],
      "metadata": {
        "colab": {
          "base_uri": "https://localhost:8080/",
          "height": 237
        },
        "id": "9UY87KA_hKai",
        "outputId": "c95c1df6-a0d1-4901-89c8-b73b7505b90a"
      },
      "execution_count": null,
      "outputs": [
        {
          "output_type": "execute_result",
          "data": {
            "text/plain": [
              "     wind humidity\n",
              "0    Weak     High\n",
              "1  Strong     High\n",
              "2    Weak     High\n",
              "3    Weak     High\n",
              "4    Weak   Normal\n",
              "5  Strong   Normal"
            ],
            "text/html": [
              "\n",
              "  <div id=\"df-059b9da6-6a9e-44d1-9e55-b289c075791a\">\n",
              "    <div class=\"colab-df-container\">\n",
              "      <div>\n",
              "<style scoped>\n",
              "    .dataframe tbody tr th:only-of-type {\n",
              "        vertical-align: middle;\n",
              "    }\n",
              "\n",
              "    .dataframe tbody tr th {\n",
              "        vertical-align: top;\n",
              "    }\n",
              "\n",
              "    .dataframe thead th {\n",
              "        text-align: right;\n",
              "    }\n",
              "</style>\n",
              "<table border=\"1\" class=\"dataframe\">\n",
              "  <thead>\n",
              "    <tr style=\"text-align: right;\">\n",
              "      <th></th>\n",
              "      <th>wind</th>\n",
              "      <th>humidity</th>\n",
              "    </tr>\n",
              "  </thead>\n",
              "  <tbody>\n",
              "    <tr>\n",
              "      <th>0</th>\n",
              "      <td>Weak</td>\n",
              "      <td>High</td>\n",
              "    </tr>\n",
              "    <tr>\n",
              "      <th>1</th>\n",
              "      <td>Strong</td>\n",
              "      <td>High</td>\n",
              "    </tr>\n",
              "    <tr>\n",
              "      <th>2</th>\n",
              "      <td>Weak</td>\n",
              "      <td>High</td>\n",
              "    </tr>\n",
              "    <tr>\n",
              "      <th>3</th>\n",
              "      <td>Weak</td>\n",
              "      <td>High</td>\n",
              "    </tr>\n",
              "    <tr>\n",
              "      <th>4</th>\n",
              "      <td>Weak</td>\n",
              "      <td>Normal</td>\n",
              "    </tr>\n",
              "    <tr>\n",
              "      <th>5</th>\n",
              "      <td>Strong</td>\n",
              "      <td>Normal</td>\n",
              "    </tr>\n",
              "  </tbody>\n",
              "</table>\n",
              "</div>\n",
              "      <button class=\"colab-df-convert\" onclick=\"convertToInteractive('df-059b9da6-6a9e-44d1-9e55-b289c075791a')\"\n",
              "              title=\"Convert this dataframe to an interactive table.\"\n",
              "              style=\"display:none;\">\n",
              "        \n",
              "  <svg xmlns=\"http://www.w3.org/2000/svg\" height=\"24px\"viewBox=\"0 0 24 24\"\n",
              "       width=\"24px\">\n",
              "    <path d=\"M0 0h24v24H0V0z\" fill=\"none\"/>\n",
              "    <path d=\"M18.56 5.44l.94 2.06.94-2.06 2.06-.94-2.06-.94-.94-2.06-.94 2.06-2.06.94zm-11 1L8.5 8.5l.94-2.06 2.06-.94-2.06-.94L8.5 2.5l-.94 2.06-2.06.94zm10 10l.94 2.06.94-2.06 2.06-.94-2.06-.94-.94-2.06-.94 2.06-2.06.94z\"/><path d=\"M17.41 7.96l-1.37-1.37c-.4-.4-.92-.59-1.43-.59-.52 0-1.04.2-1.43.59L10.3 9.45l-7.72 7.72c-.78.78-.78 2.05 0 2.83L4 21.41c.39.39.9.59 1.41.59.51 0 1.02-.2 1.41-.59l7.78-7.78 2.81-2.81c.8-.78.8-2.07 0-2.86zM5.41 20L4 18.59l7.72-7.72 1.47 1.35L5.41 20z\"/>\n",
              "  </svg>\n",
              "      </button>\n",
              "      \n",
              "  <style>\n",
              "    .colab-df-container {\n",
              "      display:flex;\n",
              "      flex-wrap:wrap;\n",
              "      gap: 12px;\n",
              "    }\n",
              "\n",
              "    .colab-df-convert {\n",
              "      background-color: #E8F0FE;\n",
              "      border: none;\n",
              "      border-radius: 50%;\n",
              "      cursor: pointer;\n",
              "      display: none;\n",
              "      fill: #1967D2;\n",
              "      height: 32px;\n",
              "      padding: 0 0 0 0;\n",
              "      width: 32px;\n",
              "    }\n",
              "\n",
              "    .colab-df-convert:hover {\n",
              "      background-color: #E2EBFA;\n",
              "      box-shadow: 0px 1px 2px rgba(60, 64, 67, 0.3), 0px 1px 3px 1px rgba(60, 64, 67, 0.15);\n",
              "      fill: #174EA6;\n",
              "    }\n",
              "\n",
              "    [theme=dark] .colab-df-convert {\n",
              "      background-color: #3B4455;\n",
              "      fill: #D2E3FC;\n",
              "    }\n",
              "\n",
              "    [theme=dark] .colab-df-convert:hover {\n",
              "      background-color: #434B5C;\n",
              "      box-shadow: 0px 1px 3px 1px rgba(0, 0, 0, 0.15);\n",
              "      filter: drop-shadow(0px 1px 2px rgba(0, 0, 0, 0.3));\n",
              "      fill: #FFFFFF;\n",
              "    }\n",
              "  </style>\n",
              "\n",
              "      <script>\n",
              "        const buttonEl =\n",
              "          document.querySelector('#df-059b9da6-6a9e-44d1-9e55-b289c075791a button.colab-df-convert');\n",
              "        buttonEl.style.display =\n",
              "          google.colab.kernel.accessAllowed ? 'block' : 'none';\n",
              "\n",
              "        async function convertToInteractive(key) {\n",
              "          const element = document.querySelector('#df-059b9da6-6a9e-44d1-9e55-b289c075791a');\n",
              "          const dataTable =\n",
              "            await google.colab.kernel.invokeFunction('convertToInteractive',\n",
              "                                                     [key], {});\n",
              "          if (!dataTable) return;\n",
              "\n",
              "          const docLinkHtml = 'Like what you see? Visit the ' +\n",
              "            '<a target=\"_blank\" href=https://colab.research.google.com/notebooks/data_table.ipynb>data table notebook</a>'\n",
              "            + ' to learn more about interactive tables.';\n",
              "          element.innerHTML = '';\n",
              "          dataTable['output_type'] = 'display_data';\n",
              "          await google.colab.output.renderOutput(dataTable, element);\n",
              "          const docLink = document.createElement('div');\n",
              "          docLink.innerHTML = docLinkHtml;\n",
              "          element.appendChild(docLink);\n",
              "        }\n",
              "      </script>\n",
              "    </div>\n",
              "  </div>\n",
              "  "
            ]
          },
          "metadata": {},
          "execution_count": 18
        }
      ]
    },
    {
      "cell_type": "code",
      "source": [
        "df.iloc[0:5,1:3]"
      ],
      "metadata": {
        "id": "qUDhVmxO59Ys",
        "colab": {
          "base_uri": "https://localhost:8080/",
          "height": 206
        },
        "outputId": "08590086-3354-4c4e-99fd-35decf89830d"
      },
      "execution_count": null,
      "outputs": [
        {
          "output_type": "execute_result",
          "data": {
            "text/plain": [
              "    outlook  temp\n",
              "0     Sunny   Hot\n",
              "1     Sunny   Hot\n",
              "2  Overcast   Hot\n",
              "3      Rain  Mild\n",
              "4      Rain  Cool"
            ],
            "text/html": [
              "\n",
              "  <div id=\"df-411ee8c1-0e87-4220-a686-ba6b2d6cf85b\">\n",
              "    <div class=\"colab-df-container\">\n",
              "      <div>\n",
              "<style scoped>\n",
              "    .dataframe tbody tr th:only-of-type {\n",
              "        vertical-align: middle;\n",
              "    }\n",
              "\n",
              "    .dataframe tbody tr th {\n",
              "        vertical-align: top;\n",
              "    }\n",
              "\n",
              "    .dataframe thead th {\n",
              "        text-align: right;\n",
              "    }\n",
              "</style>\n",
              "<table border=\"1\" class=\"dataframe\">\n",
              "  <thead>\n",
              "    <tr style=\"text-align: right;\">\n",
              "      <th></th>\n",
              "      <th>outlook</th>\n",
              "      <th>temp</th>\n",
              "    </tr>\n",
              "  </thead>\n",
              "  <tbody>\n",
              "    <tr>\n",
              "      <th>0</th>\n",
              "      <td>Sunny</td>\n",
              "      <td>Hot</td>\n",
              "    </tr>\n",
              "    <tr>\n",
              "      <th>1</th>\n",
              "      <td>Sunny</td>\n",
              "      <td>Hot</td>\n",
              "    </tr>\n",
              "    <tr>\n",
              "      <th>2</th>\n",
              "      <td>Overcast</td>\n",
              "      <td>Hot</td>\n",
              "    </tr>\n",
              "    <tr>\n",
              "      <th>3</th>\n",
              "      <td>Rain</td>\n",
              "      <td>Mild</td>\n",
              "    </tr>\n",
              "    <tr>\n",
              "      <th>4</th>\n",
              "      <td>Rain</td>\n",
              "      <td>Cool</td>\n",
              "    </tr>\n",
              "  </tbody>\n",
              "</table>\n",
              "</div>\n",
              "      <button class=\"colab-df-convert\" onclick=\"convertToInteractive('df-411ee8c1-0e87-4220-a686-ba6b2d6cf85b')\"\n",
              "              title=\"Convert this dataframe to an interactive table.\"\n",
              "              style=\"display:none;\">\n",
              "        \n",
              "  <svg xmlns=\"http://www.w3.org/2000/svg\" height=\"24px\"viewBox=\"0 0 24 24\"\n",
              "       width=\"24px\">\n",
              "    <path d=\"M0 0h24v24H0V0z\" fill=\"none\"/>\n",
              "    <path d=\"M18.56 5.44l.94 2.06.94-2.06 2.06-.94-2.06-.94-.94-2.06-.94 2.06-2.06.94zm-11 1L8.5 8.5l.94-2.06 2.06-.94-2.06-.94L8.5 2.5l-.94 2.06-2.06.94zm10 10l.94 2.06.94-2.06 2.06-.94-2.06-.94-.94-2.06-.94 2.06-2.06.94z\"/><path d=\"M17.41 7.96l-1.37-1.37c-.4-.4-.92-.59-1.43-.59-.52 0-1.04.2-1.43.59L10.3 9.45l-7.72 7.72c-.78.78-.78 2.05 0 2.83L4 21.41c.39.39.9.59 1.41.59.51 0 1.02-.2 1.41-.59l7.78-7.78 2.81-2.81c.8-.78.8-2.07 0-2.86zM5.41 20L4 18.59l7.72-7.72 1.47 1.35L5.41 20z\"/>\n",
              "  </svg>\n",
              "      </button>\n",
              "      \n",
              "  <style>\n",
              "    .colab-df-container {\n",
              "      display:flex;\n",
              "      flex-wrap:wrap;\n",
              "      gap: 12px;\n",
              "    }\n",
              "\n",
              "    .colab-df-convert {\n",
              "      background-color: #E8F0FE;\n",
              "      border: none;\n",
              "      border-radius: 50%;\n",
              "      cursor: pointer;\n",
              "      display: none;\n",
              "      fill: #1967D2;\n",
              "      height: 32px;\n",
              "      padding: 0 0 0 0;\n",
              "      width: 32px;\n",
              "    }\n",
              "\n",
              "    .colab-df-convert:hover {\n",
              "      background-color: #E2EBFA;\n",
              "      box-shadow: 0px 1px 2px rgba(60, 64, 67, 0.3), 0px 1px 3px 1px rgba(60, 64, 67, 0.15);\n",
              "      fill: #174EA6;\n",
              "    }\n",
              "\n",
              "    [theme=dark] .colab-df-convert {\n",
              "      background-color: #3B4455;\n",
              "      fill: #D2E3FC;\n",
              "    }\n",
              "\n",
              "    [theme=dark] .colab-df-convert:hover {\n",
              "      background-color: #434B5C;\n",
              "      box-shadow: 0px 1px 3px 1px rgba(0, 0, 0, 0.15);\n",
              "      filter: drop-shadow(0px 1px 2px rgba(0, 0, 0, 0.3));\n",
              "      fill: #FFFFFF;\n",
              "    }\n",
              "  </style>\n",
              "\n",
              "      <script>\n",
              "        const buttonEl =\n",
              "          document.querySelector('#df-411ee8c1-0e87-4220-a686-ba6b2d6cf85b button.colab-df-convert');\n",
              "        buttonEl.style.display =\n",
              "          google.colab.kernel.accessAllowed ? 'block' : 'none';\n",
              "\n",
              "        async function convertToInteractive(key) {\n",
              "          const element = document.querySelector('#df-411ee8c1-0e87-4220-a686-ba6b2d6cf85b');\n",
              "          const dataTable =\n",
              "            await google.colab.kernel.invokeFunction('convertToInteractive',\n",
              "                                                     [key], {});\n",
              "          if (!dataTable) return;\n",
              "\n",
              "          const docLinkHtml = 'Like what you see? Visit the ' +\n",
              "            '<a target=\"_blank\" href=https://colab.research.google.com/notebooks/data_table.ipynb>data table notebook</a>'\n",
              "            + ' to learn more about interactive tables.';\n",
              "          element.innerHTML = '';\n",
              "          dataTable['output_type'] = 'display_data';\n",
              "          await google.colab.output.renderOutput(dataTable, element);\n",
              "          const docLink = document.createElement('div');\n",
              "          docLink.innerHTML = docLinkHtml;\n",
              "          element.appendChild(docLink);\n",
              "        }\n",
              "      </script>\n",
              "    </div>\n",
              "  </div>\n",
              "  "
            ]
          },
          "metadata": {},
          "execution_count": 9
        }
      ]
    },
    {
      "cell_type": "code",
      "source": [
        "df.drop(columns=['day'])"
      ],
      "metadata": {
        "colab": {
          "base_uri": "https://localhost:8080/",
          "height": 488
        },
        "id": "YJ2uqqqyhSVx",
        "outputId": "e5315714-285b-481f-bc89-8e4c160e8647"
      },
      "execution_count": null,
      "outputs": [
        {
          "output_type": "execute_result",
          "data": {
            "text/plain": [
              "     outlook  temp humidity    wind play\n",
              "0      Sunny   Hot     High    Weak   No\n",
              "1      Sunny   Hot     High  Strong   No\n",
              "2   Overcast   Hot     High    Weak  Yes\n",
              "3       Rain  Mild     High    Weak  Yes\n",
              "4       Rain  Cool   Normal    Weak  Yes\n",
              "5       Rain  Cool   Normal  Strong   No\n",
              "6   Overcast  Cool   Normal  Strong  Yes\n",
              "7      Sunny  Mild     High    Weak   No\n",
              "8      Sunny  Cool   Normal    Weak  Yes\n",
              "9       Rain  Mild   Normal    Weak  Yes\n",
              "10     Sunny  Mild   Normal  Strong  Yes\n",
              "11  Overcast  Mild     High  Strong  Yes\n",
              "12  Overcast   Hot   Normal    Weak  Yes\n",
              "13      Rain  Mild     High  Strong   No"
            ],
            "text/html": [
              "\n",
              "  <div id=\"df-ce4092e0-8e99-40fe-9166-da576d189670\">\n",
              "    <div class=\"colab-df-container\">\n",
              "      <div>\n",
              "<style scoped>\n",
              "    .dataframe tbody tr th:only-of-type {\n",
              "        vertical-align: middle;\n",
              "    }\n",
              "\n",
              "    .dataframe tbody tr th {\n",
              "        vertical-align: top;\n",
              "    }\n",
              "\n",
              "    .dataframe thead th {\n",
              "        text-align: right;\n",
              "    }\n",
              "</style>\n",
              "<table border=\"1\" class=\"dataframe\">\n",
              "  <thead>\n",
              "    <tr style=\"text-align: right;\">\n",
              "      <th></th>\n",
              "      <th>outlook</th>\n",
              "      <th>temp</th>\n",
              "      <th>humidity</th>\n",
              "      <th>wind</th>\n",
              "      <th>play</th>\n",
              "    </tr>\n",
              "  </thead>\n",
              "  <tbody>\n",
              "    <tr>\n",
              "      <th>0</th>\n",
              "      <td>Sunny</td>\n",
              "      <td>Hot</td>\n",
              "      <td>High</td>\n",
              "      <td>Weak</td>\n",
              "      <td>No</td>\n",
              "    </tr>\n",
              "    <tr>\n",
              "      <th>1</th>\n",
              "      <td>Sunny</td>\n",
              "      <td>Hot</td>\n",
              "      <td>High</td>\n",
              "      <td>Strong</td>\n",
              "      <td>No</td>\n",
              "    </tr>\n",
              "    <tr>\n",
              "      <th>2</th>\n",
              "      <td>Overcast</td>\n",
              "      <td>Hot</td>\n",
              "      <td>High</td>\n",
              "      <td>Weak</td>\n",
              "      <td>Yes</td>\n",
              "    </tr>\n",
              "    <tr>\n",
              "      <th>3</th>\n",
              "      <td>Rain</td>\n",
              "      <td>Mild</td>\n",
              "      <td>High</td>\n",
              "      <td>Weak</td>\n",
              "      <td>Yes</td>\n",
              "    </tr>\n",
              "    <tr>\n",
              "      <th>4</th>\n",
              "      <td>Rain</td>\n",
              "      <td>Cool</td>\n",
              "      <td>Normal</td>\n",
              "      <td>Weak</td>\n",
              "      <td>Yes</td>\n",
              "    </tr>\n",
              "    <tr>\n",
              "      <th>5</th>\n",
              "      <td>Rain</td>\n",
              "      <td>Cool</td>\n",
              "      <td>Normal</td>\n",
              "      <td>Strong</td>\n",
              "      <td>No</td>\n",
              "    </tr>\n",
              "    <tr>\n",
              "      <th>6</th>\n",
              "      <td>Overcast</td>\n",
              "      <td>Cool</td>\n",
              "      <td>Normal</td>\n",
              "      <td>Strong</td>\n",
              "      <td>Yes</td>\n",
              "    </tr>\n",
              "    <tr>\n",
              "      <th>7</th>\n",
              "      <td>Sunny</td>\n",
              "      <td>Mild</td>\n",
              "      <td>High</td>\n",
              "      <td>Weak</td>\n",
              "      <td>No</td>\n",
              "    </tr>\n",
              "    <tr>\n",
              "      <th>8</th>\n",
              "      <td>Sunny</td>\n",
              "      <td>Cool</td>\n",
              "      <td>Normal</td>\n",
              "      <td>Weak</td>\n",
              "      <td>Yes</td>\n",
              "    </tr>\n",
              "    <tr>\n",
              "      <th>9</th>\n",
              "      <td>Rain</td>\n",
              "      <td>Mild</td>\n",
              "      <td>Normal</td>\n",
              "      <td>Weak</td>\n",
              "      <td>Yes</td>\n",
              "    </tr>\n",
              "    <tr>\n",
              "      <th>10</th>\n",
              "      <td>Sunny</td>\n",
              "      <td>Mild</td>\n",
              "      <td>Normal</td>\n",
              "      <td>Strong</td>\n",
              "      <td>Yes</td>\n",
              "    </tr>\n",
              "    <tr>\n",
              "      <th>11</th>\n",
              "      <td>Overcast</td>\n",
              "      <td>Mild</td>\n",
              "      <td>High</td>\n",
              "      <td>Strong</td>\n",
              "      <td>Yes</td>\n",
              "    </tr>\n",
              "    <tr>\n",
              "      <th>12</th>\n",
              "      <td>Overcast</td>\n",
              "      <td>Hot</td>\n",
              "      <td>Normal</td>\n",
              "      <td>Weak</td>\n",
              "      <td>Yes</td>\n",
              "    </tr>\n",
              "    <tr>\n",
              "      <th>13</th>\n",
              "      <td>Rain</td>\n",
              "      <td>Mild</td>\n",
              "      <td>High</td>\n",
              "      <td>Strong</td>\n",
              "      <td>No</td>\n",
              "    </tr>\n",
              "  </tbody>\n",
              "</table>\n",
              "</div>\n",
              "      <button class=\"colab-df-convert\" onclick=\"convertToInteractive('df-ce4092e0-8e99-40fe-9166-da576d189670')\"\n",
              "              title=\"Convert this dataframe to an interactive table.\"\n",
              "              style=\"display:none;\">\n",
              "        \n",
              "  <svg xmlns=\"http://www.w3.org/2000/svg\" height=\"24px\"viewBox=\"0 0 24 24\"\n",
              "       width=\"24px\">\n",
              "    <path d=\"M0 0h24v24H0V0z\" fill=\"none\"/>\n",
              "    <path d=\"M18.56 5.44l.94 2.06.94-2.06 2.06-.94-2.06-.94-.94-2.06-.94 2.06-2.06.94zm-11 1L8.5 8.5l.94-2.06 2.06-.94-2.06-.94L8.5 2.5l-.94 2.06-2.06.94zm10 10l.94 2.06.94-2.06 2.06-.94-2.06-.94-.94-2.06-.94 2.06-2.06.94z\"/><path d=\"M17.41 7.96l-1.37-1.37c-.4-.4-.92-.59-1.43-.59-.52 0-1.04.2-1.43.59L10.3 9.45l-7.72 7.72c-.78.78-.78 2.05 0 2.83L4 21.41c.39.39.9.59 1.41.59.51 0 1.02-.2 1.41-.59l7.78-7.78 2.81-2.81c.8-.78.8-2.07 0-2.86zM5.41 20L4 18.59l7.72-7.72 1.47 1.35L5.41 20z\"/>\n",
              "  </svg>\n",
              "      </button>\n",
              "      \n",
              "  <style>\n",
              "    .colab-df-container {\n",
              "      display:flex;\n",
              "      flex-wrap:wrap;\n",
              "      gap: 12px;\n",
              "    }\n",
              "\n",
              "    .colab-df-convert {\n",
              "      background-color: #E8F0FE;\n",
              "      border: none;\n",
              "      border-radius: 50%;\n",
              "      cursor: pointer;\n",
              "      display: none;\n",
              "      fill: #1967D2;\n",
              "      height: 32px;\n",
              "      padding: 0 0 0 0;\n",
              "      width: 32px;\n",
              "    }\n",
              "\n",
              "    .colab-df-convert:hover {\n",
              "      background-color: #E2EBFA;\n",
              "      box-shadow: 0px 1px 2px rgba(60, 64, 67, 0.3), 0px 1px 3px 1px rgba(60, 64, 67, 0.15);\n",
              "      fill: #174EA6;\n",
              "    }\n",
              "\n",
              "    [theme=dark] .colab-df-convert {\n",
              "      background-color: #3B4455;\n",
              "      fill: #D2E3FC;\n",
              "    }\n",
              "\n",
              "    [theme=dark] .colab-df-convert:hover {\n",
              "      background-color: #434B5C;\n",
              "      box-shadow: 0px 1px 3px 1px rgba(0, 0, 0, 0.15);\n",
              "      filter: drop-shadow(0px 1px 2px rgba(0, 0, 0, 0.3));\n",
              "      fill: #FFFFFF;\n",
              "    }\n",
              "  </style>\n",
              "\n",
              "      <script>\n",
              "        const buttonEl =\n",
              "          document.querySelector('#df-ce4092e0-8e99-40fe-9166-da576d189670 button.colab-df-convert');\n",
              "        buttonEl.style.display =\n",
              "          google.colab.kernel.accessAllowed ? 'block' : 'none';\n",
              "\n",
              "        async function convertToInteractive(key) {\n",
              "          const element = document.querySelector('#df-ce4092e0-8e99-40fe-9166-da576d189670');\n",
              "          const dataTable =\n",
              "            await google.colab.kernel.invokeFunction('convertToInteractive',\n",
              "                                                     [key], {});\n",
              "          if (!dataTable) return;\n",
              "\n",
              "          const docLinkHtml = 'Like what you see? Visit the ' +\n",
              "            '<a target=\"_blank\" href=https://colab.research.google.com/notebooks/data_table.ipynb>data table notebook</a>'\n",
              "            + ' to learn more about interactive tables.';\n",
              "          element.innerHTML = '';\n",
              "          dataTable['output_type'] = 'display_data';\n",
              "          await google.colab.output.renderOutput(dataTable, element);\n",
              "          const docLink = document.createElement('div');\n",
              "          docLink.innerHTML = docLinkHtml;\n",
              "          element.appendChild(docLink);\n",
              "        }\n",
              "      </script>\n",
              "    </div>\n",
              "  </div>\n",
              "  "
            ]
          },
          "metadata": {},
          "execution_count": 20
        }
      ]
    },
    {
      "cell_type": "code",
      "source": [
        "df.drop(columns=['day'])\n",
        "df"
      ],
      "metadata": {
        "colab": {
          "base_uri": "https://localhost:8080/",
          "height": 488
        },
        "id": "Kiq8KKqZhnvS",
        "outputId": "65fb0233-d4d0-4852-d7ad-529e2b9f1227"
      },
      "execution_count": null,
      "outputs": [
        {
          "output_type": "execute_result",
          "data": {
            "text/plain": [
              "    day   outlook  temp humidity    wind play\n",
              "0    D1     Sunny   Hot     High    Weak   No\n",
              "1    D2     Sunny   Hot     High  Strong   No\n",
              "2    D3  Overcast   Hot     High    Weak  Yes\n",
              "3    D4      Rain  Mild     High    Weak  Yes\n",
              "4    D5      Rain  Cool   Normal    Weak  Yes\n",
              "5    D6      Rain  Cool   Normal  Strong   No\n",
              "6    D7  Overcast  Cool   Normal  Strong  Yes\n",
              "7    D8     Sunny  Mild     High    Weak   No\n",
              "8    D9     Sunny  Cool   Normal    Weak  Yes\n",
              "9   D10      Rain  Mild   Normal    Weak  Yes\n",
              "10  D11     Sunny  Mild   Normal  Strong  Yes\n",
              "11  D12  Overcast  Mild     High  Strong  Yes\n",
              "12  D13  Overcast   Hot   Normal    Weak  Yes\n",
              "13  D14      Rain  Mild     High  Strong   No"
            ],
            "text/html": [
              "\n",
              "  <div id=\"df-bbfefa61-504b-4150-831a-7bea62127c40\">\n",
              "    <div class=\"colab-df-container\">\n",
              "      <div>\n",
              "<style scoped>\n",
              "    .dataframe tbody tr th:only-of-type {\n",
              "        vertical-align: middle;\n",
              "    }\n",
              "\n",
              "    .dataframe tbody tr th {\n",
              "        vertical-align: top;\n",
              "    }\n",
              "\n",
              "    .dataframe thead th {\n",
              "        text-align: right;\n",
              "    }\n",
              "</style>\n",
              "<table border=\"1\" class=\"dataframe\">\n",
              "  <thead>\n",
              "    <tr style=\"text-align: right;\">\n",
              "      <th></th>\n",
              "      <th>day</th>\n",
              "      <th>outlook</th>\n",
              "      <th>temp</th>\n",
              "      <th>humidity</th>\n",
              "      <th>wind</th>\n",
              "      <th>play</th>\n",
              "    </tr>\n",
              "  </thead>\n",
              "  <tbody>\n",
              "    <tr>\n",
              "      <th>0</th>\n",
              "      <td>D1</td>\n",
              "      <td>Sunny</td>\n",
              "      <td>Hot</td>\n",
              "      <td>High</td>\n",
              "      <td>Weak</td>\n",
              "      <td>No</td>\n",
              "    </tr>\n",
              "    <tr>\n",
              "      <th>1</th>\n",
              "      <td>D2</td>\n",
              "      <td>Sunny</td>\n",
              "      <td>Hot</td>\n",
              "      <td>High</td>\n",
              "      <td>Strong</td>\n",
              "      <td>No</td>\n",
              "    </tr>\n",
              "    <tr>\n",
              "      <th>2</th>\n",
              "      <td>D3</td>\n",
              "      <td>Overcast</td>\n",
              "      <td>Hot</td>\n",
              "      <td>High</td>\n",
              "      <td>Weak</td>\n",
              "      <td>Yes</td>\n",
              "    </tr>\n",
              "    <tr>\n",
              "      <th>3</th>\n",
              "      <td>D4</td>\n",
              "      <td>Rain</td>\n",
              "      <td>Mild</td>\n",
              "      <td>High</td>\n",
              "      <td>Weak</td>\n",
              "      <td>Yes</td>\n",
              "    </tr>\n",
              "    <tr>\n",
              "      <th>4</th>\n",
              "      <td>D5</td>\n",
              "      <td>Rain</td>\n",
              "      <td>Cool</td>\n",
              "      <td>Normal</td>\n",
              "      <td>Weak</td>\n",
              "      <td>Yes</td>\n",
              "    </tr>\n",
              "    <tr>\n",
              "      <th>5</th>\n",
              "      <td>D6</td>\n",
              "      <td>Rain</td>\n",
              "      <td>Cool</td>\n",
              "      <td>Normal</td>\n",
              "      <td>Strong</td>\n",
              "      <td>No</td>\n",
              "    </tr>\n",
              "    <tr>\n",
              "      <th>6</th>\n",
              "      <td>D7</td>\n",
              "      <td>Overcast</td>\n",
              "      <td>Cool</td>\n",
              "      <td>Normal</td>\n",
              "      <td>Strong</td>\n",
              "      <td>Yes</td>\n",
              "    </tr>\n",
              "    <tr>\n",
              "      <th>7</th>\n",
              "      <td>D8</td>\n",
              "      <td>Sunny</td>\n",
              "      <td>Mild</td>\n",
              "      <td>High</td>\n",
              "      <td>Weak</td>\n",
              "      <td>No</td>\n",
              "    </tr>\n",
              "    <tr>\n",
              "      <th>8</th>\n",
              "      <td>D9</td>\n",
              "      <td>Sunny</td>\n",
              "      <td>Cool</td>\n",
              "      <td>Normal</td>\n",
              "      <td>Weak</td>\n",
              "      <td>Yes</td>\n",
              "    </tr>\n",
              "    <tr>\n",
              "      <th>9</th>\n",
              "      <td>D10</td>\n",
              "      <td>Rain</td>\n",
              "      <td>Mild</td>\n",
              "      <td>Normal</td>\n",
              "      <td>Weak</td>\n",
              "      <td>Yes</td>\n",
              "    </tr>\n",
              "    <tr>\n",
              "      <th>10</th>\n",
              "      <td>D11</td>\n",
              "      <td>Sunny</td>\n",
              "      <td>Mild</td>\n",
              "      <td>Normal</td>\n",
              "      <td>Strong</td>\n",
              "      <td>Yes</td>\n",
              "    </tr>\n",
              "    <tr>\n",
              "      <th>11</th>\n",
              "      <td>D12</td>\n",
              "      <td>Overcast</td>\n",
              "      <td>Mild</td>\n",
              "      <td>High</td>\n",
              "      <td>Strong</td>\n",
              "      <td>Yes</td>\n",
              "    </tr>\n",
              "    <tr>\n",
              "      <th>12</th>\n",
              "      <td>D13</td>\n",
              "      <td>Overcast</td>\n",
              "      <td>Hot</td>\n",
              "      <td>Normal</td>\n",
              "      <td>Weak</td>\n",
              "      <td>Yes</td>\n",
              "    </tr>\n",
              "    <tr>\n",
              "      <th>13</th>\n",
              "      <td>D14</td>\n",
              "      <td>Rain</td>\n",
              "      <td>Mild</td>\n",
              "      <td>High</td>\n",
              "      <td>Strong</td>\n",
              "      <td>No</td>\n",
              "    </tr>\n",
              "  </tbody>\n",
              "</table>\n",
              "</div>\n",
              "      <button class=\"colab-df-convert\" onclick=\"convertToInteractive('df-bbfefa61-504b-4150-831a-7bea62127c40')\"\n",
              "              title=\"Convert this dataframe to an interactive table.\"\n",
              "              style=\"display:none;\">\n",
              "        \n",
              "  <svg xmlns=\"http://www.w3.org/2000/svg\" height=\"24px\"viewBox=\"0 0 24 24\"\n",
              "       width=\"24px\">\n",
              "    <path d=\"M0 0h24v24H0V0z\" fill=\"none\"/>\n",
              "    <path d=\"M18.56 5.44l.94 2.06.94-2.06 2.06-.94-2.06-.94-.94-2.06-.94 2.06-2.06.94zm-11 1L8.5 8.5l.94-2.06 2.06-.94-2.06-.94L8.5 2.5l-.94 2.06-2.06.94zm10 10l.94 2.06.94-2.06 2.06-.94-2.06-.94-.94-2.06-.94 2.06-2.06.94z\"/><path d=\"M17.41 7.96l-1.37-1.37c-.4-.4-.92-.59-1.43-.59-.52 0-1.04.2-1.43.59L10.3 9.45l-7.72 7.72c-.78.78-.78 2.05 0 2.83L4 21.41c.39.39.9.59 1.41.59.51 0 1.02-.2 1.41-.59l7.78-7.78 2.81-2.81c.8-.78.8-2.07 0-2.86zM5.41 20L4 18.59l7.72-7.72 1.47 1.35L5.41 20z\"/>\n",
              "  </svg>\n",
              "      </button>\n",
              "      \n",
              "  <style>\n",
              "    .colab-df-container {\n",
              "      display:flex;\n",
              "      flex-wrap:wrap;\n",
              "      gap: 12px;\n",
              "    }\n",
              "\n",
              "    .colab-df-convert {\n",
              "      background-color: #E8F0FE;\n",
              "      border: none;\n",
              "      border-radius: 50%;\n",
              "      cursor: pointer;\n",
              "      display: none;\n",
              "      fill: #1967D2;\n",
              "      height: 32px;\n",
              "      padding: 0 0 0 0;\n",
              "      width: 32px;\n",
              "    }\n",
              "\n",
              "    .colab-df-convert:hover {\n",
              "      background-color: #E2EBFA;\n",
              "      box-shadow: 0px 1px 2px rgba(60, 64, 67, 0.3), 0px 1px 3px 1px rgba(60, 64, 67, 0.15);\n",
              "      fill: #174EA6;\n",
              "    }\n",
              "\n",
              "    [theme=dark] .colab-df-convert {\n",
              "      background-color: #3B4455;\n",
              "      fill: #D2E3FC;\n",
              "    }\n",
              "\n",
              "    [theme=dark] .colab-df-convert:hover {\n",
              "      background-color: #434B5C;\n",
              "      box-shadow: 0px 1px 3px 1px rgba(0, 0, 0, 0.15);\n",
              "      filter: drop-shadow(0px 1px 2px rgba(0, 0, 0, 0.3));\n",
              "      fill: #FFFFFF;\n",
              "    }\n",
              "  </style>\n",
              "\n",
              "      <script>\n",
              "        const buttonEl =\n",
              "          document.querySelector('#df-bbfefa61-504b-4150-831a-7bea62127c40 button.colab-df-convert');\n",
              "        buttonEl.style.display =\n",
              "          google.colab.kernel.accessAllowed ? 'block' : 'none';\n",
              "\n",
              "        async function convertToInteractive(key) {\n",
              "          const element = document.querySelector('#df-bbfefa61-504b-4150-831a-7bea62127c40');\n",
              "          const dataTable =\n",
              "            await google.colab.kernel.invokeFunction('convertToInteractive',\n",
              "                                                     [key], {});\n",
              "          if (!dataTable) return;\n",
              "\n",
              "          const docLinkHtml = 'Like what you see? Visit the ' +\n",
              "            '<a target=\"_blank\" href=https://colab.research.google.com/notebooks/data_table.ipynb>data table notebook</a>'\n",
              "            + ' to learn more about interactive tables.';\n",
              "          element.innerHTML = '';\n",
              "          dataTable['output_type'] = 'display_data';\n",
              "          await google.colab.output.renderOutput(dataTable, element);\n",
              "          const docLink = document.createElement('div');\n",
              "          docLink.innerHTML = docLinkHtml;\n",
              "          element.appendChild(docLink);\n",
              "        }\n",
              "      </script>\n",
              "    </div>\n",
              "  </div>\n",
              "  "
            ]
          },
          "metadata": {},
          "execution_count": 21
        }
      ]
    },
    {
      "cell_type": "code",
      "source": [
        "df.drop(columns=['day'],inplace=True)\n",
        "df"
      ],
      "metadata": {
        "colab": {
          "base_uri": "https://localhost:8080/",
          "height": 488
        },
        "id": "z_foTc6yhqnq",
        "outputId": "58d5bd8d-5f02-4db9-a2af-f0f6f8679228"
      },
      "execution_count": null,
      "outputs": [
        {
          "output_type": "execute_result",
          "data": {
            "text/plain": [
              "     outlook  temp humidity    wind play\n",
              "0      Sunny   Hot     High    Weak   No\n",
              "1      Sunny   Hot     High  Strong   No\n",
              "2   Overcast   Hot     High    Weak  Yes\n",
              "3       Rain  Mild     High    Weak  Yes\n",
              "4       Rain  Cool   Normal    Weak  Yes\n",
              "5       Rain  Cool   Normal  Strong   No\n",
              "6   Overcast  Cool   Normal  Strong  Yes\n",
              "7      Sunny  Mild     High    Weak   No\n",
              "8      Sunny  Cool   Normal    Weak  Yes\n",
              "9       Rain  Mild   Normal    Weak  Yes\n",
              "10     Sunny  Mild   Normal  Strong  Yes\n",
              "11  Overcast  Mild     High  Strong  Yes\n",
              "12  Overcast   Hot   Normal    Weak  Yes\n",
              "13      Rain  Mild     High  Strong   No"
            ],
            "text/html": [
              "\n",
              "  <div id=\"df-d27c350b-ceee-4ca8-b420-4bb66d95724c\">\n",
              "    <div class=\"colab-df-container\">\n",
              "      <div>\n",
              "<style scoped>\n",
              "    .dataframe tbody tr th:only-of-type {\n",
              "        vertical-align: middle;\n",
              "    }\n",
              "\n",
              "    .dataframe tbody tr th {\n",
              "        vertical-align: top;\n",
              "    }\n",
              "\n",
              "    .dataframe thead th {\n",
              "        text-align: right;\n",
              "    }\n",
              "</style>\n",
              "<table border=\"1\" class=\"dataframe\">\n",
              "  <thead>\n",
              "    <tr style=\"text-align: right;\">\n",
              "      <th></th>\n",
              "      <th>outlook</th>\n",
              "      <th>temp</th>\n",
              "      <th>humidity</th>\n",
              "      <th>wind</th>\n",
              "      <th>play</th>\n",
              "    </tr>\n",
              "  </thead>\n",
              "  <tbody>\n",
              "    <tr>\n",
              "      <th>0</th>\n",
              "      <td>Sunny</td>\n",
              "      <td>Hot</td>\n",
              "      <td>High</td>\n",
              "      <td>Weak</td>\n",
              "      <td>No</td>\n",
              "    </tr>\n",
              "    <tr>\n",
              "      <th>1</th>\n",
              "      <td>Sunny</td>\n",
              "      <td>Hot</td>\n",
              "      <td>High</td>\n",
              "      <td>Strong</td>\n",
              "      <td>No</td>\n",
              "    </tr>\n",
              "    <tr>\n",
              "      <th>2</th>\n",
              "      <td>Overcast</td>\n",
              "      <td>Hot</td>\n",
              "      <td>High</td>\n",
              "      <td>Weak</td>\n",
              "      <td>Yes</td>\n",
              "    </tr>\n",
              "    <tr>\n",
              "      <th>3</th>\n",
              "      <td>Rain</td>\n",
              "      <td>Mild</td>\n",
              "      <td>High</td>\n",
              "      <td>Weak</td>\n",
              "      <td>Yes</td>\n",
              "    </tr>\n",
              "    <tr>\n",
              "      <th>4</th>\n",
              "      <td>Rain</td>\n",
              "      <td>Cool</td>\n",
              "      <td>Normal</td>\n",
              "      <td>Weak</td>\n",
              "      <td>Yes</td>\n",
              "    </tr>\n",
              "    <tr>\n",
              "      <th>5</th>\n",
              "      <td>Rain</td>\n",
              "      <td>Cool</td>\n",
              "      <td>Normal</td>\n",
              "      <td>Strong</td>\n",
              "      <td>No</td>\n",
              "    </tr>\n",
              "    <tr>\n",
              "      <th>6</th>\n",
              "      <td>Overcast</td>\n",
              "      <td>Cool</td>\n",
              "      <td>Normal</td>\n",
              "      <td>Strong</td>\n",
              "      <td>Yes</td>\n",
              "    </tr>\n",
              "    <tr>\n",
              "      <th>7</th>\n",
              "      <td>Sunny</td>\n",
              "      <td>Mild</td>\n",
              "      <td>High</td>\n",
              "      <td>Weak</td>\n",
              "      <td>No</td>\n",
              "    </tr>\n",
              "    <tr>\n",
              "      <th>8</th>\n",
              "      <td>Sunny</td>\n",
              "      <td>Cool</td>\n",
              "      <td>Normal</td>\n",
              "      <td>Weak</td>\n",
              "      <td>Yes</td>\n",
              "    </tr>\n",
              "    <tr>\n",
              "      <th>9</th>\n",
              "      <td>Rain</td>\n",
              "      <td>Mild</td>\n",
              "      <td>Normal</td>\n",
              "      <td>Weak</td>\n",
              "      <td>Yes</td>\n",
              "    </tr>\n",
              "    <tr>\n",
              "      <th>10</th>\n",
              "      <td>Sunny</td>\n",
              "      <td>Mild</td>\n",
              "      <td>Normal</td>\n",
              "      <td>Strong</td>\n",
              "      <td>Yes</td>\n",
              "    </tr>\n",
              "    <tr>\n",
              "      <th>11</th>\n",
              "      <td>Overcast</td>\n",
              "      <td>Mild</td>\n",
              "      <td>High</td>\n",
              "      <td>Strong</td>\n",
              "      <td>Yes</td>\n",
              "    </tr>\n",
              "    <tr>\n",
              "      <th>12</th>\n",
              "      <td>Overcast</td>\n",
              "      <td>Hot</td>\n",
              "      <td>Normal</td>\n",
              "      <td>Weak</td>\n",
              "      <td>Yes</td>\n",
              "    </tr>\n",
              "    <tr>\n",
              "      <th>13</th>\n",
              "      <td>Rain</td>\n",
              "      <td>Mild</td>\n",
              "      <td>High</td>\n",
              "      <td>Strong</td>\n",
              "      <td>No</td>\n",
              "    </tr>\n",
              "  </tbody>\n",
              "</table>\n",
              "</div>\n",
              "      <button class=\"colab-df-convert\" onclick=\"convertToInteractive('df-d27c350b-ceee-4ca8-b420-4bb66d95724c')\"\n",
              "              title=\"Convert this dataframe to an interactive table.\"\n",
              "              style=\"display:none;\">\n",
              "        \n",
              "  <svg xmlns=\"http://www.w3.org/2000/svg\" height=\"24px\"viewBox=\"0 0 24 24\"\n",
              "       width=\"24px\">\n",
              "    <path d=\"M0 0h24v24H0V0z\" fill=\"none\"/>\n",
              "    <path d=\"M18.56 5.44l.94 2.06.94-2.06 2.06-.94-2.06-.94-.94-2.06-.94 2.06-2.06.94zm-11 1L8.5 8.5l.94-2.06 2.06-.94-2.06-.94L8.5 2.5l-.94 2.06-2.06.94zm10 10l.94 2.06.94-2.06 2.06-.94-2.06-.94-.94-2.06-.94 2.06-2.06.94z\"/><path d=\"M17.41 7.96l-1.37-1.37c-.4-.4-.92-.59-1.43-.59-.52 0-1.04.2-1.43.59L10.3 9.45l-7.72 7.72c-.78.78-.78 2.05 0 2.83L4 21.41c.39.39.9.59 1.41.59.51 0 1.02-.2 1.41-.59l7.78-7.78 2.81-2.81c.8-.78.8-2.07 0-2.86zM5.41 20L4 18.59l7.72-7.72 1.47 1.35L5.41 20z\"/>\n",
              "  </svg>\n",
              "      </button>\n",
              "      \n",
              "  <style>\n",
              "    .colab-df-container {\n",
              "      display:flex;\n",
              "      flex-wrap:wrap;\n",
              "      gap: 12px;\n",
              "    }\n",
              "\n",
              "    .colab-df-convert {\n",
              "      background-color: #E8F0FE;\n",
              "      border: none;\n",
              "      border-radius: 50%;\n",
              "      cursor: pointer;\n",
              "      display: none;\n",
              "      fill: #1967D2;\n",
              "      height: 32px;\n",
              "      padding: 0 0 0 0;\n",
              "      width: 32px;\n",
              "    }\n",
              "\n",
              "    .colab-df-convert:hover {\n",
              "      background-color: #E2EBFA;\n",
              "      box-shadow: 0px 1px 2px rgba(60, 64, 67, 0.3), 0px 1px 3px 1px rgba(60, 64, 67, 0.15);\n",
              "      fill: #174EA6;\n",
              "    }\n",
              "\n",
              "    [theme=dark] .colab-df-convert {\n",
              "      background-color: #3B4455;\n",
              "      fill: #D2E3FC;\n",
              "    }\n",
              "\n",
              "    [theme=dark] .colab-df-convert:hover {\n",
              "      background-color: #434B5C;\n",
              "      box-shadow: 0px 1px 3px 1px rgba(0, 0, 0, 0.15);\n",
              "      filter: drop-shadow(0px 1px 2px rgba(0, 0, 0, 0.3));\n",
              "      fill: #FFFFFF;\n",
              "    }\n",
              "  </style>\n",
              "\n",
              "      <script>\n",
              "        const buttonEl =\n",
              "          document.querySelector('#df-d27c350b-ceee-4ca8-b420-4bb66d95724c button.colab-df-convert');\n",
              "        buttonEl.style.display =\n",
              "          google.colab.kernel.accessAllowed ? 'block' : 'none';\n",
              "\n",
              "        async function convertToInteractive(key) {\n",
              "          const element = document.querySelector('#df-d27c350b-ceee-4ca8-b420-4bb66d95724c');\n",
              "          const dataTable =\n",
              "            await google.colab.kernel.invokeFunction('convertToInteractive',\n",
              "                                                     [key], {});\n",
              "          if (!dataTable) return;\n",
              "\n",
              "          const docLinkHtml = 'Like what you see? Visit the ' +\n",
              "            '<a target=\"_blank\" href=https://colab.research.google.com/notebooks/data_table.ipynb>data table notebook</a>'\n",
              "            + ' to learn more about interactive tables.';\n",
              "          element.innerHTML = '';\n",
              "          dataTable['output_type'] = 'display_data';\n",
              "          await google.colab.output.renderOutput(dataTable, element);\n",
              "          const docLink = document.createElement('div');\n",
              "          docLink.innerHTML = docLinkHtml;\n",
              "          element.appendChild(docLink);\n",
              "        }\n",
              "      </script>\n",
              "    </div>\n",
              "  </div>\n",
              "  "
            ]
          },
          "metadata": {},
          "execution_count": 22
        }
      ]
    },
    {
      "cell_type": "code",
      "source": [
        "df['wind'][0]=None\n",
        "df['humidity'][0]=None\n",
        "df['humidity'][4]=None"
      ],
      "metadata": {
        "id": "9YizyVK0hxAs"
      },
      "execution_count": null,
      "outputs": []
    },
    {
      "cell_type": "code",
      "source": [
        "df.isnull()"
      ],
      "metadata": {
        "colab": {
          "base_uri": "https://localhost:8080/",
          "height": 488
        },
        "id": "es1IttOBh_OA",
        "outputId": "fcc2778d-86d6-4f44-e845-6f5e50fa10fa"
      },
      "execution_count": null,
      "outputs": [
        {
          "output_type": "execute_result",
          "data": {
            "text/plain": [
              "    outlook   temp  humidity   wind   play\n",
              "0     False  False      True   True  False\n",
              "1     False  False     False  False  False\n",
              "2     False  False     False  False  False\n",
              "3     False  False     False  False  False\n",
              "4     False  False      True  False  False\n",
              "5     False  False     False  False  False\n",
              "6     False  False     False  False  False\n",
              "7     False  False     False  False  False\n",
              "8     False  False     False  False  False\n",
              "9     False  False     False  False  False\n",
              "10    False  False     False  False  False\n",
              "11    False  False     False  False  False\n",
              "12    False  False     False  False  False\n",
              "13    False  False     False  False  False"
            ],
            "text/html": [
              "\n",
              "  <div id=\"df-7383c45b-cdda-432b-b8ed-c898f32c5625\">\n",
              "    <div class=\"colab-df-container\">\n",
              "      <div>\n",
              "<style scoped>\n",
              "    .dataframe tbody tr th:only-of-type {\n",
              "        vertical-align: middle;\n",
              "    }\n",
              "\n",
              "    .dataframe tbody tr th {\n",
              "        vertical-align: top;\n",
              "    }\n",
              "\n",
              "    .dataframe thead th {\n",
              "        text-align: right;\n",
              "    }\n",
              "</style>\n",
              "<table border=\"1\" class=\"dataframe\">\n",
              "  <thead>\n",
              "    <tr style=\"text-align: right;\">\n",
              "      <th></th>\n",
              "      <th>outlook</th>\n",
              "      <th>temp</th>\n",
              "      <th>humidity</th>\n",
              "      <th>wind</th>\n",
              "      <th>play</th>\n",
              "    </tr>\n",
              "  </thead>\n",
              "  <tbody>\n",
              "    <tr>\n",
              "      <th>0</th>\n",
              "      <td>False</td>\n",
              "      <td>False</td>\n",
              "      <td>True</td>\n",
              "      <td>True</td>\n",
              "      <td>False</td>\n",
              "    </tr>\n",
              "    <tr>\n",
              "      <th>1</th>\n",
              "      <td>False</td>\n",
              "      <td>False</td>\n",
              "      <td>False</td>\n",
              "      <td>False</td>\n",
              "      <td>False</td>\n",
              "    </tr>\n",
              "    <tr>\n",
              "      <th>2</th>\n",
              "      <td>False</td>\n",
              "      <td>False</td>\n",
              "      <td>False</td>\n",
              "      <td>False</td>\n",
              "      <td>False</td>\n",
              "    </tr>\n",
              "    <tr>\n",
              "      <th>3</th>\n",
              "      <td>False</td>\n",
              "      <td>False</td>\n",
              "      <td>False</td>\n",
              "      <td>False</td>\n",
              "      <td>False</td>\n",
              "    </tr>\n",
              "    <tr>\n",
              "      <th>4</th>\n",
              "      <td>False</td>\n",
              "      <td>False</td>\n",
              "      <td>True</td>\n",
              "      <td>False</td>\n",
              "      <td>False</td>\n",
              "    </tr>\n",
              "    <tr>\n",
              "      <th>5</th>\n",
              "      <td>False</td>\n",
              "      <td>False</td>\n",
              "      <td>False</td>\n",
              "      <td>False</td>\n",
              "      <td>False</td>\n",
              "    </tr>\n",
              "    <tr>\n",
              "      <th>6</th>\n",
              "      <td>False</td>\n",
              "      <td>False</td>\n",
              "      <td>False</td>\n",
              "      <td>False</td>\n",
              "      <td>False</td>\n",
              "    </tr>\n",
              "    <tr>\n",
              "      <th>7</th>\n",
              "      <td>False</td>\n",
              "      <td>False</td>\n",
              "      <td>False</td>\n",
              "      <td>False</td>\n",
              "      <td>False</td>\n",
              "    </tr>\n",
              "    <tr>\n",
              "      <th>8</th>\n",
              "      <td>False</td>\n",
              "      <td>False</td>\n",
              "      <td>False</td>\n",
              "      <td>False</td>\n",
              "      <td>False</td>\n",
              "    </tr>\n",
              "    <tr>\n",
              "      <th>9</th>\n",
              "      <td>False</td>\n",
              "      <td>False</td>\n",
              "      <td>False</td>\n",
              "      <td>False</td>\n",
              "      <td>False</td>\n",
              "    </tr>\n",
              "    <tr>\n",
              "      <th>10</th>\n",
              "      <td>False</td>\n",
              "      <td>False</td>\n",
              "      <td>False</td>\n",
              "      <td>False</td>\n",
              "      <td>False</td>\n",
              "    </tr>\n",
              "    <tr>\n",
              "      <th>11</th>\n",
              "      <td>False</td>\n",
              "      <td>False</td>\n",
              "      <td>False</td>\n",
              "      <td>False</td>\n",
              "      <td>False</td>\n",
              "    </tr>\n",
              "    <tr>\n",
              "      <th>12</th>\n",
              "      <td>False</td>\n",
              "      <td>False</td>\n",
              "      <td>False</td>\n",
              "      <td>False</td>\n",
              "      <td>False</td>\n",
              "    </tr>\n",
              "    <tr>\n",
              "      <th>13</th>\n",
              "      <td>False</td>\n",
              "      <td>False</td>\n",
              "      <td>False</td>\n",
              "      <td>False</td>\n",
              "      <td>False</td>\n",
              "    </tr>\n",
              "  </tbody>\n",
              "</table>\n",
              "</div>\n",
              "      <button class=\"colab-df-convert\" onclick=\"convertToInteractive('df-7383c45b-cdda-432b-b8ed-c898f32c5625')\"\n",
              "              title=\"Convert this dataframe to an interactive table.\"\n",
              "              style=\"display:none;\">\n",
              "        \n",
              "  <svg xmlns=\"http://www.w3.org/2000/svg\" height=\"24px\"viewBox=\"0 0 24 24\"\n",
              "       width=\"24px\">\n",
              "    <path d=\"M0 0h24v24H0V0z\" fill=\"none\"/>\n",
              "    <path d=\"M18.56 5.44l.94 2.06.94-2.06 2.06-.94-2.06-.94-.94-2.06-.94 2.06-2.06.94zm-11 1L8.5 8.5l.94-2.06 2.06-.94-2.06-.94L8.5 2.5l-.94 2.06-2.06.94zm10 10l.94 2.06.94-2.06 2.06-.94-2.06-.94-.94-2.06-.94 2.06-2.06.94z\"/><path d=\"M17.41 7.96l-1.37-1.37c-.4-.4-.92-.59-1.43-.59-.52 0-1.04.2-1.43.59L10.3 9.45l-7.72 7.72c-.78.78-.78 2.05 0 2.83L4 21.41c.39.39.9.59 1.41.59.51 0 1.02-.2 1.41-.59l7.78-7.78 2.81-2.81c.8-.78.8-2.07 0-2.86zM5.41 20L4 18.59l7.72-7.72 1.47 1.35L5.41 20z\"/>\n",
              "  </svg>\n",
              "      </button>\n",
              "      \n",
              "  <style>\n",
              "    .colab-df-container {\n",
              "      display:flex;\n",
              "      flex-wrap:wrap;\n",
              "      gap: 12px;\n",
              "    }\n",
              "\n",
              "    .colab-df-convert {\n",
              "      background-color: #E8F0FE;\n",
              "      border: none;\n",
              "      border-radius: 50%;\n",
              "      cursor: pointer;\n",
              "      display: none;\n",
              "      fill: #1967D2;\n",
              "      height: 32px;\n",
              "      padding: 0 0 0 0;\n",
              "      width: 32px;\n",
              "    }\n",
              "\n",
              "    .colab-df-convert:hover {\n",
              "      background-color: #E2EBFA;\n",
              "      box-shadow: 0px 1px 2px rgba(60, 64, 67, 0.3), 0px 1px 3px 1px rgba(60, 64, 67, 0.15);\n",
              "      fill: #174EA6;\n",
              "    }\n",
              "\n",
              "    [theme=dark] .colab-df-convert {\n",
              "      background-color: #3B4455;\n",
              "      fill: #D2E3FC;\n",
              "    }\n",
              "\n",
              "    [theme=dark] .colab-df-convert:hover {\n",
              "      background-color: #434B5C;\n",
              "      box-shadow: 0px 1px 3px 1px rgba(0, 0, 0, 0.15);\n",
              "      filter: drop-shadow(0px 1px 2px rgba(0, 0, 0, 0.3));\n",
              "      fill: #FFFFFF;\n",
              "    }\n",
              "  </style>\n",
              "\n",
              "      <script>\n",
              "        const buttonEl =\n",
              "          document.querySelector('#df-7383c45b-cdda-432b-b8ed-c898f32c5625 button.colab-df-convert');\n",
              "        buttonEl.style.display =\n",
              "          google.colab.kernel.accessAllowed ? 'block' : 'none';\n",
              "\n",
              "        async function convertToInteractive(key) {\n",
              "          const element = document.querySelector('#df-7383c45b-cdda-432b-b8ed-c898f32c5625');\n",
              "          const dataTable =\n",
              "            await google.colab.kernel.invokeFunction('convertToInteractive',\n",
              "                                                     [key], {});\n",
              "          if (!dataTable) return;\n",
              "\n",
              "          const docLinkHtml = 'Like what you see? Visit the ' +\n",
              "            '<a target=\"_blank\" href=https://colab.research.google.com/notebooks/data_table.ipynb>data table notebook</a>'\n",
              "            + ' to learn more about interactive tables.';\n",
              "          element.innerHTML = '';\n",
              "          dataTable['output_type'] = 'display_data';\n",
              "          await google.colab.output.renderOutput(dataTable, element);\n",
              "          const docLink = document.createElement('div');\n",
              "          docLink.innerHTML = docLinkHtml;\n",
              "          element.appendChild(docLink);\n",
              "        }\n",
              "      </script>\n",
              "    </div>\n",
              "  </div>\n",
              "  "
            ]
          },
          "metadata": {},
          "execution_count": 27
        }
      ]
    },
    {
      "cell_type": "code",
      "source": [
        "df.isnull().sum()"
      ],
      "metadata": {
        "colab": {
          "base_uri": "https://localhost:8080/"
        },
        "id": "oXfhBuAIiQXn",
        "outputId": "4dd729cd-20d1-447a-f52a-8ef92692d39f"
      },
      "execution_count": null,
      "outputs": [
        {
          "output_type": "execute_result",
          "data": {
            "text/plain": [
              "outlook     0\n",
              "temp        0\n",
              "humidity    2\n",
              "wind        1\n",
              "play        0\n",
              "dtype: int64"
            ]
          },
          "metadata": {},
          "execution_count": 28
        }
      ]
    },
    {
      "cell_type": "code",
      "source": [
        "df.dropna()"
      ],
      "metadata": {
        "colab": {
          "base_uri": "https://localhost:8080/",
          "height": 426
        },
        "id": "ylUyLvnhiWyg",
        "outputId": "2c0dadc3-9740-44dd-d348-4744caaac0e6"
      },
      "execution_count": null,
      "outputs": [
        {
          "output_type": "execute_result",
          "data": {
            "text/plain": [
              "     outlook  temp humidity    wind play\n",
              "1      Sunny   Hot     High  Strong   No\n",
              "2   Overcast   Hot     High    Weak  Yes\n",
              "3       Rain  Mild     High    Weak  Yes\n",
              "5       Rain  Cool   Normal  Strong   No\n",
              "6   Overcast  Cool   Normal  Strong  Yes\n",
              "7      Sunny  Mild     High    Weak   No\n",
              "8      Sunny  Cool   Normal    Weak  Yes\n",
              "9       Rain  Mild   Normal    Weak  Yes\n",
              "10     Sunny  Mild   Normal  Strong  Yes\n",
              "11  Overcast  Mild     High  Strong  Yes\n",
              "12  Overcast   Hot   Normal    Weak  Yes\n",
              "13      Rain  Mild     High  Strong   No"
            ],
            "text/html": [
              "\n",
              "  <div id=\"df-88774cd4-76c4-406b-a6e1-8048b8d1e0df\">\n",
              "    <div class=\"colab-df-container\">\n",
              "      <div>\n",
              "<style scoped>\n",
              "    .dataframe tbody tr th:only-of-type {\n",
              "        vertical-align: middle;\n",
              "    }\n",
              "\n",
              "    .dataframe tbody tr th {\n",
              "        vertical-align: top;\n",
              "    }\n",
              "\n",
              "    .dataframe thead th {\n",
              "        text-align: right;\n",
              "    }\n",
              "</style>\n",
              "<table border=\"1\" class=\"dataframe\">\n",
              "  <thead>\n",
              "    <tr style=\"text-align: right;\">\n",
              "      <th></th>\n",
              "      <th>outlook</th>\n",
              "      <th>temp</th>\n",
              "      <th>humidity</th>\n",
              "      <th>wind</th>\n",
              "      <th>play</th>\n",
              "    </tr>\n",
              "  </thead>\n",
              "  <tbody>\n",
              "    <tr>\n",
              "      <th>1</th>\n",
              "      <td>Sunny</td>\n",
              "      <td>Hot</td>\n",
              "      <td>High</td>\n",
              "      <td>Strong</td>\n",
              "      <td>No</td>\n",
              "    </tr>\n",
              "    <tr>\n",
              "      <th>2</th>\n",
              "      <td>Overcast</td>\n",
              "      <td>Hot</td>\n",
              "      <td>High</td>\n",
              "      <td>Weak</td>\n",
              "      <td>Yes</td>\n",
              "    </tr>\n",
              "    <tr>\n",
              "      <th>3</th>\n",
              "      <td>Rain</td>\n",
              "      <td>Mild</td>\n",
              "      <td>High</td>\n",
              "      <td>Weak</td>\n",
              "      <td>Yes</td>\n",
              "    </tr>\n",
              "    <tr>\n",
              "      <th>5</th>\n",
              "      <td>Rain</td>\n",
              "      <td>Cool</td>\n",
              "      <td>Normal</td>\n",
              "      <td>Strong</td>\n",
              "      <td>No</td>\n",
              "    </tr>\n",
              "    <tr>\n",
              "      <th>6</th>\n",
              "      <td>Overcast</td>\n",
              "      <td>Cool</td>\n",
              "      <td>Normal</td>\n",
              "      <td>Strong</td>\n",
              "      <td>Yes</td>\n",
              "    </tr>\n",
              "    <tr>\n",
              "      <th>7</th>\n",
              "      <td>Sunny</td>\n",
              "      <td>Mild</td>\n",
              "      <td>High</td>\n",
              "      <td>Weak</td>\n",
              "      <td>No</td>\n",
              "    </tr>\n",
              "    <tr>\n",
              "      <th>8</th>\n",
              "      <td>Sunny</td>\n",
              "      <td>Cool</td>\n",
              "      <td>Normal</td>\n",
              "      <td>Weak</td>\n",
              "      <td>Yes</td>\n",
              "    </tr>\n",
              "    <tr>\n",
              "      <th>9</th>\n",
              "      <td>Rain</td>\n",
              "      <td>Mild</td>\n",
              "      <td>Normal</td>\n",
              "      <td>Weak</td>\n",
              "      <td>Yes</td>\n",
              "    </tr>\n",
              "    <tr>\n",
              "      <th>10</th>\n",
              "      <td>Sunny</td>\n",
              "      <td>Mild</td>\n",
              "      <td>Normal</td>\n",
              "      <td>Strong</td>\n",
              "      <td>Yes</td>\n",
              "    </tr>\n",
              "    <tr>\n",
              "      <th>11</th>\n",
              "      <td>Overcast</td>\n",
              "      <td>Mild</td>\n",
              "      <td>High</td>\n",
              "      <td>Strong</td>\n",
              "      <td>Yes</td>\n",
              "    </tr>\n",
              "    <tr>\n",
              "      <th>12</th>\n",
              "      <td>Overcast</td>\n",
              "      <td>Hot</td>\n",
              "      <td>Normal</td>\n",
              "      <td>Weak</td>\n",
              "      <td>Yes</td>\n",
              "    </tr>\n",
              "    <tr>\n",
              "      <th>13</th>\n",
              "      <td>Rain</td>\n",
              "      <td>Mild</td>\n",
              "      <td>High</td>\n",
              "      <td>Strong</td>\n",
              "      <td>No</td>\n",
              "    </tr>\n",
              "  </tbody>\n",
              "</table>\n",
              "</div>\n",
              "      <button class=\"colab-df-convert\" onclick=\"convertToInteractive('df-88774cd4-76c4-406b-a6e1-8048b8d1e0df')\"\n",
              "              title=\"Convert this dataframe to an interactive table.\"\n",
              "              style=\"display:none;\">\n",
              "        \n",
              "  <svg xmlns=\"http://www.w3.org/2000/svg\" height=\"24px\"viewBox=\"0 0 24 24\"\n",
              "       width=\"24px\">\n",
              "    <path d=\"M0 0h24v24H0V0z\" fill=\"none\"/>\n",
              "    <path d=\"M18.56 5.44l.94 2.06.94-2.06 2.06-.94-2.06-.94-.94-2.06-.94 2.06-2.06.94zm-11 1L8.5 8.5l.94-2.06 2.06-.94-2.06-.94L8.5 2.5l-.94 2.06-2.06.94zm10 10l.94 2.06.94-2.06 2.06-.94-2.06-.94-.94-2.06-.94 2.06-2.06.94z\"/><path d=\"M17.41 7.96l-1.37-1.37c-.4-.4-.92-.59-1.43-.59-.52 0-1.04.2-1.43.59L10.3 9.45l-7.72 7.72c-.78.78-.78 2.05 0 2.83L4 21.41c.39.39.9.59 1.41.59.51 0 1.02-.2 1.41-.59l7.78-7.78 2.81-2.81c.8-.78.8-2.07 0-2.86zM5.41 20L4 18.59l7.72-7.72 1.47 1.35L5.41 20z\"/>\n",
              "  </svg>\n",
              "      </button>\n",
              "      \n",
              "  <style>\n",
              "    .colab-df-container {\n",
              "      display:flex;\n",
              "      flex-wrap:wrap;\n",
              "      gap: 12px;\n",
              "    }\n",
              "\n",
              "    .colab-df-convert {\n",
              "      background-color: #E8F0FE;\n",
              "      border: none;\n",
              "      border-radius: 50%;\n",
              "      cursor: pointer;\n",
              "      display: none;\n",
              "      fill: #1967D2;\n",
              "      height: 32px;\n",
              "      padding: 0 0 0 0;\n",
              "      width: 32px;\n",
              "    }\n",
              "\n",
              "    .colab-df-convert:hover {\n",
              "      background-color: #E2EBFA;\n",
              "      box-shadow: 0px 1px 2px rgba(60, 64, 67, 0.3), 0px 1px 3px 1px rgba(60, 64, 67, 0.15);\n",
              "      fill: #174EA6;\n",
              "    }\n",
              "\n",
              "    [theme=dark] .colab-df-convert {\n",
              "      background-color: #3B4455;\n",
              "      fill: #D2E3FC;\n",
              "    }\n",
              "\n",
              "    [theme=dark] .colab-df-convert:hover {\n",
              "      background-color: #434B5C;\n",
              "      box-shadow: 0px 1px 3px 1px rgba(0, 0, 0, 0.15);\n",
              "      filter: drop-shadow(0px 1px 2px rgba(0, 0, 0, 0.3));\n",
              "      fill: #FFFFFF;\n",
              "    }\n",
              "  </style>\n",
              "\n",
              "      <script>\n",
              "        const buttonEl =\n",
              "          document.querySelector('#df-88774cd4-76c4-406b-a6e1-8048b8d1e0df button.colab-df-convert');\n",
              "        buttonEl.style.display =\n",
              "          google.colab.kernel.accessAllowed ? 'block' : 'none';\n",
              "\n",
              "        async function convertToInteractive(key) {\n",
              "          const element = document.querySelector('#df-88774cd4-76c4-406b-a6e1-8048b8d1e0df');\n",
              "          const dataTable =\n",
              "            await google.colab.kernel.invokeFunction('convertToInteractive',\n",
              "                                                     [key], {});\n",
              "          if (!dataTable) return;\n",
              "\n",
              "          const docLinkHtml = 'Like what you see? Visit the ' +\n",
              "            '<a target=\"_blank\" href=https://colab.research.google.com/notebooks/data_table.ipynb>data table notebook</a>'\n",
              "            + ' to learn more about interactive tables.';\n",
              "          element.innerHTML = '';\n",
              "          dataTable['output_type'] = 'display_data';\n",
              "          await google.colab.output.renderOutput(dataTable, element);\n",
              "          const docLink = document.createElement('div');\n",
              "          docLink.innerHTML = docLinkHtml;\n",
              "          element.appendChild(docLink);\n",
              "        }\n",
              "      </script>\n",
              "    </div>\n",
              "  </div>\n",
              "  "
            ]
          },
          "metadata": {},
          "execution_count": 29
        }
      ]
    },
    {
      "cell_type": "code",
      "source": [
        "df['wind'][2]=None\n",
        "df['temp'][6]=None"
      ],
      "metadata": {
        "id": "lsM-HmbRidV_"
      },
      "execution_count": null,
      "outputs": []
    },
    {
      "cell_type": "code",
      "source": [
        "df.fillna(method='bfill')"
      ],
      "metadata": {
        "colab": {
          "base_uri": "https://localhost:8080/",
          "height": 488
        },
        "id": "GWfWrQx3iupn",
        "outputId": "d9737b51-0770-40b2-8353-f1cac63d02a6"
      },
      "execution_count": null,
      "outputs": [
        {
          "output_type": "execute_result",
          "data": {
            "text/plain": [
              "     outlook  temp humidity    wind play\n",
              "0      Sunny   Hot     High  Strong   No\n",
              "1      Sunny   Hot     High  Strong   No\n",
              "2   Overcast   Hot     High    Weak  Yes\n",
              "3       Rain  Mild     High    Weak  Yes\n",
              "4       Rain  Cool   Normal    Weak  Yes\n",
              "5       Rain  Cool   Normal  Strong   No\n",
              "6   Overcast  Mild   Normal  Strong  Yes\n",
              "7      Sunny  Mild     High    Weak   No\n",
              "8      Sunny  Cool   Normal    Weak  Yes\n",
              "9       Rain  Mild   Normal    Weak  Yes\n",
              "10     Sunny  Mild   Normal  Strong  Yes\n",
              "11  Overcast  Mild     High  Strong  Yes\n",
              "12  Overcast   Hot   Normal    Weak  Yes\n",
              "13      Rain  Mild     High  Strong   No"
            ],
            "text/html": [
              "\n",
              "  <div id=\"df-ecd70a13-b316-45db-9495-2e752c9f62ec\">\n",
              "    <div class=\"colab-df-container\">\n",
              "      <div>\n",
              "<style scoped>\n",
              "    .dataframe tbody tr th:only-of-type {\n",
              "        vertical-align: middle;\n",
              "    }\n",
              "\n",
              "    .dataframe tbody tr th {\n",
              "        vertical-align: top;\n",
              "    }\n",
              "\n",
              "    .dataframe thead th {\n",
              "        text-align: right;\n",
              "    }\n",
              "</style>\n",
              "<table border=\"1\" class=\"dataframe\">\n",
              "  <thead>\n",
              "    <tr style=\"text-align: right;\">\n",
              "      <th></th>\n",
              "      <th>outlook</th>\n",
              "      <th>temp</th>\n",
              "      <th>humidity</th>\n",
              "      <th>wind</th>\n",
              "      <th>play</th>\n",
              "    </tr>\n",
              "  </thead>\n",
              "  <tbody>\n",
              "    <tr>\n",
              "      <th>0</th>\n",
              "      <td>Sunny</td>\n",
              "      <td>Hot</td>\n",
              "      <td>High</td>\n",
              "      <td>Strong</td>\n",
              "      <td>No</td>\n",
              "    </tr>\n",
              "    <tr>\n",
              "      <th>1</th>\n",
              "      <td>Sunny</td>\n",
              "      <td>Hot</td>\n",
              "      <td>High</td>\n",
              "      <td>Strong</td>\n",
              "      <td>No</td>\n",
              "    </tr>\n",
              "    <tr>\n",
              "      <th>2</th>\n",
              "      <td>Overcast</td>\n",
              "      <td>Hot</td>\n",
              "      <td>High</td>\n",
              "      <td>Weak</td>\n",
              "      <td>Yes</td>\n",
              "    </tr>\n",
              "    <tr>\n",
              "      <th>3</th>\n",
              "      <td>Rain</td>\n",
              "      <td>Mild</td>\n",
              "      <td>High</td>\n",
              "      <td>Weak</td>\n",
              "      <td>Yes</td>\n",
              "    </tr>\n",
              "    <tr>\n",
              "      <th>4</th>\n",
              "      <td>Rain</td>\n",
              "      <td>Cool</td>\n",
              "      <td>Normal</td>\n",
              "      <td>Weak</td>\n",
              "      <td>Yes</td>\n",
              "    </tr>\n",
              "    <tr>\n",
              "      <th>5</th>\n",
              "      <td>Rain</td>\n",
              "      <td>Cool</td>\n",
              "      <td>Normal</td>\n",
              "      <td>Strong</td>\n",
              "      <td>No</td>\n",
              "    </tr>\n",
              "    <tr>\n",
              "      <th>6</th>\n",
              "      <td>Overcast</td>\n",
              "      <td>Mild</td>\n",
              "      <td>Normal</td>\n",
              "      <td>Strong</td>\n",
              "      <td>Yes</td>\n",
              "    </tr>\n",
              "    <tr>\n",
              "      <th>7</th>\n",
              "      <td>Sunny</td>\n",
              "      <td>Mild</td>\n",
              "      <td>High</td>\n",
              "      <td>Weak</td>\n",
              "      <td>No</td>\n",
              "    </tr>\n",
              "    <tr>\n",
              "      <th>8</th>\n",
              "      <td>Sunny</td>\n",
              "      <td>Cool</td>\n",
              "      <td>Normal</td>\n",
              "      <td>Weak</td>\n",
              "      <td>Yes</td>\n",
              "    </tr>\n",
              "    <tr>\n",
              "      <th>9</th>\n",
              "      <td>Rain</td>\n",
              "      <td>Mild</td>\n",
              "      <td>Normal</td>\n",
              "      <td>Weak</td>\n",
              "      <td>Yes</td>\n",
              "    </tr>\n",
              "    <tr>\n",
              "      <th>10</th>\n",
              "      <td>Sunny</td>\n",
              "      <td>Mild</td>\n",
              "      <td>Normal</td>\n",
              "      <td>Strong</td>\n",
              "      <td>Yes</td>\n",
              "    </tr>\n",
              "    <tr>\n",
              "      <th>11</th>\n",
              "      <td>Overcast</td>\n",
              "      <td>Mild</td>\n",
              "      <td>High</td>\n",
              "      <td>Strong</td>\n",
              "      <td>Yes</td>\n",
              "    </tr>\n",
              "    <tr>\n",
              "      <th>12</th>\n",
              "      <td>Overcast</td>\n",
              "      <td>Hot</td>\n",
              "      <td>Normal</td>\n",
              "      <td>Weak</td>\n",
              "      <td>Yes</td>\n",
              "    </tr>\n",
              "    <tr>\n",
              "      <th>13</th>\n",
              "      <td>Rain</td>\n",
              "      <td>Mild</td>\n",
              "      <td>High</td>\n",
              "      <td>Strong</td>\n",
              "      <td>No</td>\n",
              "    </tr>\n",
              "  </tbody>\n",
              "</table>\n",
              "</div>\n",
              "      <button class=\"colab-df-convert\" onclick=\"convertToInteractive('df-ecd70a13-b316-45db-9495-2e752c9f62ec')\"\n",
              "              title=\"Convert this dataframe to an interactive table.\"\n",
              "              style=\"display:none;\">\n",
              "        \n",
              "  <svg xmlns=\"http://www.w3.org/2000/svg\" height=\"24px\"viewBox=\"0 0 24 24\"\n",
              "       width=\"24px\">\n",
              "    <path d=\"M0 0h24v24H0V0z\" fill=\"none\"/>\n",
              "    <path d=\"M18.56 5.44l.94 2.06.94-2.06 2.06-.94-2.06-.94-.94-2.06-.94 2.06-2.06.94zm-11 1L8.5 8.5l.94-2.06 2.06-.94-2.06-.94L8.5 2.5l-.94 2.06-2.06.94zm10 10l.94 2.06.94-2.06 2.06-.94-2.06-.94-.94-2.06-.94 2.06-2.06.94z\"/><path d=\"M17.41 7.96l-1.37-1.37c-.4-.4-.92-.59-1.43-.59-.52 0-1.04.2-1.43.59L10.3 9.45l-7.72 7.72c-.78.78-.78 2.05 0 2.83L4 21.41c.39.39.9.59 1.41.59.51 0 1.02-.2 1.41-.59l7.78-7.78 2.81-2.81c.8-.78.8-2.07 0-2.86zM5.41 20L4 18.59l7.72-7.72 1.47 1.35L5.41 20z\"/>\n",
              "  </svg>\n",
              "      </button>\n",
              "      \n",
              "  <style>\n",
              "    .colab-df-container {\n",
              "      display:flex;\n",
              "      flex-wrap:wrap;\n",
              "      gap: 12px;\n",
              "    }\n",
              "\n",
              "    .colab-df-convert {\n",
              "      background-color: #E8F0FE;\n",
              "      border: none;\n",
              "      border-radius: 50%;\n",
              "      cursor: pointer;\n",
              "      display: none;\n",
              "      fill: #1967D2;\n",
              "      height: 32px;\n",
              "      padding: 0 0 0 0;\n",
              "      width: 32px;\n",
              "    }\n",
              "\n",
              "    .colab-df-convert:hover {\n",
              "      background-color: #E2EBFA;\n",
              "      box-shadow: 0px 1px 2px rgba(60, 64, 67, 0.3), 0px 1px 3px 1px rgba(60, 64, 67, 0.15);\n",
              "      fill: #174EA6;\n",
              "    }\n",
              "\n",
              "    [theme=dark] .colab-df-convert {\n",
              "      background-color: #3B4455;\n",
              "      fill: #D2E3FC;\n",
              "    }\n",
              "\n",
              "    [theme=dark] .colab-df-convert:hover {\n",
              "      background-color: #434B5C;\n",
              "      box-shadow: 0px 1px 3px 1px rgba(0, 0, 0, 0.15);\n",
              "      filter: drop-shadow(0px 1px 2px rgba(0, 0, 0, 0.3));\n",
              "      fill: #FFFFFF;\n",
              "    }\n",
              "  </style>\n",
              "\n",
              "      <script>\n",
              "        const buttonEl =\n",
              "          document.querySelector('#df-ecd70a13-b316-45db-9495-2e752c9f62ec button.colab-df-convert');\n",
              "        buttonEl.style.display =\n",
              "          google.colab.kernel.accessAllowed ? 'block' : 'none';\n",
              "\n",
              "        async function convertToInteractive(key) {\n",
              "          const element = document.querySelector('#df-ecd70a13-b316-45db-9495-2e752c9f62ec');\n",
              "          const dataTable =\n",
              "            await google.colab.kernel.invokeFunction('convertToInteractive',\n",
              "                                                     [key], {});\n",
              "          if (!dataTable) return;\n",
              "\n",
              "          const docLinkHtml = 'Like what you see? Visit the ' +\n",
              "            '<a target=\"_blank\" href=https://colab.research.google.com/notebooks/data_table.ipynb>data table notebook</a>'\n",
              "            + ' to learn more about interactive tables.';\n",
              "          element.innerHTML = '';\n",
              "          dataTable['output_type'] = 'display_data';\n",
              "          await google.colab.output.renderOutput(dataTable, element);\n",
              "          const docLink = document.createElement('div');\n",
              "          docLink.innerHTML = docLinkHtml;\n",
              "          element.appendChild(docLink);\n",
              "        }\n",
              "      </script>\n",
              "    </div>\n",
              "  </div>\n",
              "  "
            ]
          },
          "metadata": {},
          "execution_count": 31
        }
      ]
    },
    {
      "cell_type": "code",
      "source": [
        "df['wind'][2]=None\n",
        "df['temp'][6]=None"
      ],
      "metadata": {
        "id": "hYhHYuLLi64l"
      },
      "execution_count": null,
      "outputs": []
    },
    {
      "cell_type": "code",
      "source": [
        "df.fillna(method='ffill')"
      ],
      "metadata": {
        "colab": {
          "base_uri": "https://localhost:8080/",
          "height": 488
        },
        "id": "K5wIU7ERi8IR",
        "outputId": "63a461ac-aa8a-43e6-b013-f7c1ed6e2372"
      },
      "execution_count": null,
      "outputs": [
        {
          "output_type": "execute_result",
          "data": {
            "text/plain": [
              "     outlook  temp humidity    wind play\n",
              "0      Sunny   Hot     None    None   No\n",
              "1      Sunny   Hot     High  Strong   No\n",
              "2   Overcast   Hot     High  Strong  Yes\n",
              "3       Rain  Mild     High    Weak  Yes\n",
              "4       Rain  Cool     High    Weak  Yes\n",
              "5       Rain  Cool   Normal  Strong   No\n",
              "6   Overcast  Cool   Normal  Strong  Yes\n",
              "7      Sunny  Mild     High    Weak   No\n",
              "8      Sunny  Cool   Normal    Weak  Yes\n",
              "9       Rain  Mild   Normal    Weak  Yes\n",
              "10     Sunny  Mild   Normal  Strong  Yes\n",
              "11  Overcast  Mild     High  Strong  Yes\n",
              "12  Overcast   Hot   Normal    Weak  Yes\n",
              "13      Rain  Mild     High  Strong   No"
            ],
            "text/html": [
              "\n",
              "  <div id=\"df-f2ada5a7-6afb-42e1-8c76-e1464d423781\">\n",
              "    <div class=\"colab-df-container\">\n",
              "      <div>\n",
              "<style scoped>\n",
              "    .dataframe tbody tr th:only-of-type {\n",
              "        vertical-align: middle;\n",
              "    }\n",
              "\n",
              "    .dataframe tbody tr th {\n",
              "        vertical-align: top;\n",
              "    }\n",
              "\n",
              "    .dataframe thead th {\n",
              "        text-align: right;\n",
              "    }\n",
              "</style>\n",
              "<table border=\"1\" class=\"dataframe\">\n",
              "  <thead>\n",
              "    <tr style=\"text-align: right;\">\n",
              "      <th></th>\n",
              "      <th>outlook</th>\n",
              "      <th>temp</th>\n",
              "      <th>humidity</th>\n",
              "      <th>wind</th>\n",
              "      <th>play</th>\n",
              "    </tr>\n",
              "  </thead>\n",
              "  <tbody>\n",
              "    <tr>\n",
              "      <th>0</th>\n",
              "      <td>Sunny</td>\n",
              "      <td>Hot</td>\n",
              "      <td>None</td>\n",
              "      <td>None</td>\n",
              "      <td>No</td>\n",
              "    </tr>\n",
              "    <tr>\n",
              "      <th>1</th>\n",
              "      <td>Sunny</td>\n",
              "      <td>Hot</td>\n",
              "      <td>High</td>\n",
              "      <td>Strong</td>\n",
              "      <td>No</td>\n",
              "    </tr>\n",
              "    <tr>\n",
              "      <th>2</th>\n",
              "      <td>Overcast</td>\n",
              "      <td>Hot</td>\n",
              "      <td>High</td>\n",
              "      <td>Strong</td>\n",
              "      <td>Yes</td>\n",
              "    </tr>\n",
              "    <tr>\n",
              "      <th>3</th>\n",
              "      <td>Rain</td>\n",
              "      <td>Mild</td>\n",
              "      <td>High</td>\n",
              "      <td>Weak</td>\n",
              "      <td>Yes</td>\n",
              "    </tr>\n",
              "    <tr>\n",
              "      <th>4</th>\n",
              "      <td>Rain</td>\n",
              "      <td>Cool</td>\n",
              "      <td>High</td>\n",
              "      <td>Weak</td>\n",
              "      <td>Yes</td>\n",
              "    </tr>\n",
              "    <tr>\n",
              "      <th>5</th>\n",
              "      <td>Rain</td>\n",
              "      <td>Cool</td>\n",
              "      <td>Normal</td>\n",
              "      <td>Strong</td>\n",
              "      <td>No</td>\n",
              "    </tr>\n",
              "    <tr>\n",
              "      <th>6</th>\n",
              "      <td>Overcast</td>\n",
              "      <td>Cool</td>\n",
              "      <td>Normal</td>\n",
              "      <td>Strong</td>\n",
              "      <td>Yes</td>\n",
              "    </tr>\n",
              "    <tr>\n",
              "      <th>7</th>\n",
              "      <td>Sunny</td>\n",
              "      <td>Mild</td>\n",
              "      <td>High</td>\n",
              "      <td>Weak</td>\n",
              "      <td>No</td>\n",
              "    </tr>\n",
              "    <tr>\n",
              "      <th>8</th>\n",
              "      <td>Sunny</td>\n",
              "      <td>Cool</td>\n",
              "      <td>Normal</td>\n",
              "      <td>Weak</td>\n",
              "      <td>Yes</td>\n",
              "    </tr>\n",
              "    <tr>\n",
              "      <th>9</th>\n",
              "      <td>Rain</td>\n",
              "      <td>Mild</td>\n",
              "      <td>Normal</td>\n",
              "      <td>Weak</td>\n",
              "      <td>Yes</td>\n",
              "    </tr>\n",
              "    <tr>\n",
              "      <th>10</th>\n",
              "      <td>Sunny</td>\n",
              "      <td>Mild</td>\n",
              "      <td>Normal</td>\n",
              "      <td>Strong</td>\n",
              "      <td>Yes</td>\n",
              "    </tr>\n",
              "    <tr>\n",
              "      <th>11</th>\n",
              "      <td>Overcast</td>\n",
              "      <td>Mild</td>\n",
              "      <td>High</td>\n",
              "      <td>Strong</td>\n",
              "      <td>Yes</td>\n",
              "    </tr>\n",
              "    <tr>\n",
              "      <th>12</th>\n",
              "      <td>Overcast</td>\n",
              "      <td>Hot</td>\n",
              "      <td>Normal</td>\n",
              "      <td>Weak</td>\n",
              "      <td>Yes</td>\n",
              "    </tr>\n",
              "    <tr>\n",
              "      <th>13</th>\n",
              "      <td>Rain</td>\n",
              "      <td>Mild</td>\n",
              "      <td>High</td>\n",
              "      <td>Strong</td>\n",
              "      <td>No</td>\n",
              "    </tr>\n",
              "  </tbody>\n",
              "</table>\n",
              "</div>\n",
              "      <button class=\"colab-df-convert\" onclick=\"convertToInteractive('df-f2ada5a7-6afb-42e1-8c76-e1464d423781')\"\n",
              "              title=\"Convert this dataframe to an interactive table.\"\n",
              "              style=\"display:none;\">\n",
              "        \n",
              "  <svg xmlns=\"http://www.w3.org/2000/svg\" height=\"24px\"viewBox=\"0 0 24 24\"\n",
              "       width=\"24px\">\n",
              "    <path d=\"M0 0h24v24H0V0z\" fill=\"none\"/>\n",
              "    <path d=\"M18.56 5.44l.94 2.06.94-2.06 2.06-.94-2.06-.94-.94-2.06-.94 2.06-2.06.94zm-11 1L8.5 8.5l.94-2.06 2.06-.94-2.06-.94L8.5 2.5l-.94 2.06-2.06.94zm10 10l.94 2.06.94-2.06 2.06-.94-2.06-.94-.94-2.06-.94 2.06-2.06.94z\"/><path d=\"M17.41 7.96l-1.37-1.37c-.4-.4-.92-.59-1.43-.59-.52 0-1.04.2-1.43.59L10.3 9.45l-7.72 7.72c-.78.78-.78 2.05 0 2.83L4 21.41c.39.39.9.59 1.41.59.51 0 1.02-.2 1.41-.59l7.78-7.78 2.81-2.81c.8-.78.8-2.07 0-2.86zM5.41 20L4 18.59l7.72-7.72 1.47 1.35L5.41 20z\"/>\n",
              "  </svg>\n",
              "      </button>\n",
              "      \n",
              "  <style>\n",
              "    .colab-df-container {\n",
              "      display:flex;\n",
              "      flex-wrap:wrap;\n",
              "      gap: 12px;\n",
              "    }\n",
              "\n",
              "    .colab-df-convert {\n",
              "      background-color: #E8F0FE;\n",
              "      border: none;\n",
              "      border-radius: 50%;\n",
              "      cursor: pointer;\n",
              "      display: none;\n",
              "      fill: #1967D2;\n",
              "      height: 32px;\n",
              "      padding: 0 0 0 0;\n",
              "      width: 32px;\n",
              "    }\n",
              "\n",
              "    .colab-df-convert:hover {\n",
              "      background-color: #E2EBFA;\n",
              "      box-shadow: 0px 1px 2px rgba(60, 64, 67, 0.3), 0px 1px 3px 1px rgba(60, 64, 67, 0.15);\n",
              "      fill: #174EA6;\n",
              "    }\n",
              "\n",
              "    [theme=dark] .colab-df-convert {\n",
              "      background-color: #3B4455;\n",
              "      fill: #D2E3FC;\n",
              "    }\n",
              "\n",
              "    [theme=dark] .colab-df-convert:hover {\n",
              "      background-color: #434B5C;\n",
              "      box-shadow: 0px 1px 3px 1px rgba(0, 0, 0, 0.15);\n",
              "      filter: drop-shadow(0px 1px 2px rgba(0, 0, 0, 0.3));\n",
              "      fill: #FFFFFF;\n",
              "    }\n",
              "  </style>\n",
              "\n",
              "      <script>\n",
              "        const buttonEl =\n",
              "          document.querySelector('#df-f2ada5a7-6afb-42e1-8c76-e1464d423781 button.colab-df-convert');\n",
              "        buttonEl.style.display =\n",
              "          google.colab.kernel.accessAllowed ? 'block' : 'none';\n",
              "\n",
              "        async function convertToInteractive(key) {\n",
              "          const element = document.querySelector('#df-f2ada5a7-6afb-42e1-8c76-e1464d423781');\n",
              "          const dataTable =\n",
              "            await google.colab.kernel.invokeFunction('convertToInteractive',\n",
              "                                                     [key], {});\n",
              "          if (!dataTable) return;\n",
              "\n",
              "          const docLinkHtml = 'Like what you see? Visit the ' +\n",
              "            '<a target=\"_blank\" href=https://colab.research.google.com/notebooks/data_table.ipynb>data table notebook</a>'\n",
              "            + ' to learn more about interactive tables.';\n",
              "          element.innerHTML = '';\n",
              "          dataTable['output_type'] = 'display_data';\n",
              "          await google.colab.output.renderOutput(dataTable, element);\n",
              "          const docLink = document.createElement('div');\n",
              "          docLink.innerHTML = docLinkHtml;\n",
              "          element.appendChild(docLink);\n",
              "        }\n",
              "      </script>\n",
              "    </div>\n",
              "  </div>\n",
              "  "
            ]
          },
          "metadata": {},
          "execution_count": 33
        }
      ]
    },
    {
      "cell_type": "code",
      "source": [
        "li=[['Arpit',34],['Arun',23],['Abhi',None],['Arbaz',45]]\n",
        "df1=pd.DataFrame(li,columns=['name','marks'])\n",
        "df1"
      ],
      "metadata": {
        "colab": {
          "base_uri": "https://localhost:8080/",
          "height": 175
        },
        "id": "D37KLvqljC_0",
        "outputId": "a1f2f9a9-2196-4b0c-85f1-759f305a12bf"
      },
      "execution_count": null,
      "outputs": [
        {
          "output_type": "execute_result",
          "data": {
            "text/plain": [
              "    name  marks\n",
              "0  Arpit   34.0\n",
              "1   Arun   23.0\n",
              "2   Abhi    NaN\n",
              "3  Arbaz   45.0"
            ],
            "text/html": [
              "\n",
              "  <div id=\"df-4fa7a1b1-4286-493e-899c-52e5ade15ade\">\n",
              "    <div class=\"colab-df-container\">\n",
              "      <div>\n",
              "<style scoped>\n",
              "    .dataframe tbody tr th:only-of-type {\n",
              "        vertical-align: middle;\n",
              "    }\n",
              "\n",
              "    .dataframe tbody tr th {\n",
              "        vertical-align: top;\n",
              "    }\n",
              "\n",
              "    .dataframe thead th {\n",
              "        text-align: right;\n",
              "    }\n",
              "</style>\n",
              "<table border=\"1\" class=\"dataframe\">\n",
              "  <thead>\n",
              "    <tr style=\"text-align: right;\">\n",
              "      <th></th>\n",
              "      <th>name</th>\n",
              "      <th>marks</th>\n",
              "    </tr>\n",
              "  </thead>\n",
              "  <tbody>\n",
              "    <tr>\n",
              "      <th>0</th>\n",
              "      <td>Arpit</td>\n",
              "      <td>34.0</td>\n",
              "    </tr>\n",
              "    <tr>\n",
              "      <th>1</th>\n",
              "      <td>Arun</td>\n",
              "      <td>23.0</td>\n",
              "    </tr>\n",
              "    <tr>\n",
              "      <th>2</th>\n",
              "      <td>Abhi</td>\n",
              "      <td>NaN</td>\n",
              "    </tr>\n",
              "    <tr>\n",
              "      <th>3</th>\n",
              "      <td>Arbaz</td>\n",
              "      <td>45.0</td>\n",
              "    </tr>\n",
              "  </tbody>\n",
              "</table>\n",
              "</div>\n",
              "      <button class=\"colab-df-convert\" onclick=\"convertToInteractive('df-4fa7a1b1-4286-493e-899c-52e5ade15ade')\"\n",
              "              title=\"Convert this dataframe to an interactive table.\"\n",
              "              style=\"display:none;\">\n",
              "        \n",
              "  <svg xmlns=\"http://www.w3.org/2000/svg\" height=\"24px\"viewBox=\"0 0 24 24\"\n",
              "       width=\"24px\">\n",
              "    <path d=\"M0 0h24v24H0V0z\" fill=\"none\"/>\n",
              "    <path d=\"M18.56 5.44l.94 2.06.94-2.06 2.06-.94-2.06-.94-.94-2.06-.94 2.06-2.06.94zm-11 1L8.5 8.5l.94-2.06 2.06-.94-2.06-.94L8.5 2.5l-.94 2.06-2.06.94zm10 10l.94 2.06.94-2.06 2.06-.94-2.06-.94-.94-2.06-.94 2.06-2.06.94z\"/><path d=\"M17.41 7.96l-1.37-1.37c-.4-.4-.92-.59-1.43-.59-.52 0-1.04.2-1.43.59L10.3 9.45l-7.72 7.72c-.78.78-.78 2.05 0 2.83L4 21.41c.39.39.9.59 1.41.59.51 0 1.02-.2 1.41-.59l7.78-7.78 2.81-2.81c.8-.78.8-2.07 0-2.86zM5.41 20L4 18.59l7.72-7.72 1.47 1.35L5.41 20z\"/>\n",
              "  </svg>\n",
              "      </button>\n",
              "      \n",
              "  <style>\n",
              "    .colab-df-container {\n",
              "      display:flex;\n",
              "      flex-wrap:wrap;\n",
              "      gap: 12px;\n",
              "    }\n",
              "\n",
              "    .colab-df-convert {\n",
              "      background-color: #E8F0FE;\n",
              "      border: none;\n",
              "      border-radius: 50%;\n",
              "      cursor: pointer;\n",
              "      display: none;\n",
              "      fill: #1967D2;\n",
              "      height: 32px;\n",
              "      padding: 0 0 0 0;\n",
              "      width: 32px;\n",
              "    }\n",
              "\n",
              "    .colab-df-convert:hover {\n",
              "      background-color: #E2EBFA;\n",
              "      box-shadow: 0px 1px 2px rgba(60, 64, 67, 0.3), 0px 1px 3px 1px rgba(60, 64, 67, 0.15);\n",
              "      fill: #174EA6;\n",
              "    }\n",
              "\n",
              "    [theme=dark] .colab-df-convert {\n",
              "      background-color: #3B4455;\n",
              "      fill: #D2E3FC;\n",
              "    }\n",
              "\n",
              "    [theme=dark] .colab-df-convert:hover {\n",
              "      background-color: #434B5C;\n",
              "      box-shadow: 0px 1px 3px 1px rgba(0, 0, 0, 0.15);\n",
              "      filter: drop-shadow(0px 1px 2px rgba(0, 0, 0, 0.3));\n",
              "      fill: #FFFFFF;\n",
              "    }\n",
              "  </style>\n",
              "\n",
              "      <script>\n",
              "        const buttonEl =\n",
              "          document.querySelector('#df-4fa7a1b1-4286-493e-899c-52e5ade15ade button.colab-df-convert');\n",
              "        buttonEl.style.display =\n",
              "          google.colab.kernel.accessAllowed ? 'block' : 'none';\n",
              "\n",
              "        async function convertToInteractive(key) {\n",
              "          const element = document.querySelector('#df-4fa7a1b1-4286-493e-899c-52e5ade15ade');\n",
              "          const dataTable =\n",
              "            await google.colab.kernel.invokeFunction('convertToInteractive',\n",
              "                                                     [key], {});\n",
              "          if (!dataTable) return;\n",
              "\n",
              "          const docLinkHtml = 'Like what you see? Visit the ' +\n",
              "            '<a target=\"_blank\" href=https://colab.research.google.com/notebooks/data_table.ipynb>data table notebook</a>'\n",
              "            + ' to learn more about interactive tables.';\n",
              "          element.innerHTML = '';\n",
              "          dataTable['output_type'] = 'display_data';\n",
              "          await google.colab.output.renderOutput(dataTable, element);\n",
              "          const docLink = document.createElement('div');\n",
              "          docLink.innerHTML = docLinkHtml;\n",
              "          element.appendChild(docLink);\n",
              "        }\n",
              "      </script>\n",
              "    </div>\n",
              "  </div>\n",
              "  "
            ]
          },
          "metadata": {},
          "execution_count": 40
        }
      ]
    },
    {
      "cell_type": "code",
      "source": [
        "df1.interpolate()"
      ],
      "metadata": {
        "colab": {
          "base_uri": "https://localhost:8080/",
          "height": 175
        },
        "id": "D2AHsqvLjfz0",
        "outputId": "976f40b4-34b1-41ed-991a-9c5f6d5b0271"
      },
      "execution_count": null,
      "outputs": [
        {
          "output_type": "execute_result",
          "data": {
            "text/plain": [
              "    name  marks\n",
              "0  Arpit   34.0\n",
              "1   Arun   23.0\n",
              "2   Abhi   34.0\n",
              "3  Arbaz   45.0"
            ],
            "text/html": [
              "\n",
              "  <div id=\"df-d249b4e6-092d-4aba-a3e3-c10ebf5bf56c\">\n",
              "    <div class=\"colab-df-container\">\n",
              "      <div>\n",
              "<style scoped>\n",
              "    .dataframe tbody tr th:only-of-type {\n",
              "        vertical-align: middle;\n",
              "    }\n",
              "\n",
              "    .dataframe tbody tr th {\n",
              "        vertical-align: top;\n",
              "    }\n",
              "\n",
              "    .dataframe thead th {\n",
              "        text-align: right;\n",
              "    }\n",
              "</style>\n",
              "<table border=\"1\" class=\"dataframe\">\n",
              "  <thead>\n",
              "    <tr style=\"text-align: right;\">\n",
              "      <th></th>\n",
              "      <th>name</th>\n",
              "      <th>marks</th>\n",
              "    </tr>\n",
              "  </thead>\n",
              "  <tbody>\n",
              "    <tr>\n",
              "      <th>0</th>\n",
              "      <td>Arpit</td>\n",
              "      <td>34.0</td>\n",
              "    </tr>\n",
              "    <tr>\n",
              "      <th>1</th>\n",
              "      <td>Arun</td>\n",
              "      <td>23.0</td>\n",
              "    </tr>\n",
              "    <tr>\n",
              "      <th>2</th>\n",
              "      <td>Abhi</td>\n",
              "      <td>34.0</td>\n",
              "    </tr>\n",
              "    <tr>\n",
              "      <th>3</th>\n",
              "      <td>Arbaz</td>\n",
              "      <td>45.0</td>\n",
              "    </tr>\n",
              "  </tbody>\n",
              "</table>\n",
              "</div>\n",
              "      <button class=\"colab-df-convert\" onclick=\"convertToInteractive('df-d249b4e6-092d-4aba-a3e3-c10ebf5bf56c')\"\n",
              "              title=\"Convert this dataframe to an interactive table.\"\n",
              "              style=\"display:none;\">\n",
              "        \n",
              "  <svg xmlns=\"http://www.w3.org/2000/svg\" height=\"24px\"viewBox=\"0 0 24 24\"\n",
              "       width=\"24px\">\n",
              "    <path d=\"M0 0h24v24H0V0z\" fill=\"none\"/>\n",
              "    <path d=\"M18.56 5.44l.94 2.06.94-2.06 2.06-.94-2.06-.94-.94-2.06-.94 2.06-2.06.94zm-11 1L8.5 8.5l.94-2.06 2.06-.94-2.06-.94L8.5 2.5l-.94 2.06-2.06.94zm10 10l.94 2.06.94-2.06 2.06-.94-2.06-.94-.94-2.06-.94 2.06-2.06.94z\"/><path d=\"M17.41 7.96l-1.37-1.37c-.4-.4-.92-.59-1.43-.59-.52 0-1.04.2-1.43.59L10.3 9.45l-7.72 7.72c-.78.78-.78 2.05 0 2.83L4 21.41c.39.39.9.59 1.41.59.51 0 1.02-.2 1.41-.59l7.78-7.78 2.81-2.81c.8-.78.8-2.07 0-2.86zM5.41 20L4 18.59l7.72-7.72 1.47 1.35L5.41 20z\"/>\n",
              "  </svg>\n",
              "      </button>\n",
              "      \n",
              "  <style>\n",
              "    .colab-df-container {\n",
              "      display:flex;\n",
              "      flex-wrap:wrap;\n",
              "      gap: 12px;\n",
              "    }\n",
              "\n",
              "    .colab-df-convert {\n",
              "      background-color: #E8F0FE;\n",
              "      border: none;\n",
              "      border-radius: 50%;\n",
              "      cursor: pointer;\n",
              "      display: none;\n",
              "      fill: #1967D2;\n",
              "      height: 32px;\n",
              "      padding: 0 0 0 0;\n",
              "      width: 32px;\n",
              "    }\n",
              "\n",
              "    .colab-df-convert:hover {\n",
              "      background-color: #E2EBFA;\n",
              "      box-shadow: 0px 1px 2px rgba(60, 64, 67, 0.3), 0px 1px 3px 1px rgba(60, 64, 67, 0.15);\n",
              "      fill: #174EA6;\n",
              "    }\n",
              "\n",
              "    [theme=dark] .colab-df-convert {\n",
              "      background-color: #3B4455;\n",
              "      fill: #D2E3FC;\n",
              "    }\n",
              "\n",
              "    [theme=dark] .colab-df-convert:hover {\n",
              "      background-color: #434B5C;\n",
              "      box-shadow: 0px 1px 3px 1px rgba(0, 0, 0, 0.15);\n",
              "      filter: drop-shadow(0px 1px 2px rgba(0, 0, 0, 0.3));\n",
              "      fill: #FFFFFF;\n",
              "    }\n",
              "  </style>\n",
              "\n",
              "      <script>\n",
              "        const buttonEl =\n",
              "          document.querySelector('#df-d249b4e6-092d-4aba-a3e3-c10ebf5bf56c button.colab-df-convert');\n",
              "        buttonEl.style.display =\n",
              "          google.colab.kernel.accessAllowed ? 'block' : 'none';\n",
              "\n",
              "        async function convertToInteractive(key) {\n",
              "          const element = document.querySelector('#df-d249b4e6-092d-4aba-a3e3-c10ebf5bf56c');\n",
              "          const dataTable =\n",
              "            await google.colab.kernel.invokeFunction('convertToInteractive',\n",
              "                                                     [key], {});\n",
              "          if (!dataTable) return;\n",
              "\n",
              "          const docLinkHtml = 'Like what you see? Visit the ' +\n",
              "            '<a target=\"_blank\" href=https://colab.research.google.com/notebooks/data_table.ipynb>data table notebook</a>'\n",
              "            + ' to learn more about interactive tables.';\n",
              "          element.innerHTML = '';\n",
              "          dataTable['output_type'] = 'display_data';\n",
              "          await google.colab.output.renderOutput(dataTable, element);\n",
              "          const docLink = document.createElement('div');\n",
              "          docLink.innerHTML = docLinkHtml;\n",
              "          element.appendChild(docLink);\n",
              "        }\n",
              "      </script>\n",
              "    </div>\n",
              "  </div>\n",
              "  "
            ]
          },
          "metadata": {},
          "execution_count": 41
        }
      ]
    },
    {
      "cell_type": "code",
      "source": [
        "li=[['Arpit',34],['Arun',23],['Abhi',None],['Arbaz',45]]\n",
        "df1=pd.DataFrame(li,columns=['name','marks'])\n",
        "df1"
      ],
      "metadata": {
        "colab": {
          "base_uri": "https://localhost:8080/",
          "height": 175
        },
        "id": "AraDyVSukwhB",
        "outputId": "e62c5a51-aacd-4a22-a531-b393b3ac2037"
      },
      "execution_count": null,
      "outputs": [
        {
          "output_type": "execute_result",
          "data": {
            "text/plain": [
              "    name  marks\n",
              "0  Arpit   34.0\n",
              "1   Arun   23.0\n",
              "2   Abhi    NaN\n",
              "3  Arbaz   45.0"
            ],
            "text/html": [
              "\n",
              "  <div id=\"df-06804cdc-7528-440d-bb7b-4152daa00f2b\">\n",
              "    <div class=\"colab-df-container\">\n",
              "      <div>\n",
              "<style scoped>\n",
              "    .dataframe tbody tr th:only-of-type {\n",
              "        vertical-align: middle;\n",
              "    }\n",
              "\n",
              "    .dataframe tbody tr th {\n",
              "        vertical-align: top;\n",
              "    }\n",
              "\n",
              "    .dataframe thead th {\n",
              "        text-align: right;\n",
              "    }\n",
              "</style>\n",
              "<table border=\"1\" class=\"dataframe\">\n",
              "  <thead>\n",
              "    <tr style=\"text-align: right;\">\n",
              "      <th></th>\n",
              "      <th>name</th>\n",
              "      <th>marks</th>\n",
              "    </tr>\n",
              "  </thead>\n",
              "  <tbody>\n",
              "    <tr>\n",
              "      <th>0</th>\n",
              "      <td>Arpit</td>\n",
              "      <td>34.0</td>\n",
              "    </tr>\n",
              "    <tr>\n",
              "      <th>1</th>\n",
              "      <td>Arun</td>\n",
              "      <td>23.0</td>\n",
              "    </tr>\n",
              "    <tr>\n",
              "      <th>2</th>\n",
              "      <td>Abhi</td>\n",
              "      <td>NaN</td>\n",
              "    </tr>\n",
              "    <tr>\n",
              "      <th>3</th>\n",
              "      <td>Arbaz</td>\n",
              "      <td>45.0</td>\n",
              "    </tr>\n",
              "  </tbody>\n",
              "</table>\n",
              "</div>\n",
              "      <button class=\"colab-df-convert\" onclick=\"convertToInteractive('df-06804cdc-7528-440d-bb7b-4152daa00f2b')\"\n",
              "              title=\"Convert this dataframe to an interactive table.\"\n",
              "              style=\"display:none;\">\n",
              "        \n",
              "  <svg xmlns=\"http://www.w3.org/2000/svg\" height=\"24px\"viewBox=\"0 0 24 24\"\n",
              "       width=\"24px\">\n",
              "    <path d=\"M0 0h24v24H0V0z\" fill=\"none\"/>\n",
              "    <path d=\"M18.56 5.44l.94 2.06.94-2.06 2.06-.94-2.06-.94-.94-2.06-.94 2.06-2.06.94zm-11 1L8.5 8.5l.94-2.06 2.06-.94-2.06-.94L8.5 2.5l-.94 2.06-2.06.94zm10 10l.94 2.06.94-2.06 2.06-.94-2.06-.94-.94-2.06-.94 2.06-2.06.94z\"/><path d=\"M17.41 7.96l-1.37-1.37c-.4-.4-.92-.59-1.43-.59-.52 0-1.04.2-1.43.59L10.3 9.45l-7.72 7.72c-.78.78-.78 2.05 0 2.83L4 21.41c.39.39.9.59 1.41.59.51 0 1.02-.2 1.41-.59l7.78-7.78 2.81-2.81c.8-.78.8-2.07 0-2.86zM5.41 20L4 18.59l7.72-7.72 1.47 1.35L5.41 20z\"/>\n",
              "  </svg>\n",
              "      </button>\n",
              "      \n",
              "  <style>\n",
              "    .colab-df-container {\n",
              "      display:flex;\n",
              "      flex-wrap:wrap;\n",
              "      gap: 12px;\n",
              "    }\n",
              "\n",
              "    .colab-df-convert {\n",
              "      background-color: #E8F0FE;\n",
              "      border: none;\n",
              "      border-radius: 50%;\n",
              "      cursor: pointer;\n",
              "      display: none;\n",
              "      fill: #1967D2;\n",
              "      height: 32px;\n",
              "      padding: 0 0 0 0;\n",
              "      width: 32px;\n",
              "    }\n",
              "\n",
              "    .colab-df-convert:hover {\n",
              "      background-color: #E2EBFA;\n",
              "      box-shadow: 0px 1px 2px rgba(60, 64, 67, 0.3), 0px 1px 3px 1px rgba(60, 64, 67, 0.15);\n",
              "      fill: #174EA6;\n",
              "    }\n",
              "\n",
              "    [theme=dark] .colab-df-convert {\n",
              "      background-color: #3B4455;\n",
              "      fill: #D2E3FC;\n",
              "    }\n",
              "\n",
              "    [theme=dark] .colab-df-convert:hover {\n",
              "      background-color: #434B5C;\n",
              "      box-shadow: 0px 1px 3px 1px rgba(0, 0, 0, 0.15);\n",
              "      filter: drop-shadow(0px 1px 2px rgba(0, 0, 0, 0.3));\n",
              "      fill: #FFFFFF;\n",
              "    }\n",
              "  </style>\n",
              "\n",
              "      <script>\n",
              "        const buttonEl =\n",
              "          document.querySelector('#df-06804cdc-7528-440d-bb7b-4152daa00f2b button.colab-df-convert');\n",
              "        buttonEl.style.display =\n",
              "          google.colab.kernel.accessAllowed ? 'block' : 'none';\n",
              "\n",
              "        async function convertToInteractive(key) {\n",
              "          const element = document.querySelector('#df-06804cdc-7528-440d-bb7b-4152daa00f2b');\n",
              "          const dataTable =\n",
              "            await google.colab.kernel.invokeFunction('convertToInteractive',\n",
              "                                                     [key], {});\n",
              "          if (!dataTable) return;\n",
              "\n",
              "          const docLinkHtml = 'Like what you see? Visit the ' +\n",
              "            '<a target=\"_blank\" href=https://colab.research.google.com/notebooks/data_table.ipynb>data table notebook</a>'\n",
              "            + ' to learn more about interactive tables.';\n",
              "          element.innerHTML = '';\n",
              "          dataTable['output_type'] = 'display_data';\n",
              "          await google.colab.output.renderOutput(dataTable, element);\n",
              "          const docLink = document.createElement('div');\n",
              "          docLink.innerHTML = docLinkHtml;\n",
              "          element.appendChild(docLink);\n",
              "        }\n",
              "      </script>\n",
              "    </div>\n",
              "  </div>\n",
              "  "
            ]
          },
          "metadata": {},
          "execution_count": 42
        }
      ]
    },
    {
      "cell_type": "code",
      "source": [
        "df1['marks']=df1['marks'].fillna(value=df1['marks'].mean())\n",
        "df1"
      ],
      "metadata": {
        "colab": {
          "base_uri": "https://localhost:8080/",
          "height": 175
        },
        "id": "Q_9sg7hIj-Y7",
        "outputId": "b0719c1c-c6e1-446c-fa25-e109eef3a566"
      },
      "execution_count": null,
      "outputs": [
        {
          "output_type": "execute_result",
          "data": {
            "text/plain": [
              "    name  marks\n",
              "0  Arpit   34.0\n",
              "1   Arun   23.0\n",
              "2   Abhi   34.0\n",
              "3  Arbaz   45.0"
            ],
            "text/html": [
              "\n",
              "  <div id=\"df-f430c9f7-6ad9-4429-a496-662fce1e7f50\">\n",
              "    <div class=\"colab-df-container\">\n",
              "      <div>\n",
              "<style scoped>\n",
              "    .dataframe tbody tr th:only-of-type {\n",
              "        vertical-align: middle;\n",
              "    }\n",
              "\n",
              "    .dataframe tbody tr th {\n",
              "        vertical-align: top;\n",
              "    }\n",
              "\n",
              "    .dataframe thead th {\n",
              "        text-align: right;\n",
              "    }\n",
              "</style>\n",
              "<table border=\"1\" class=\"dataframe\">\n",
              "  <thead>\n",
              "    <tr style=\"text-align: right;\">\n",
              "      <th></th>\n",
              "      <th>name</th>\n",
              "      <th>marks</th>\n",
              "    </tr>\n",
              "  </thead>\n",
              "  <tbody>\n",
              "    <tr>\n",
              "      <th>0</th>\n",
              "      <td>Arpit</td>\n",
              "      <td>34.0</td>\n",
              "    </tr>\n",
              "    <tr>\n",
              "      <th>1</th>\n",
              "      <td>Arun</td>\n",
              "      <td>23.0</td>\n",
              "    </tr>\n",
              "    <tr>\n",
              "      <th>2</th>\n",
              "      <td>Abhi</td>\n",
              "      <td>34.0</td>\n",
              "    </tr>\n",
              "    <tr>\n",
              "      <th>3</th>\n",
              "      <td>Arbaz</td>\n",
              "      <td>45.0</td>\n",
              "    </tr>\n",
              "  </tbody>\n",
              "</table>\n",
              "</div>\n",
              "      <button class=\"colab-df-convert\" onclick=\"convertToInteractive('df-f430c9f7-6ad9-4429-a496-662fce1e7f50')\"\n",
              "              title=\"Convert this dataframe to an interactive table.\"\n",
              "              style=\"display:none;\">\n",
              "        \n",
              "  <svg xmlns=\"http://www.w3.org/2000/svg\" height=\"24px\"viewBox=\"0 0 24 24\"\n",
              "       width=\"24px\">\n",
              "    <path d=\"M0 0h24v24H0V0z\" fill=\"none\"/>\n",
              "    <path d=\"M18.56 5.44l.94 2.06.94-2.06 2.06-.94-2.06-.94-.94-2.06-.94 2.06-2.06.94zm-11 1L8.5 8.5l.94-2.06 2.06-.94-2.06-.94L8.5 2.5l-.94 2.06-2.06.94zm10 10l.94 2.06.94-2.06 2.06-.94-2.06-.94-.94-2.06-.94 2.06-2.06.94z\"/><path d=\"M17.41 7.96l-1.37-1.37c-.4-.4-.92-.59-1.43-.59-.52 0-1.04.2-1.43.59L10.3 9.45l-7.72 7.72c-.78.78-.78 2.05 0 2.83L4 21.41c.39.39.9.59 1.41.59.51 0 1.02-.2 1.41-.59l7.78-7.78 2.81-2.81c.8-.78.8-2.07 0-2.86zM5.41 20L4 18.59l7.72-7.72 1.47 1.35L5.41 20z\"/>\n",
              "  </svg>\n",
              "      </button>\n",
              "      \n",
              "  <style>\n",
              "    .colab-df-container {\n",
              "      display:flex;\n",
              "      flex-wrap:wrap;\n",
              "      gap: 12px;\n",
              "    }\n",
              "\n",
              "    .colab-df-convert {\n",
              "      background-color: #E8F0FE;\n",
              "      border: none;\n",
              "      border-radius: 50%;\n",
              "      cursor: pointer;\n",
              "      display: none;\n",
              "      fill: #1967D2;\n",
              "      height: 32px;\n",
              "      padding: 0 0 0 0;\n",
              "      width: 32px;\n",
              "    }\n",
              "\n",
              "    .colab-df-convert:hover {\n",
              "      background-color: #E2EBFA;\n",
              "      box-shadow: 0px 1px 2px rgba(60, 64, 67, 0.3), 0px 1px 3px 1px rgba(60, 64, 67, 0.15);\n",
              "      fill: #174EA6;\n",
              "    }\n",
              "\n",
              "    [theme=dark] .colab-df-convert {\n",
              "      background-color: #3B4455;\n",
              "      fill: #D2E3FC;\n",
              "    }\n",
              "\n",
              "    [theme=dark] .colab-df-convert:hover {\n",
              "      background-color: #434B5C;\n",
              "      box-shadow: 0px 1px 3px 1px rgba(0, 0, 0, 0.15);\n",
              "      filter: drop-shadow(0px 1px 2px rgba(0, 0, 0, 0.3));\n",
              "      fill: #FFFFFF;\n",
              "    }\n",
              "  </style>\n",
              "\n",
              "      <script>\n",
              "        const buttonEl =\n",
              "          document.querySelector('#df-f430c9f7-6ad9-4429-a496-662fce1e7f50 button.colab-df-convert');\n",
              "        buttonEl.style.display =\n",
              "          google.colab.kernel.accessAllowed ? 'block' : 'none';\n",
              "\n",
              "        async function convertToInteractive(key) {\n",
              "          const element = document.querySelector('#df-f430c9f7-6ad9-4429-a496-662fce1e7f50');\n",
              "          const dataTable =\n",
              "            await google.colab.kernel.invokeFunction('convertToInteractive',\n",
              "                                                     [key], {});\n",
              "          if (!dataTable) return;\n",
              "\n",
              "          const docLinkHtml = 'Like what you see? Visit the ' +\n",
              "            '<a target=\"_blank\" href=https://colab.research.google.com/notebooks/data_table.ipynb>data table notebook</a>'\n",
              "            + ' to learn more about interactive tables.';\n",
              "          element.innerHTML = '';\n",
              "          dataTable['output_type'] = 'display_data';\n",
              "          await google.colab.output.renderOutput(dataTable, element);\n",
              "          const docLink = document.createElement('div');\n",
              "          docLink.innerHTML = docLinkHtml;\n",
              "          element.appendChild(docLink);\n",
              "        }\n",
              "      </script>\n",
              "    </div>\n",
              "  </div>\n",
              "  "
            ]
          },
          "metadata": {},
          "execution_count": 43
        }
      ]
    },
    {
      "cell_type": "code",
      "source": [
        "df['play'].value_counts()"
      ],
      "metadata": {
        "colab": {
          "base_uri": "https://localhost:8080/"
        },
        "id": "a_J3rzTtk0Z4",
        "outputId": "cb3b67a2-eea6-4d03-e824-d9b866fb343b"
      },
      "execution_count": null,
      "outputs": [
        {
          "output_type": "execute_result",
          "data": {
            "text/plain": [
              "Yes    9\n",
              "No     5\n",
              "Name: play, dtype: int64"
            ]
          },
          "metadata": {},
          "execution_count": 48
        }
      ]
    },
    {
      "cell_type": "code",
      "source": [
        "df['play'].value_counts()['Yes']"
      ],
      "metadata": {
        "colab": {
          "base_uri": "https://localhost:8080/"
        },
        "id": "ByVGU12JlkfP",
        "outputId": "e0f621f7-b305-47f0-9059-9ba32f854685"
      },
      "execution_count": null,
      "outputs": [
        {
          "output_type": "execute_result",
          "data": {
            "text/plain": [
              "9"
            ]
          },
          "metadata": {},
          "execution_count": 53
        }
      ]
    },
    {
      "cell_type": "markdown",
      "source": [
        "05/09/22_____Monday"
      ],
      "metadata": {
        "id": "HTBbqhyf697L"
      }
    },
    {
      "cell_type": "code",
      "source": [
        "import pandas as pd"
      ],
      "metadata": {
        "id": "ve2ljDQN67vQ"
      },
      "execution_count": null,
      "outputs": []
    },
    {
      "cell_type": "code",
      "source": [
        "data=[['ind',1997,1,2,3],\n",
        "      ['ind',1998,1,3,4],\n",
        "      ['ind',1999,2,3,1],\n",
        "      ['aus',1997,20,25,30],\n",
        "      ['aus',1998,20,25,32],\n",
        "      ['us',1997,30,40,56]]"
      ],
      "metadata": {
        "id": "ybwOLqwY9N3H"
      },
      "execution_count": null,
      "outputs": []
    },
    {
      "cell_type": "code",
      "source": [
        "df=pd.DataFrame(data,columns=['country','year','gold','silver','bronze'])\n",
        "df"
      ],
      "metadata": {
        "colab": {
          "base_uri": "https://localhost:8080/",
          "height": 237
        },
        "id": "mQS7WhQn-nAL",
        "outputId": "60edc686-fc04-4ae9-d0fb-3c4e303e2364"
      },
      "execution_count": null,
      "outputs": [
        {
          "output_type": "execute_result",
          "data": {
            "text/plain": [
              "  country  year  gold  silver  bronze\n",
              "0     ind  1997     1       2       3\n",
              "1     ind  1998     1       3       4\n",
              "2     ind  1999     2       3       1\n",
              "3     aus  1997    20      25      30\n",
              "4     aus  1998    20      25      32\n",
              "5      us  1997    30      40      56"
            ],
            "text/html": [
              "\n",
              "  <div id=\"df-172b30a1-0d0a-4a59-9deb-0cf5178245c4\">\n",
              "    <div class=\"colab-df-container\">\n",
              "      <div>\n",
              "<style scoped>\n",
              "    .dataframe tbody tr th:only-of-type {\n",
              "        vertical-align: middle;\n",
              "    }\n",
              "\n",
              "    .dataframe tbody tr th {\n",
              "        vertical-align: top;\n",
              "    }\n",
              "\n",
              "    .dataframe thead th {\n",
              "        text-align: right;\n",
              "    }\n",
              "</style>\n",
              "<table border=\"1\" class=\"dataframe\">\n",
              "  <thead>\n",
              "    <tr style=\"text-align: right;\">\n",
              "      <th></th>\n",
              "      <th>country</th>\n",
              "      <th>year</th>\n",
              "      <th>gold</th>\n",
              "      <th>silver</th>\n",
              "      <th>bronze</th>\n",
              "    </tr>\n",
              "  </thead>\n",
              "  <tbody>\n",
              "    <tr>\n",
              "      <th>0</th>\n",
              "      <td>ind</td>\n",
              "      <td>1997</td>\n",
              "      <td>1</td>\n",
              "      <td>2</td>\n",
              "      <td>3</td>\n",
              "    </tr>\n",
              "    <tr>\n",
              "      <th>1</th>\n",
              "      <td>ind</td>\n",
              "      <td>1998</td>\n",
              "      <td>1</td>\n",
              "      <td>3</td>\n",
              "      <td>4</td>\n",
              "    </tr>\n",
              "    <tr>\n",
              "      <th>2</th>\n",
              "      <td>ind</td>\n",
              "      <td>1999</td>\n",
              "      <td>2</td>\n",
              "      <td>3</td>\n",
              "      <td>1</td>\n",
              "    </tr>\n",
              "    <tr>\n",
              "      <th>3</th>\n",
              "      <td>aus</td>\n",
              "      <td>1997</td>\n",
              "      <td>20</td>\n",
              "      <td>25</td>\n",
              "      <td>30</td>\n",
              "    </tr>\n",
              "    <tr>\n",
              "      <th>4</th>\n",
              "      <td>aus</td>\n",
              "      <td>1998</td>\n",
              "      <td>20</td>\n",
              "      <td>25</td>\n",
              "      <td>32</td>\n",
              "    </tr>\n",
              "    <tr>\n",
              "      <th>5</th>\n",
              "      <td>us</td>\n",
              "      <td>1997</td>\n",
              "      <td>30</td>\n",
              "      <td>40</td>\n",
              "      <td>56</td>\n",
              "    </tr>\n",
              "  </tbody>\n",
              "</table>\n",
              "</div>\n",
              "      <button class=\"colab-df-convert\" onclick=\"convertToInteractive('df-172b30a1-0d0a-4a59-9deb-0cf5178245c4')\"\n",
              "              title=\"Convert this dataframe to an interactive table.\"\n",
              "              style=\"display:none;\">\n",
              "        \n",
              "  <svg xmlns=\"http://www.w3.org/2000/svg\" height=\"24px\"viewBox=\"0 0 24 24\"\n",
              "       width=\"24px\">\n",
              "    <path d=\"M0 0h24v24H0V0z\" fill=\"none\"/>\n",
              "    <path d=\"M18.56 5.44l.94 2.06.94-2.06 2.06-.94-2.06-.94-.94-2.06-.94 2.06-2.06.94zm-11 1L8.5 8.5l.94-2.06 2.06-.94-2.06-.94L8.5 2.5l-.94 2.06-2.06.94zm10 10l.94 2.06.94-2.06 2.06-.94-2.06-.94-.94-2.06-.94 2.06-2.06.94z\"/><path d=\"M17.41 7.96l-1.37-1.37c-.4-.4-.92-.59-1.43-.59-.52 0-1.04.2-1.43.59L10.3 9.45l-7.72 7.72c-.78.78-.78 2.05 0 2.83L4 21.41c.39.39.9.59 1.41.59.51 0 1.02-.2 1.41-.59l7.78-7.78 2.81-2.81c.8-.78.8-2.07 0-2.86zM5.41 20L4 18.59l7.72-7.72 1.47 1.35L5.41 20z\"/>\n",
              "  </svg>\n",
              "      </button>\n",
              "      \n",
              "  <style>\n",
              "    .colab-df-container {\n",
              "      display:flex;\n",
              "      flex-wrap:wrap;\n",
              "      gap: 12px;\n",
              "    }\n",
              "\n",
              "    .colab-df-convert {\n",
              "      background-color: #E8F0FE;\n",
              "      border: none;\n",
              "      border-radius: 50%;\n",
              "      cursor: pointer;\n",
              "      display: none;\n",
              "      fill: #1967D2;\n",
              "      height: 32px;\n",
              "      padding: 0 0 0 0;\n",
              "      width: 32px;\n",
              "    }\n",
              "\n",
              "    .colab-df-convert:hover {\n",
              "      background-color: #E2EBFA;\n",
              "      box-shadow: 0px 1px 2px rgba(60, 64, 67, 0.3), 0px 1px 3px 1px rgba(60, 64, 67, 0.15);\n",
              "      fill: #174EA6;\n",
              "    }\n",
              "\n",
              "    [theme=dark] .colab-df-convert {\n",
              "      background-color: #3B4455;\n",
              "      fill: #D2E3FC;\n",
              "    }\n",
              "\n",
              "    [theme=dark] .colab-df-convert:hover {\n",
              "      background-color: #434B5C;\n",
              "      box-shadow: 0px 1px 3px 1px rgba(0, 0, 0, 0.15);\n",
              "      filter: drop-shadow(0px 1px 2px rgba(0, 0, 0, 0.3));\n",
              "      fill: #FFFFFF;\n",
              "    }\n",
              "  </style>\n",
              "\n",
              "      <script>\n",
              "        const buttonEl =\n",
              "          document.querySelector('#df-172b30a1-0d0a-4a59-9deb-0cf5178245c4 button.colab-df-convert');\n",
              "        buttonEl.style.display =\n",
              "          google.colab.kernel.accessAllowed ? 'block' : 'none';\n",
              "\n",
              "        async function convertToInteractive(key) {\n",
              "          const element = document.querySelector('#df-172b30a1-0d0a-4a59-9deb-0cf5178245c4');\n",
              "          const dataTable =\n",
              "            await google.colab.kernel.invokeFunction('convertToInteractive',\n",
              "                                                     [key], {});\n",
              "          if (!dataTable) return;\n",
              "\n",
              "          const docLinkHtml = 'Like what you see? Visit the ' +\n",
              "            '<a target=\"_blank\" href=https://colab.research.google.com/notebooks/data_table.ipynb>data table notebook</a>'\n",
              "            + ' to learn more about interactive tables.';\n",
              "          element.innerHTML = '';\n",
              "          dataTable['output_type'] = 'display_data';\n",
              "          await google.colab.output.renderOutput(dataTable, element);\n",
              "          const docLink = document.createElement('div');\n",
              "          docLink.innerHTML = docLinkHtml;\n",
              "          element.appendChild(docLink);\n",
              "        }\n",
              "      </script>\n",
              "    </div>\n",
              "  </div>\n",
              "  "
            ]
          },
          "metadata": {},
          "execution_count": 8
        }
      ]
    },
    {
      "cell_type": "code",
      "source": [
        "li=[]\n",
        "group=df.groupby('country')\n",
        "for x,y in group:\n",
        "  print(x)\n",
        "  print(y)"
      ],
      "metadata": {
        "colab": {
          "base_uri": "https://localhost:8080/"
        },
        "id": "rI3NL6Jl_w3Q",
        "outputId": "3bb1c30f-2c24-4d57-d907-ebeadcab7ecd"
      },
      "execution_count": null,
      "outputs": [
        {
          "output_type": "stream",
          "name": "stdout",
          "text": [
            "aus\n",
            "  country  year  gold  silver  bronze\n",
            "3     aus  1997    20      25      30\n",
            "4     aus  1998    20      25      32\n",
            "ind\n",
            "  country  year  gold  silver  bronze\n",
            "0     ind  1997     1       2       3\n",
            "1     ind  1998     1       3       4\n",
            "2     ind  1999     2       3       1\n",
            "us\n",
            "  country  year  gold  silver  bronze\n",
            "5      us  1997    30      40      56\n"
          ]
        }
      ]
    },
    {
      "cell_type": "code",
      "source": [
        "li=[]\n",
        "group=df.groupby('country')\n",
        "for x,y in group:\n",
        "  if x=='ind':\n",
        "    li=y.values.tolist()\n",
        "li"
      ],
      "metadata": {
        "colab": {
          "base_uri": "https://localhost:8080/"
        },
        "id": "D8cHXxs798e0",
        "outputId": "bdb7f13f-e8e2-48fd-f2b8-c11a47b4fd6f"
      },
      "execution_count": null,
      "outputs": [
        {
          "output_type": "execute_result",
          "data": {
            "text/plain": [
              "[['ind', 1997, 1, 2, 3], ['ind', 1998, 1, 3, 4], ['ind', 1999, 2, 3, 1]]"
            ]
          },
          "metadata": {},
          "execution_count": 17
        }
      ]
    },
    {
      "cell_type": "code",
      "source": [
        "li=[]\n",
        "group=df.groupby('country')\n",
        "for x,y in group:\n",
        "  if x=='ind':\n",
        "    li=y.values.tolist()\n",
        "newdf=pd.DataFrame(li,columns=['country','year','gold','silver','bronze'])\n",
        "newdf"
      ],
      "metadata": {
        "colab": {
          "base_uri": "https://localhost:8080/",
          "height": 143
        },
        "id": "OQOkrsiO_lQ4",
        "outputId": "61002ed2-104c-4a46-e99d-957896fbfb14"
      },
      "execution_count": null,
      "outputs": [
        {
          "output_type": "execute_result",
          "data": {
            "text/plain": [
              "  country  year  gold  silver  bronze\n",
              "0     ind  1997     1       2       3\n",
              "1     ind  1998     1       3       4\n",
              "2     ind  1999     2       3       1"
            ],
            "text/html": [
              "\n",
              "  <div id=\"df-da2444a6-a07a-44b0-9cb8-a1384ff59530\">\n",
              "    <div class=\"colab-df-container\">\n",
              "      <div>\n",
              "<style scoped>\n",
              "    .dataframe tbody tr th:only-of-type {\n",
              "        vertical-align: middle;\n",
              "    }\n",
              "\n",
              "    .dataframe tbody tr th {\n",
              "        vertical-align: top;\n",
              "    }\n",
              "\n",
              "    .dataframe thead th {\n",
              "        text-align: right;\n",
              "    }\n",
              "</style>\n",
              "<table border=\"1\" class=\"dataframe\">\n",
              "  <thead>\n",
              "    <tr style=\"text-align: right;\">\n",
              "      <th></th>\n",
              "      <th>country</th>\n",
              "      <th>year</th>\n",
              "      <th>gold</th>\n",
              "      <th>silver</th>\n",
              "      <th>bronze</th>\n",
              "    </tr>\n",
              "  </thead>\n",
              "  <tbody>\n",
              "    <tr>\n",
              "      <th>0</th>\n",
              "      <td>ind</td>\n",
              "      <td>1997</td>\n",
              "      <td>1</td>\n",
              "      <td>2</td>\n",
              "      <td>3</td>\n",
              "    </tr>\n",
              "    <tr>\n",
              "      <th>1</th>\n",
              "      <td>ind</td>\n",
              "      <td>1998</td>\n",
              "      <td>1</td>\n",
              "      <td>3</td>\n",
              "      <td>4</td>\n",
              "    </tr>\n",
              "    <tr>\n",
              "      <th>2</th>\n",
              "      <td>ind</td>\n",
              "      <td>1999</td>\n",
              "      <td>2</td>\n",
              "      <td>3</td>\n",
              "      <td>1</td>\n",
              "    </tr>\n",
              "  </tbody>\n",
              "</table>\n",
              "</div>\n",
              "      <button class=\"colab-df-convert\" onclick=\"convertToInteractive('df-da2444a6-a07a-44b0-9cb8-a1384ff59530')\"\n",
              "              title=\"Convert this dataframe to an interactive table.\"\n",
              "              style=\"display:none;\">\n",
              "        \n",
              "  <svg xmlns=\"http://www.w3.org/2000/svg\" height=\"24px\"viewBox=\"0 0 24 24\"\n",
              "       width=\"24px\">\n",
              "    <path d=\"M0 0h24v24H0V0z\" fill=\"none\"/>\n",
              "    <path d=\"M18.56 5.44l.94 2.06.94-2.06 2.06-.94-2.06-.94-.94-2.06-.94 2.06-2.06.94zm-11 1L8.5 8.5l.94-2.06 2.06-.94-2.06-.94L8.5 2.5l-.94 2.06-2.06.94zm10 10l.94 2.06.94-2.06 2.06-.94-2.06-.94-.94-2.06-.94 2.06-2.06.94z\"/><path d=\"M17.41 7.96l-1.37-1.37c-.4-.4-.92-.59-1.43-.59-.52 0-1.04.2-1.43.59L10.3 9.45l-7.72 7.72c-.78.78-.78 2.05 0 2.83L4 21.41c.39.39.9.59 1.41.59.51 0 1.02-.2 1.41-.59l7.78-7.78 2.81-2.81c.8-.78.8-2.07 0-2.86zM5.41 20L4 18.59l7.72-7.72 1.47 1.35L5.41 20z\"/>\n",
              "  </svg>\n",
              "      </button>\n",
              "      \n",
              "  <style>\n",
              "    .colab-df-container {\n",
              "      display:flex;\n",
              "      flex-wrap:wrap;\n",
              "      gap: 12px;\n",
              "    }\n",
              "\n",
              "    .colab-df-convert {\n",
              "      background-color: #E8F0FE;\n",
              "      border: none;\n",
              "      border-radius: 50%;\n",
              "      cursor: pointer;\n",
              "      display: none;\n",
              "      fill: #1967D2;\n",
              "      height: 32px;\n",
              "      padding: 0 0 0 0;\n",
              "      width: 32px;\n",
              "    }\n",
              "\n",
              "    .colab-df-convert:hover {\n",
              "      background-color: #E2EBFA;\n",
              "      box-shadow: 0px 1px 2px rgba(60, 64, 67, 0.3), 0px 1px 3px 1px rgba(60, 64, 67, 0.15);\n",
              "      fill: #174EA6;\n",
              "    }\n",
              "\n",
              "    [theme=dark] .colab-df-convert {\n",
              "      background-color: #3B4455;\n",
              "      fill: #D2E3FC;\n",
              "    }\n",
              "\n",
              "    [theme=dark] .colab-df-convert:hover {\n",
              "      background-color: #434B5C;\n",
              "      box-shadow: 0px 1px 3px 1px rgba(0, 0, 0, 0.15);\n",
              "      filter: drop-shadow(0px 1px 2px rgba(0, 0, 0, 0.3));\n",
              "      fill: #FFFFFF;\n",
              "    }\n",
              "  </style>\n",
              "\n",
              "      <script>\n",
              "        const buttonEl =\n",
              "          document.querySelector('#df-da2444a6-a07a-44b0-9cb8-a1384ff59530 button.colab-df-convert');\n",
              "        buttonEl.style.display =\n",
              "          google.colab.kernel.accessAllowed ? 'block' : 'none';\n",
              "\n",
              "        async function convertToInteractive(key) {\n",
              "          const element = document.querySelector('#df-da2444a6-a07a-44b0-9cb8-a1384ff59530');\n",
              "          const dataTable =\n",
              "            await google.colab.kernel.invokeFunction('convertToInteractive',\n",
              "                                                     [key], {});\n",
              "          if (!dataTable) return;\n",
              "\n",
              "          const docLinkHtml = 'Like what you see? Visit the ' +\n",
              "            '<a target=\"_blank\" href=https://colab.research.google.com/notebooks/data_table.ipynb>data table notebook</a>'\n",
              "            + ' to learn more about interactive tables.';\n",
              "          element.innerHTML = '';\n",
              "          dataTable['output_type'] = 'display_data';\n",
              "          await google.colab.output.renderOutput(dataTable, element);\n",
              "          const docLink = document.createElement('div');\n",
              "          docLink.innerHTML = docLinkHtml;\n",
              "          element.appendChild(docLink);\n",
              "        }\n",
              "      </script>\n",
              "    </div>\n",
              "  </div>\n",
              "  "
            ]
          },
          "metadata": {},
          "execution_count": 16
        }
      ]
    },
    {
      "cell_type": "code",
      "source": [
        "li=[]\n",
        "group=df.groupby('country')\n",
        "for x,y in group:\n",
        "  li.append([x,y.shape[0]])\n",
        "newdf=pd.DataFrame(li,columns=['country','noofparticipation'])\n",
        "newdf"
      ],
      "metadata": {
        "colab": {
          "base_uri": "https://localhost:8080/",
          "height": 143
        },
        "id": "MUNB9aaBBO_G",
        "outputId": "a46b5cb5-21f3-4c06-a467-05e0b1ec7f41"
      },
      "execution_count": null,
      "outputs": [
        {
          "output_type": "execute_result",
          "data": {
            "text/plain": [
              "  country  noofparticipation\n",
              "0     aus                  2\n",
              "1     ind                  3\n",
              "2      us                  1"
            ],
            "text/html": [
              "\n",
              "  <div id=\"df-481bd2f6-b14d-4c05-bf43-a156aa6b5223\">\n",
              "    <div class=\"colab-df-container\">\n",
              "      <div>\n",
              "<style scoped>\n",
              "    .dataframe tbody tr th:only-of-type {\n",
              "        vertical-align: middle;\n",
              "    }\n",
              "\n",
              "    .dataframe tbody tr th {\n",
              "        vertical-align: top;\n",
              "    }\n",
              "\n",
              "    .dataframe thead th {\n",
              "        text-align: right;\n",
              "    }\n",
              "</style>\n",
              "<table border=\"1\" class=\"dataframe\">\n",
              "  <thead>\n",
              "    <tr style=\"text-align: right;\">\n",
              "      <th></th>\n",
              "      <th>country</th>\n",
              "      <th>noofparticipation</th>\n",
              "    </tr>\n",
              "  </thead>\n",
              "  <tbody>\n",
              "    <tr>\n",
              "      <th>0</th>\n",
              "      <td>aus</td>\n",
              "      <td>2</td>\n",
              "    </tr>\n",
              "    <tr>\n",
              "      <th>1</th>\n",
              "      <td>ind</td>\n",
              "      <td>3</td>\n",
              "    </tr>\n",
              "    <tr>\n",
              "      <th>2</th>\n",
              "      <td>us</td>\n",
              "      <td>1</td>\n",
              "    </tr>\n",
              "  </tbody>\n",
              "</table>\n",
              "</div>\n",
              "      <button class=\"colab-df-convert\" onclick=\"convertToInteractive('df-481bd2f6-b14d-4c05-bf43-a156aa6b5223')\"\n",
              "              title=\"Convert this dataframe to an interactive table.\"\n",
              "              style=\"display:none;\">\n",
              "        \n",
              "  <svg xmlns=\"http://www.w3.org/2000/svg\" height=\"24px\"viewBox=\"0 0 24 24\"\n",
              "       width=\"24px\">\n",
              "    <path d=\"M0 0h24v24H0V0z\" fill=\"none\"/>\n",
              "    <path d=\"M18.56 5.44l.94 2.06.94-2.06 2.06-.94-2.06-.94-.94-2.06-.94 2.06-2.06.94zm-11 1L8.5 8.5l.94-2.06 2.06-.94-2.06-.94L8.5 2.5l-.94 2.06-2.06.94zm10 10l.94 2.06.94-2.06 2.06-.94-2.06-.94-.94-2.06-.94 2.06-2.06.94z\"/><path d=\"M17.41 7.96l-1.37-1.37c-.4-.4-.92-.59-1.43-.59-.52 0-1.04.2-1.43.59L10.3 9.45l-7.72 7.72c-.78.78-.78 2.05 0 2.83L4 21.41c.39.39.9.59 1.41.59.51 0 1.02-.2 1.41-.59l7.78-7.78 2.81-2.81c.8-.78.8-2.07 0-2.86zM5.41 20L4 18.59l7.72-7.72 1.47 1.35L5.41 20z\"/>\n",
              "  </svg>\n",
              "      </button>\n",
              "      \n",
              "  <style>\n",
              "    .colab-df-container {\n",
              "      display:flex;\n",
              "      flex-wrap:wrap;\n",
              "      gap: 12px;\n",
              "    }\n",
              "\n",
              "    .colab-df-convert {\n",
              "      background-color: #E8F0FE;\n",
              "      border: none;\n",
              "      border-radius: 50%;\n",
              "      cursor: pointer;\n",
              "      display: none;\n",
              "      fill: #1967D2;\n",
              "      height: 32px;\n",
              "      padding: 0 0 0 0;\n",
              "      width: 32px;\n",
              "    }\n",
              "\n",
              "    .colab-df-convert:hover {\n",
              "      background-color: #E2EBFA;\n",
              "      box-shadow: 0px 1px 2px rgba(60, 64, 67, 0.3), 0px 1px 3px 1px rgba(60, 64, 67, 0.15);\n",
              "      fill: #174EA6;\n",
              "    }\n",
              "\n",
              "    [theme=dark] .colab-df-convert {\n",
              "      background-color: #3B4455;\n",
              "      fill: #D2E3FC;\n",
              "    }\n",
              "\n",
              "    [theme=dark] .colab-df-convert:hover {\n",
              "      background-color: #434B5C;\n",
              "      box-shadow: 0px 1px 3px 1px rgba(0, 0, 0, 0.15);\n",
              "      filter: drop-shadow(0px 1px 2px rgba(0, 0, 0, 0.3));\n",
              "      fill: #FFFFFF;\n",
              "    }\n",
              "  </style>\n",
              "\n",
              "      <script>\n",
              "        const buttonEl =\n",
              "          document.querySelector('#df-481bd2f6-b14d-4c05-bf43-a156aa6b5223 button.colab-df-convert');\n",
              "        buttonEl.style.display =\n",
              "          google.colab.kernel.accessAllowed ? 'block' : 'none';\n",
              "\n",
              "        async function convertToInteractive(key) {\n",
              "          const element = document.querySelector('#df-481bd2f6-b14d-4c05-bf43-a156aa6b5223');\n",
              "          const dataTable =\n",
              "            await google.colab.kernel.invokeFunction('convertToInteractive',\n",
              "                                                     [key], {});\n",
              "          if (!dataTable) return;\n",
              "\n",
              "          const docLinkHtml = 'Like what you see? Visit the ' +\n",
              "            '<a target=\"_blank\" href=https://colab.research.google.com/notebooks/data_table.ipynb>data table notebook</a>'\n",
              "            + ' to learn more about interactive tables.';\n",
              "          element.innerHTML = '';\n",
              "          dataTable['output_type'] = 'display_data';\n",
              "          await google.colab.output.renderOutput(dataTable, element);\n",
              "          const docLink = document.createElement('div');\n",
              "          docLink.innerHTML = docLinkHtml;\n",
              "          element.appendChild(docLink);\n",
              "        }\n",
              "      </script>\n",
              "    </div>\n",
              "  </div>\n",
              "  "
            ]
          },
          "metadata": {},
          "execution_count": 20
        }
      ]
    },
    {
      "cell_type": "code",
      "source": [
        "li=[]\n",
        "group=df.groupby('country')\n",
        "for x,y in group:\n",
        "  li.append([x,y['gold'].sum(),y['silver'].sum()])\n",
        "newdf=pd.DataFrame(li,columns=['country','gold','silver'])\n",
        "newdf"
      ],
      "metadata": {
        "colab": {
          "base_uri": "https://localhost:8080/",
          "height": 143
        },
        "id": "wWomwpQoCSGh",
        "outputId": "ed6639c5-81f8-45fa-a023-e1d626ad46d7"
      },
      "execution_count": null,
      "outputs": [
        {
          "output_type": "execute_result",
          "data": {
            "text/plain": [
              "  country  gold  silver\n",
              "0     aus    40      50\n",
              "1     ind     4       8\n",
              "2      us    30      40"
            ],
            "text/html": [
              "\n",
              "  <div id=\"df-a9a3e758-a75c-4ece-8d87-9d8ac51ba1f6\">\n",
              "    <div class=\"colab-df-container\">\n",
              "      <div>\n",
              "<style scoped>\n",
              "    .dataframe tbody tr th:only-of-type {\n",
              "        vertical-align: middle;\n",
              "    }\n",
              "\n",
              "    .dataframe tbody tr th {\n",
              "        vertical-align: top;\n",
              "    }\n",
              "\n",
              "    .dataframe thead th {\n",
              "        text-align: right;\n",
              "    }\n",
              "</style>\n",
              "<table border=\"1\" class=\"dataframe\">\n",
              "  <thead>\n",
              "    <tr style=\"text-align: right;\">\n",
              "      <th></th>\n",
              "      <th>country</th>\n",
              "      <th>gold</th>\n",
              "      <th>silver</th>\n",
              "    </tr>\n",
              "  </thead>\n",
              "  <tbody>\n",
              "    <tr>\n",
              "      <th>0</th>\n",
              "      <td>aus</td>\n",
              "      <td>40</td>\n",
              "      <td>50</td>\n",
              "    </tr>\n",
              "    <tr>\n",
              "      <th>1</th>\n",
              "      <td>ind</td>\n",
              "      <td>4</td>\n",
              "      <td>8</td>\n",
              "    </tr>\n",
              "    <tr>\n",
              "      <th>2</th>\n",
              "      <td>us</td>\n",
              "      <td>30</td>\n",
              "      <td>40</td>\n",
              "    </tr>\n",
              "  </tbody>\n",
              "</table>\n",
              "</div>\n",
              "      <button class=\"colab-df-convert\" onclick=\"convertToInteractive('df-a9a3e758-a75c-4ece-8d87-9d8ac51ba1f6')\"\n",
              "              title=\"Convert this dataframe to an interactive table.\"\n",
              "              style=\"display:none;\">\n",
              "        \n",
              "  <svg xmlns=\"http://www.w3.org/2000/svg\" height=\"24px\"viewBox=\"0 0 24 24\"\n",
              "       width=\"24px\">\n",
              "    <path d=\"M0 0h24v24H0V0z\" fill=\"none\"/>\n",
              "    <path d=\"M18.56 5.44l.94 2.06.94-2.06 2.06-.94-2.06-.94-.94-2.06-.94 2.06-2.06.94zm-11 1L8.5 8.5l.94-2.06 2.06-.94-2.06-.94L8.5 2.5l-.94 2.06-2.06.94zm10 10l.94 2.06.94-2.06 2.06-.94-2.06-.94-.94-2.06-.94 2.06-2.06.94z\"/><path d=\"M17.41 7.96l-1.37-1.37c-.4-.4-.92-.59-1.43-.59-.52 0-1.04.2-1.43.59L10.3 9.45l-7.72 7.72c-.78.78-.78 2.05 0 2.83L4 21.41c.39.39.9.59 1.41.59.51 0 1.02-.2 1.41-.59l7.78-7.78 2.81-2.81c.8-.78.8-2.07 0-2.86zM5.41 20L4 18.59l7.72-7.72 1.47 1.35L5.41 20z\"/>\n",
              "  </svg>\n",
              "      </button>\n",
              "      \n",
              "  <style>\n",
              "    .colab-df-container {\n",
              "      display:flex;\n",
              "      flex-wrap:wrap;\n",
              "      gap: 12px;\n",
              "    }\n",
              "\n",
              "    .colab-df-convert {\n",
              "      background-color: #E8F0FE;\n",
              "      border: none;\n",
              "      border-radius: 50%;\n",
              "      cursor: pointer;\n",
              "      display: none;\n",
              "      fill: #1967D2;\n",
              "      height: 32px;\n",
              "      padding: 0 0 0 0;\n",
              "      width: 32px;\n",
              "    }\n",
              "\n",
              "    .colab-df-convert:hover {\n",
              "      background-color: #E2EBFA;\n",
              "      box-shadow: 0px 1px 2px rgba(60, 64, 67, 0.3), 0px 1px 3px 1px rgba(60, 64, 67, 0.15);\n",
              "      fill: #174EA6;\n",
              "    }\n",
              "\n",
              "    [theme=dark] .colab-df-convert {\n",
              "      background-color: #3B4455;\n",
              "      fill: #D2E3FC;\n",
              "    }\n",
              "\n",
              "    [theme=dark] .colab-df-convert:hover {\n",
              "      background-color: #434B5C;\n",
              "      box-shadow: 0px 1px 3px 1px rgba(0, 0, 0, 0.15);\n",
              "      filter: drop-shadow(0px 1px 2px rgba(0, 0, 0, 0.3));\n",
              "      fill: #FFFFFF;\n",
              "    }\n",
              "  </style>\n",
              "\n",
              "      <script>\n",
              "        const buttonEl =\n",
              "          document.querySelector('#df-a9a3e758-a75c-4ece-8d87-9d8ac51ba1f6 button.colab-df-convert');\n",
              "        buttonEl.style.display =\n",
              "          google.colab.kernel.accessAllowed ? 'block' : 'none';\n",
              "\n",
              "        async function convertToInteractive(key) {\n",
              "          const element = document.querySelector('#df-a9a3e758-a75c-4ece-8d87-9d8ac51ba1f6');\n",
              "          const dataTable =\n",
              "            await google.colab.kernel.invokeFunction('convertToInteractive',\n",
              "                                                     [key], {});\n",
              "          if (!dataTable) return;\n",
              "\n",
              "          const docLinkHtml = 'Like what you see? Visit the ' +\n",
              "            '<a target=\"_blank\" href=https://colab.research.google.com/notebooks/data_table.ipynb>data table notebook</a>'\n",
              "            + ' to learn more about interactive tables.';\n",
              "          element.innerHTML = '';\n",
              "          dataTable['output_type'] = 'display_data';\n",
              "          await google.colab.output.renderOutput(dataTable, element);\n",
              "          const docLink = document.createElement('div');\n",
              "          docLink.innerHTML = docLinkHtml;\n",
              "          element.appendChild(docLink);\n",
              "        }\n",
              "      </script>\n",
              "    </div>\n",
              "  </div>\n",
              "  "
            ]
          },
          "metadata": {},
          "execution_count": 25
        }
      ]
    },
    {
      "cell_type": "code",
      "source": [
        "from google.colab import files\n",
        "uploaded=files.upload()"
      ],
      "metadata": {
        "colab": {
          "resources": {
            "http://localhost:8080/nbextensions/google.colab/files.js": {
              "data": "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",
              "ok": true,
              "headers": [
                [
                  "content-type",
                  "application/javascript"
                ]
              ],
              "status": 200,
              "status_text": ""
            }
          },
          "base_uri": "https://localhost:8080/",
          "height": 74
        },
        "id": "5ziLFYneEjC9",
        "outputId": "f12bdf5e-f7c4-4887-94d5-72c4c9fbfda1"
      },
      "execution_count": null,
      "outputs": [
        {
          "output_type": "display_data",
          "data": {
            "text/plain": [
              "<IPython.core.display.HTML object>"
            ],
            "text/html": [
              "\n",
              "     <input type=\"file\" id=\"files-4544ce09-7b64-4071-80e1-79a0deb5a2be\" name=\"files[]\" multiple disabled\n",
              "        style=\"border:none\" />\n",
              "     <output id=\"result-4544ce09-7b64-4071-80e1-79a0deb5a2be\">\n",
              "      Upload widget is only available when the cell has been executed in the\n",
              "      current browser session. Please rerun this cell to enable.\n",
              "      </output>\n",
              "      <script src=\"/nbextensions/google.colab/files.js\"></script> "
            ]
          },
          "metadata": {}
        },
        {
          "output_type": "stream",
          "name": "stdout",
          "text": [
            "Saving play_tennis.xlsx to play_tennis.xlsx\n"
          ]
        }
      ]
    },
    {
      "cell_type": "code",
      "source": [
        "df=pd.read_excel(uploaded['play_tennis.xlsx'])"
      ],
      "metadata": {
        "id": "MKhJwY23FPep"
      },
      "execution_count": null,
      "outputs": []
    },
    {
      "cell_type": "code",
      "source": [
        "df.play.value_counts()"
      ],
      "metadata": {
        "colab": {
          "base_uri": "https://localhost:8080/"
        },
        "id": "eD1WmpqTFdcv",
        "outputId": "dcb57f56-ec06-4ab6-b7c3-56faf0c3b489"
      },
      "execution_count": null,
      "outputs": [
        {
          "output_type": "execute_result",
          "data": {
            "text/plain": [
              "Yes    9\n",
              "No     5\n",
              "Name: play, dtype: int64"
            ]
          },
          "metadata": {},
          "execution_count": 29
        }
      ]
    },
    {
      "cell_type": "code",
      "source": [
        "df['play'].value_counts()"
      ],
      "metadata": {
        "colab": {
          "base_uri": "https://localhost:8080/"
        },
        "id": "XNvydZNXFNRe",
        "outputId": "882bc58b-1e0a-4a04-c2bd-92749f5892a9"
      },
      "execution_count": null,
      "outputs": [
        {
          "output_type": "execute_result",
          "data": {
            "text/plain": [
              "Yes    9\n",
              "No     5\n",
              "Name: play, dtype: int64"
            ]
          },
          "metadata": {},
          "execution_count": 28
        }
      ]
    },
    {
      "cell_type": "code",
      "source": [
        "df.outlook.value_counts()"
      ],
      "metadata": {
        "colab": {
          "base_uri": "https://localhost:8080/"
        },
        "id": "ffes5wkLFh8j",
        "outputId": "7f4845ec-b15b-4a08-994c-793560948932"
      },
      "execution_count": null,
      "outputs": [
        {
          "output_type": "execute_result",
          "data": {
            "text/plain": [
              "Sunny       5\n",
              "Rain        5\n",
              "Overcast    4\n",
              "Name: outlook, dtype: int64"
            ]
          },
          "metadata": {},
          "execution_count": 30
        }
      ]
    },
    {
      "cell_type": "code",
      "source": [
        "import matplotlib.pyplot as plt"
      ],
      "metadata": {
        "id": "2Qa5UdywGVxx"
      },
      "execution_count": null,
      "outputs": []
    },
    {
      "cell_type": "code",
      "source": [
        "plt.plot(newdf['country'],newdf['gold'])"
      ],
      "metadata": {
        "colab": {
          "base_uri": "https://localhost:8080/",
          "height": 282
        },
        "id": "ajFQyQqLGn_w",
        "outputId": "7de420bb-8027-4861-90ce-4557c8e6c66d"
      },
      "execution_count": null,
      "outputs": [
        {
          "output_type": "execute_result",
          "data": {
            "text/plain": [
              "[<matplotlib.lines.Line2D at 0x7efc7c922fd0>]"
            ]
          },
          "metadata": {},
          "execution_count": 32
        },
        {
          "output_type": "display_data",
          "data": {
            "text/plain": [
              "<Figure size 432x288 with 1 Axes>"
            ],
            "image/png": "[encoded data removed]"
          },
          "metadata": {
            "needs_background": "light"
          }
        }
      ]
    },
    {
      "cell_type": "code",
      "source": [
        "plt.bar(newdf['country'],newdf['gold'])"
      ],
      "metadata": {
        "colab": {
          "base_uri": "https://localhost:8080/",
          "height": 282
        },
        "id": "HoLNfEp7HKVz",
        "outputId": "e4b34813-0006-495d-e64a-9a7e4c0d352a"
      },
      "execution_count": null,
      "outputs": [
        {
          "output_type": "execute_result",
          "data": {
            "text/plain": [
              "<BarContainer object of 3 artists>"
            ]
          },
          "metadata": {},
          "execution_count": 33
        },
        {
          "output_type": "display_data",
          "data": {
            "text/plain": [
              "<Figure size 432x288 with 1 Axes>"
            ],
            "image/png": "[encoded data removed]"
          },
          "metadata": {
            "needs_background": "light"
          }
        }
      ]
    },
    {
      "cell_type": "code",
      "source": [
        "plt.pie(newdf['gold'],labels=newdf['country'])"
      ],
      "metadata": {
        "colab": {
          "base_uri": "https://localhost:8080/",
          "height": 352
        },
        "id": "8z9raWJ3HTUk",
        "outputId": "e73b1c71-4373-452d-f7d4-7f4b32e0fba6"
      },
      "execution_count": null,
      "outputs": [
        {
          "output_type": "execute_result",
          "data": {
            "text/plain": [
              "([<matplotlib.patches.Wedge at 0x7efc7c3e8290>,\n",
              "  <matplotlib.patches.Wedge at 0x7efc7c429350>,\n",
              "  <matplotlib.patches.Wedge at 0x7efc7c3e83d0>],\n",
              " [Text(-0.13971951889297426, 1.0910904893913775, 'aus'),\n",
              "  Text(-1.0023514063554155, -0.4530912250058708, 'ind'),\n",
              "  Text(0.32210488671878296, -1.0517834577287666, 'us')])"
            ]
          },
          "metadata": {},
          "execution_count": 34
        },
        {
          "output_type": "display_data",
          "data": {
            "text/plain": [
              "<Figure size 432x288 with 1 Axes>"
            ],
            "image/png": "[encoded data removed]"
          },
          "metadata": {}
        }
      ]
    },
    {
      "cell_type": "code",
      "source": [
        "import numpy as np"
      ],
      "metadata": {
        "id": "ENGgha3gJR5a"
      },
      "execution_count": null,
      "outputs": []
    },
    {
      "cell_type": "code",
      "source": [
        "arr=np.array([1,2,3,4,5])\n",
        "arr.dtype"
      ],
      "metadata": {
        "colab": {
          "base_uri": "https://localhost:8080/"
        },
        "id": "qcrOS-lnJbiB",
        "outputId": "ae67dafc-5531-4062-8b6a-3e59a0bad3b7"
      },
      "execution_count": null,
      "outputs": [
        {
          "output_type": "execute_result",
          "data": {
            "text/plain": [
              "dtype('int64')"
            ]
          },
          "metadata": {},
          "execution_count": 38
        }
      ]
    },
    {
      "cell_type": "code",
      "source": [
        "arr=np.array([1,2,3,4,5],dtype='i4') #32 can be there in place of i4\n",
        "arr.dtype"
      ],
      "metadata": {
        "colab": {
          "base_uri": "https://localhost:8080/"
        },
        "id": "1Vn0bxymJt2_",
        "outputId": "0c28ef3d-059a-4883-ee9e-19897050ffd4"
      },
      "execution_count": null,
      "outputs": [
        {
          "output_type": "execute_result",
          "data": {
            "text/plain": [
              "dtype('int32')"
            ]
          },
          "metadata": {},
          "execution_count": 39
        }
      ]
    },
    {
      "cell_type": "code",
      "source": [
        "arr=np.array([1,2,3,4,5],dtype='i8') #64 can be there in place of i8\n",
        "arr.dtype"
      ],
      "metadata": {
        "colab": {
          "base_uri": "https://localhost:8080/"
        },
        "id": "YN8PXl1GJ9VJ",
        "outputId": "4fccd0aa-22f6-42d3-c501-ed58a9d39c92"
      },
      "execution_count": null,
      "outputs": [
        {
          "output_type": "execute_result",
          "data": {
            "text/plain": [
              "dtype('int64')"
            ]
          },
          "metadata": {},
          "execution_count": 40
        }
      ]
    },
    {
      "cell_type": "code",
      "source": [
        "arr=np.array([1,2,0,4,5,0])\n",
        "arr>0"
      ],
      "metadata": {
        "colab": {
          "base_uri": "https://localhost:8080/"
        },
        "id": "egZvYc5rKCqy",
        "outputId": "4c500e69-92a9-4bb8-de77-53011cd043dd"
      },
      "execution_count": null,
      "outputs": [
        {
          "output_type": "execute_result",
          "data": {
            "text/plain": [
              "array([ True,  True, False,  True,  True, False])"
            ]
          },
          "metadata": {},
          "execution_count": 41
        }
      ]
    },
    {
      "cell_type": "code",
      "source": [
        "arr=np.array([1,2,0,4,5,0])\n",
        "arr[arr>0]"
      ],
      "metadata": {
        "colab": {
          "base_uri": "https://localhost:8080/"
        },
        "id": "xi_9fzwOKgIE",
        "outputId": "a0c7dbf5-80c6-4bf5-e7ee-f172df1a88b5"
      },
      "execution_count": null,
      "outputs": [
        {
          "output_type": "execute_result",
          "data": {
            "text/plain": [
              "array([1, 2, 4, 5])"
            ]
          },
          "metadata": {},
          "execution_count": 42
        }
      ]
    },
    {
      "cell_type": "code",
      "source": [
        "arr=np.array([1,2,0,4,5,0])\n",
        "arr.astype('bool')"
      ],
      "metadata": {
        "colab": {
          "base_uri": "https://localhost:8080/"
        },
        "id": "GsHXluo5KjF5",
        "outputId": "a55de686-e7db-49fd-8785-47d76782f62b"
      },
      "execution_count": null,
      "outputs": [
        {
          "output_type": "execute_result",
          "data": {
            "text/plain": [
              "array([ True,  True, False,  True,  True, False])"
            ]
          },
          "metadata": {},
          "execution_count": 43
        }
      ]
    },
    {
      "cell_type": "code",
      "source": [
        "arr=np.array([[1,2],[3,4],[5,6]])\n",
        "arr[1,1]"
      ],
      "metadata": {
        "colab": {
          "base_uri": "https://localhost:8080/"
        },
        "id": "AMWbv143LfmB",
        "outputId": "bac775e2-5c95-4e40-b626-528b7ffb59c4"
      },
      "execution_count": null,
      "outputs": [
        {
          "output_type": "execute_result",
          "data": {
            "text/plain": [
              "4"
            ]
          },
          "metadata": {},
          "execution_count": 48
        }
      ]
    },
    {
      "cell_type": "code",
      "source": [
        "arr=np.array([[1,2],[3,4],[5,6]])\n",
        "arr[-1]"
      ],
      "metadata": {
        "colab": {
          "base_uri": "https://localhost:8080/"
        },
        "id": "4UO_WxVYK4br",
        "outputId": "f030ef7d-f53d-481f-c867-917f430eac05"
      },
      "execution_count": null,
      "outputs": [
        {
          "output_type": "execute_result",
          "data": {
            "text/plain": [
              "array([5, 6])"
            ]
          },
          "metadata": {},
          "execution_count": 47
        }
      ]
    },
    {
      "cell_type": "code",
      "source": [
        "arr=np.array([[1,2],[3,4],[5,6]])\n",
        "arr.reshape((2,3))"
      ],
      "metadata": {
        "colab": {
          "base_uri": "https://localhost:8080/"
        },
        "id": "z_G5egX4Lrj2",
        "outputId": "f1a9611a-eb9a-43bb-faa7-39250f50eb60"
      },
      "execution_count": null,
      "outputs": [
        {
          "output_type": "execute_result",
          "data": {
            "text/plain": [
              "array([[1, 2, 3],\n",
              "       [4, 5, 6]])"
            ]
          },
          "metadata": {},
          "execution_count": 49
        }
      ]
    },
    {
      "cell_type": "code",
      "source": [
        "arr.shape"
      ],
      "metadata": {
        "colab": {
          "base_uri": "https://localhost:8080/"
        },
        "id": "3WCjfuWHL96U",
        "outputId": "a31f3eb0-e2f9-4d94-ed9c-e18da8a20a03"
      },
      "execution_count": null,
      "outputs": [
        {
          "output_type": "execute_result",
          "data": {
            "text/plain": [
              "(3, 2)"
            ]
          },
          "metadata": {},
          "execution_count": 50
        }
      ]
    },
    {
      "cell_type": "code",
      "source": [
        "arr.ndim"
      ],
      "metadata": {
        "colab": {
          "base_uri": "https://localhost:8080/"
        },
        "id": "ZHTSE4zLL_5U",
        "outputId": "6928f4f7-1691-49b8-a625-92d8ff12e03e"
      },
      "execution_count": null,
      "outputs": [
        {
          "output_type": "execute_result",
          "data": {
            "text/plain": [
              "2"
            ]
          },
          "metadata": {},
          "execution_count": 52
        }
      ]
    },
    {
      "cell_type": "code",
      "source": [
        "arr1=np.array([[1,2],[3,4],[5,6]])\n",
        "arr2=np.array([[3,4],[7,8],[1,6]])\n",
        "np.concatenate((arr1,arr2),axis=1)"
      ],
      "metadata": {
        "colab": {
          "base_uri": "https://localhost:8080/"
        },
        "id": "BQsjburxM_Z_",
        "outputId": "b641ba91-003a-4c76-a323-08e80a8d97aa"
      },
      "execution_count": null,
      "outputs": [
        {
          "output_type": "execute_result",
          "data": {
            "text/plain": [
              "array([[1, 2, 3, 4],\n",
              "       [3, 4, 7, 8],\n",
              "       [5, 6, 1, 6]])"
            ]
          },
          "metadata": {},
          "execution_count": 55
        }
      ]
    },
    {
      "cell_type": "code",
      "source": [
        "arr1=np.array([[1,2],[3,4],[5,6]])\n",
        "arr2=np.array([[3,4],[7,8],[1,6]])\n",
        "np.concatenate((arr1,arr2),axis=0)"
      ],
      "metadata": {
        "colab": {
          "base_uri": "https://localhost:8080/"
        },
        "id": "cTSy74EvMEwk",
        "outputId": "7b4e43db-754f-4368-a1aa-da425dd3b641"
      },
      "execution_count": null,
      "outputs": [
        {
          "output_type": "execute_result",
          "data": {
            "text/plain": [
              "array([[1, 2],\n",
              "       [3, 4],\n",
              "       [5, 6],\n",
              "       [3, 4],\n",
              "       [7, 8],\n",
              "       [1, 6]])"
            ]
          },
          "metadata": {},
          "execution_count": 54
        }
      ]
    },
    {
      "cell_type": "code",
      "source": [
        "arr1=np.array([[1,2],[3,4],[5,6]])\n",
        "arr2=np.array([[3,4],[7,8],[1,6]])\n",
        "np.hstack((arr1,arr2))"
      ],
      "metadata": {
        "id": "nXQBXwoZNIUA",
        "outputId": "64b32932-71b7-4a29-952c-57a359b1ac7c",
        "colab": {
          "base_uri": "https://localhost:8080/"
        }
      },
      "execution_count": null,
      "outputs": [
        {
          "output_type": "execute_result",
          "data": {
            "text/plain": [
              "array([[1, 2, 3, 4],\n",
              "       [3, 4, 7, 8],\n",
              "       [5, 6, 1, 6]])"
            ]
          },
          "metadata": {},
          "execution_count": 57
        }
      ]
    },
    {
      "cell_type": "code",
      "source": [
        "arr1=np.array([[1,2],[3,4],[5,6]])\n",
        "arr2=np.array([[3,4],[7,8],[1,6]])\n",
        "np.vstack((arr1,arr2))"
      ],
      "metadata": {
        "colab": {
          "base_uri": "https://localhost:8080/"
        },
        "id": "_zf_KhrTNBgx",
        "outputId": "d777f6b5-1d72-4828-a7e0-df178c4c3949"
      },
      "execution_count": null,
      "outputs": [
        {
          "output_type": "execute_result",
          "data": {
            "text/plain": [
              "array([[1, 2],\n",
              "       [3, 4],\n",
              "       [5, 6],\n",
              "       [3, 4],\n",
              "       [7, 8],\n",
              "       [1, 6]])"
            ]
          },
          "metadata": {},
          "execution_count": 56
        }
      ]
    }
  ]
}